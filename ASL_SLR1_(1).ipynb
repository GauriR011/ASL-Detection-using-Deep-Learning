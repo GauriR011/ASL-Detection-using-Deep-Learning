{
  "cells": [
    {
      "cell_type": "markdown",
      "id": "0e7cf524",
      "metadata": {
        "id": "0e7cf524"
      },
      "source": [
        "# PROJECT STARTS HERE"
      ]
    },
    {
      "cell_type": "markdown",
      "id": "13f5a983",
      "metadata": {
        "id": "13f5a983"
      },
      "source": [
        "# Importing Libraries and Modules"
      ]
    },
    {
      "cell_type": "code",
      "execution_count": 1,
      "id": "9fea4e4c",
      "metadata": {
        "id": "9fea4e4c"
      },
      "outputs": [
        {
          "name": "stderr",
          "output_type": "stream",
          "text": [
            "C:\\Users\\dr2007\\AppData\\Local\\Temp\\ipykernel_11052\\2279094380.py:10: DeprecationWarning: \n",
            "Pyarrow will become a required dependency of pandas in the next major release of pandas (pandas 3.0),\n",
            "(to allow more performant data types, such as the Arrow string type, and better interoperability with other libraries)\n",
            "but was not found to be installed on your system.\n",
            "If this would cause problems for you,\n",
            "please provide us feedback at https://github.com/pandas-dev/pandas/issues/54466\n",
            "        \n",
            "  import pandas as pd\n"
          ]
        }
      ],
      "source": [
        "import sklearn\n",
        "import matplotlib.pyplot as plt\n",
        "import cv2\n",
        "import numpy as np\n",
        "import os\n",
        "import time\n",
        "# import mediapipe as mp\n",
        "# import csv\n",
        "# import dill\n",
        "import pandas as pd"
      ]
    },
    {
      "cell_type": "code",
      "execution_count": 11,
      "id": "0e210218",
      "metadata": {},
      "outputs": [
        {
          "data": {
            "text/plain": [
              "'2.6.0'"
            ]
          },
          "execution_count": 11,
          "metadata": {},
          "output_type": "execute_result"
        }
      ],
      "source": [
        "# import tensorflow as tf\n",
        "# tf. __version__"
      ]
    },
    {
      "cell_type": "code",
      "execution_count": 2,
      "id": "08f9dd68",
      "metadata": {},
      "outputs": [],
      "source": [
        "# import pandas as pd\n",
        "# !pip3 install --upgrade pandas"
      ]
    },
    {
      "cell_type": "code",
      "execution_count": null,
      "id": "qzZnzDEZ6EMD",
      "metadata": {
        "colab": {
          "base_uri": "https://localhost:8080/"
        },
        "id": "qzZnzDEZ6EMD",
        "outputId": "50b78854-bbd7-465e-a18f-20ba0499c96e"
      },
      "outputs": [
        {
          "name": "stdout",
          "output_type": "stream",
          "text": [
            "Mounted at /content/drive\n"
          ]
        }
      ],
      "source": [
        "# from google.colab import drive\n",
        "# drive.mount('/content/drive')"
      ]
    },
    {
      "cell_type": "code",
      "execution_count": 12,
      "id": "vFlxKLir5VJW",
      "metadata": {
        "colab": {
          "base_uri": "https://localhost:8080/"
        },
        "id": "vFlxKLir5VJW",
        "outputId": "983e6b9d-388f-4899-c984-31125d28782e"
      },
      "outputs": [
        {
          "name": "stdout",
          "output_type": "stream",
          "text": [
            "Fri Feb 23 17:24:44 2024       \n",
            "+---------------------------------------------------------------------------------------+\n",
            "| NVIDIA-SMI 546.12                 Driver Version: 546.12       CUDA Version: 12.3     |\n",
            "|-----------------------------------------+----------------------+----------------------+\n",
            "| GPU  Name                     TCC/WDDM  | Bus-Id        Disp.A | Volatile Uncorr. ECC |\n",
            "| Fan  Temp   Perf          Pwr:Usage/Cap |         Memory-Usage | GPU-Util  Compute M. |\n",
            "|                                         |                      |               MIG M. |\n",
            "|=========================================+======================+======================|\n",
            "|   0  NVIDIA GeForce RTX 2080      WDDM  | 00000000:01:00.0  On |                  N/A |\n",
            "| 25%   32C    P8              20W / 215W |    462MiB /  8192MiB |     14%      Default |\n",
            "|                                         |                      |                  N/A |\n",
            "+-----------------------------------------+----------------------+----------------------+\n",
            "                                                                                         \n",
            "+---------------------------------------------------------------------------------------+\n",
            "| Processes:                                                                            |\n",
            "|  GPU   GI   CI        PID   Type   Process name                            GPU Memory |\n",
            "|        ID   ID                                                             Usage      |\n",
            "|=======================================================================================|\n",
            "|    0   N/A  N/A      1740    C+G   ...Programs\\Microsoft VS Code\\Code.exe    N/A      |\n",
            "|    0   N/A  N/A      7552    C+G   ...l\\Microsoft\\Teams\\current\\Teams.exe    N/A      |\n",
            "|    0   N/A  N/A     10884    C+G   ...l\\Microsoft\\Teams\\current\\Teams.exe    N/A      |\n",
            "|    0   N/A  N/A     10948    C+G   ...crosoft\\Edge\\Application\\msedge.exe    N/A      |\n",
            "|    0   N/A  N/A     11568    C+G   ...s\\Autodesk\\Autodesk AdSSO\\AdSSO.exe    N/A      |\n",
            "|    0   N/A  N/A     12932    C+G   C:\\Windows\\explorer.exe                   N/A      |\n",
            "|    0   N/A  N/A     14632    C+G   ...up\\ui-launcher\\AdskAccessUIHost.exe    N/A      |\n",
            "|    0   N/A  N/A     16532    C+G   ...on\\HEX\\Creative Cloud UI Helper.exe    N/A      |\n",
            "|    0   N/A  N/A     16564    C+G   ...CBS_cw5n1h2txyewy\\TextInputHost.exe    N/A      |\n",
            "|    0   N/A  N/A     18124    C+G   ....Search_cw5n1h2txyewy\\SearchApp.exe    N/A      |\n",
            "+---------------------------------------------------------------------------------------+\n"
          ]
        }
      ],
      "source": [
        "!nvidia-smi"
      ]
    },
    {
      "cell_type": "code",
      "execution_count": 18,
      "id": "89327d46",
      "metadata": {
        "id": "89327d46"
      },
      "outputs": [
        {
          "name": "stdout",
          "output_type": "stream",
          "text": [
            "Collecting scikit-learn\n",
            "  Downloading scikit_learn-1.4.1.post1-cp39-cp39-win_amd64.whl.metadata (11 kB)\n",
            "Requirement already satisfied: numpy<2.0,>=1.19.5 in c:\\users\\dr2007\\.conda\\envs\\test_env_gpu\\lib\\site-packages (from scikit-learn) (1.26.4)\n",
            "Requirement already satisfied: scipy>=1.6.0 in c:\\users\\dr2007\\.conda\\envs\\test_env_gpu\\lib\\site-packages (from scikit-learn) (1.11.3)\n",
            "Collecting joblib>=1.2.0 (from scikit-learn)\n",
            "  Downloading joblib-1.3.2-py3-none-any.whl.metadata (5.4 kB)\n",
            "Collecting threadpoolctl>=2.0.0 (from scikit-learn)\n",
            "  Downloading threadpoolctl-3.3.0-py3-none-any.whl.metadata (13 kB)\n",
            "Downloading scikit_learn-1.4.1.post1-cp39-cp39-win_amd64.whl (10.6 MB)\n",
            "   ---------------------------------------- 0.0/10.6 MB ? eta -:--:--\n",
            "   --- ------------------------------------ 1.0/10.6 MB 33.0 MB/s eta 0:00:01\n",
            "   ------------- -------------------------- 3.7/10.6 MB 46.9 MB/s eta 0:00:01\n",
            "   -------------------------- ------------- 7.1/10.6 MB 56.4 MB/s eta 0:00:01\n",
            "   ---------------------------------------  10.6/10.6 MB 65.6 MB/s eta 0:00:01\n",
            "   ---------------------------------------- 10.6/10.6 MB 59.5 MB/s eta 0:00:00\n",
            "Downloading joblib-1.3.2-py3-none-any.whl (302 kB)\n",
            "   ---------------------------------------- 0.0/302.2 kB ? eta -:--:--\n",
            "   --------------------------------------- 302.2/302.2 kB 18.2 MB/s eta 0:00:00\n",
            "Downloading threadpoolctl-3.3.0-py3-none-any.whl (17 kB)\n",
            "Installing collected packages: threadpoolctl, joblib, scikit-learn\n",
            "Successfully installed joblib-1.3.2 scikit-learn-1.4.1.post1 threadpoolctl-3.3.0\n"
          ]
        }
      ],
      "source": [
        "# !pip3 install opencv-python\n",
        "# !pip3 install dill\n",
        "# !pip3 install matplotlib\n",
        "# !pip3 install scikit-learn"
      ]
    },
    {
      "cell_type": "code",
      "execution_count": null,
      "id": "c3543af3",
      "metadata": {
        "id": "c3543af3",
        "scrolled": false
      },
      "outputs": [],
      "source": [
        "# To save variable of the last session (avoid re-executing the cells)\n",
        "# dill.dump_session('base_variables3.db')"
      ]
    },
    {
      "cell_type": "code",
      "execution_count": null,
      "id": "54c5f7e7",
      "metadata": {
        "id": "54c5f7e7"
      },
      "outputs": [],
      "source": [
        "# To load session variables\n",
        "# dill.load_session('base_variables3.db')"
      ]
    },
    {
      "cell_type": "code",
      "execution_count": null,
      "id": "VZtO4i_r81hP",
      "metadata": {
        "id": "VZtO4i_r81hP"
      },
      "outputs": [],
      "source": [
        "# !unzip '/content/drive/MyDrive/NEW_MP_Frames.zip' > /dev/null"
      ]
    },
    {
      "cell_type": "markdown",
      "id": "e195f4da",
      "metadata": {
        "id": "e195f4da"
      },
      "source": [
        "# Frame Extraction"
      ]
    },
    {
      "cell_type": "code",
      "execution_count": null,
      "id": "7317d5c2",
      "metadata": {
        "id": "7317d5c2"
      },
      "outputs": [],
      "source": [
        "# Folder path of dataset\n",
        "folder_path = r'D:\\FYP_HWU\\Videos'\n",
        "DATA_PATH = r'D:\\FYP_HWU'"
      ]
    },
    {
      "cell_type": "code",
      "execution_count": null,
      "id": "4b6b0e03",
      "metadata": {
        "id": "4b6b0e03"
      },
      "outputs": [],
      "source": [
        "# List of actions to train model with (11 classes or actions)\n",
        "actions = [\n",
        "'accident',\n",
        "'call',\n",
        "'help',\n",
        "'man',\n",
        "'murder',\n",
        "'woman',\n",
        "'danger',\n",
        "'police',\n",
        "'follow',\n",
        "'child',\n",
        "'sick'\n",
        "]\n"
      ]
    },
    {
      "cell_type": "code",
      "execution_count": null,
      "id": "61c87b66",
      "metadata": {
        "id": "61c87b66"
      },
      "outputs": [],
      "source": [
        "temp_actions = ['follow', 'child','police']"
      ]
    },
    {
      "cell_type": "code",
      "execution_count": null,
      "id": "472179a6",
      "metadata": {
        "id": "472179a6",
        "outputId": "734663c9-37c9-4ec3-d26a-73c6a33a3c14"
      },
      "outputs": [
        {
          "data": {
            "text/plain": [
              "3"
            ]
          },
          "execution_count": 8,
          "metadata": {},
          "output_type": "execute_result"
        }
      ],
      "source": [
        "len(temp_actions)"
      ]
    },
    {
      "cell_type": "markdown",
      "id": "b6ae7098",
      "metadata": {
        "id": "b6ae7098"
      },
      "source": [
        "### Counting number of videos under each action in the dataset"
      ]
    },
    {
      "cell_type": "code",
      "execution_count": null,
      "id": "2fac5687",
      "metadata": {
        "id": "2fac5687"
      },
      "outputs": [],
      "source": [
        "# folder_path = r'C:\\Users\\dr2007\\Documents\\FYP_HWU\\Aug_Frames'\n",
        "folder_path = r'D:\\WLASL Datasets\\Kaggle_WLASL_withVideosInClassFolders\\dataset\\SL'"
      ]
    },
    {
      "cell_type": "code",
      "execution_count": null,
      "id": "256c79e4",
      "metadata": {
        "id": "256c79e4",
        "outputId": "c2991df3-07a9-4acd-9f4f-14663763c863"
      },
      "outputs": [
        {
          "name": "stdout",
          "output_type": "stream",
          "text": [
            "{'accident': 13, 'call': 12, 'child': 9, 'danger': 11, 'follow': 9, 'help': 14, 'man': 12, 'murder': 13, 'police': 10, 'sick': 10, 'woman': 11}\n"
          ]
        }
      ],
      "source": [
        "# Initializing variables\n",
        "video_count = {}\n",
        "folder_path = r'D:\\FYP_HWU\\NEW_Frames'\n",
        "\n",
        "# Creating a dictionary for all the actions/classes along with the count of videos for each action in the dataset\n",
        "for root, dirs, files in os.walk(folder_path):\n",
        "    for i in dirs: #loop through each of the keywords or actions in the dataset\n",
        "        if (i in actions): #if the keyword is present in the shortlisted list of actions\n",
        "            for root, dirs, files in os.walk(os.path.join(folder_path, i)):\n",
        "                video_count[i] = len(dirs)\n",
        "                break\n",
        "    break\n",
        "\n",
        "print(video_count)"
      ]
    },
    {
      "cell_type": "code",
      "execution_count": null,
      "id": "fb5e3aaa",
      "metadata": {
        "id": "fb5e3aaa"
      },
      "outputs": [],
      "source": [
        "# Initializing variables\n",
        "video_count = {}\n",
        "first_11_items = {}\n",
        "\n",
        "# Creating a dictionary for all the actions/classes along with the count of videos for each action in the dataset\n",
        "for root, dirs, files in os.walk(folder_path):\n",
        "    for i in dirs: #loop through each of the keywords or actions in the dataset\n",
        "        for root, dirs, files in os.walk(os.path.join(folder_path, i)):\n",
        "            video_count[i] = len(files)\n",
        "            break\n",
        "\n",
        "    break\n"
      ]
    },
    {
      "cell_type": "code",
      "execution_count": null,
      "id": "4e0a8806",
      "metadata": {
        "id": "4e0a8806"
      },
      "outputs": [],
      "source": [
        "video_count1 = sorted(video_count.items(), key=lambda x:x[1], reverse = True)"
      ]
    },
    {
      "cell_type": "code",
      "execution_count": null,
      "id": "f5a166d7",
      "metadata": {
        "id": "f5a166d7",
        "outputId": "f97100e7-a381-42d2-c7ef-ba480adf2584"
      },
      "outputs": [
        {
          "name": "stdout",
          "output_type": "stream",
          "text": [
            "{'cousin': 17, 'before': 16, 'cool': 16, 'thin': 16, 'drink': 15, 'go': 15, 'computer': 14, 'help': 14, 'inform': 14, 'take': 14, 'who': 14}\n"
          ]
        }
      ],
      "source": [
        "for idx, k in enumerate(video_count1):\n",
        "    if idx == 11: break\n",
        "    first_11_items[k[0]] = k[1]\n",
        "\n",
        "print(first_11_items)\n",
        "# print(video_count)"
      ]
    },
    {
      "cell_type": "code",
      "execution_count": null,
      "id": "d5d4fdf7",
      "metadata": {
        "id": "d5d4fdf7"
      },
      "outputs": [],
      "source": [
        "# print(video_count1)"
      ]
    },
    {
      "cell_type": "code",
      "execution_count": null,
      "id": "95624701",
      "metadata": {
        "id": "95624701"
      },
      "outputs": [],
      "source": [
        "# video_count = {'accident': 13, 'call': 12, 'child': 9, 'danger': 11, 'help': 14, 'man': 12, 'murder': 13, 'police': 10, 'sick': 10, 'woman': 11}"
      ]
    },
    {
      "cell_type": "code",
      "execution_count": null,
      "id": "2524b96f",
      "metadata": {
        "id": "2524b96f"
      },
      "outputs": [],
      "source": [
        "temp_video_count = {'follow': 36, 'child': 36, 'police': 40}"
      ]
    },
    {
      "cell_type": "code",
      "execution_count": null,
      "id": "147cfdda",
      "metadata": {
        "id": "147cfdda",
        "outputId": "577189d6-e765-41cc-db73-dca79f3bfe50"
      },
      "outputs": [
        {
          "data": {
            "text/plain": [
              "3"
            ]
          },
          "execution_count": 10,
          "metadata": {},
          "output_type": "execute_result"
        }
      ],
      "source": [
        "len(temp_video_count)"
      ]
    },
    {
      "cell_type": "markdown",
      "id": "086f9e04",
      "metadata": {
        "id": "086f9e04"
      },
      "source": [
        "### Getting the video paths of the videos"
      ]
    },
    {
      "cell_type": "code",
      "execution_count": null,
      "id": "f80710ca",
      "metadata": {
        "id": "f80710ca"
      },
      "outputs": [],
      "source": [
        "video_paths = {}\n",
        "\n",
        "# Creating a dictionary for all the actions/classes along with the count of videos for each action in the dataset\n",
        "for root, dirs, files in os.walk(folder_path):\n",
        "\n",
        "    for action in actions:\n",
        "        for root, dirs, files in os.walk(os.path.join(folder_path, action)):\n",
        "            for i in range (len(files)):\n",
        "                files[i] = os.path.join(folder_path, action, files[i])\n",
        "            video_paths[action] = files\n",
        "            break\n",
        "    break\n",
        "\n",
        "# print(video_paths)"
      ]
    },
    {
      "cell_type": "code",
      "execution_count": null,
      "id": "64a6099e",
      "metadata": {
        "id": "64a6099e"
      },
      "outputs": [],
      "source": [
        "# converting the folderpaths to csv file\n",
        "df = pd.DataFrame.from_dict(video_paths, orient='index')\n",
        "df = df.transpose()\n",
        "df.to_csv('video_paths.csv', index=False)"
      ]
    },
    {
      "cell_type": "code",
      "execution_count": null,
      "id": "5827ab0e",
      "metadata": {
        "id": "5827ab0e"
      },
      "outputs": [],
      "source": [
        "# Reading a csv file to get the video paths\n",
        "def read_csv_to_dict(csv_file):\n",
        "    result_dict = {}\n",
        "\n",
        "    with open(csv_file, 'r') as file:\n",
        "        csv_reader = csv.reader(file)\n",
        "\n",
        "        # Read the header row to get the keys\n",
        "        keys = next(csv_reader, None)\n",
        "        if keys:\n",
        "            for key in keys:\n",
        "                result_dict[key] = []\n",
        "\n",
        "            # Read the rest of the rows and store values in the dictionary\n",
        "            for row in csv_reader:\n",
        "                for i in range(len(keys)):\n",
        "                    result_dict[keys[i]].append(row[i])\n",
        "\n",
        "    return result_dict"
      ]
    },
    {
      "cell_type": "code",
      "execution_count": null,
      "id": "6b7353fa",
      "metadata": {
        "id": "6b7353fa"
      },
      "outputs": [],
      "source": [
        "video_paths = read_csv_to_dict(\"video_paths.csv\")"
      ]
    },
    {
      "cell_type": "code",
      "execution_count": null,
      "id": "e4317688",
      "metadata": {
        "collapsed": true,
        "id": "e4317688"
      },
      "outputs": [],
      "source": [
        "print(temp_video_path)"
      ]
    },
    {
      "cell_type": "code",
      "execution_count": null,
      "id": "c0144d09",
      "metadata": {
        "id": "c0144d09"
      },
      "outputs": [],
      "source": [
        "# print(video_paths)"
      ]
    },
    {
      "cell_type": "markdown",
      "id": "0dc1285b",
      "metadata": {
        "id": "0dc1285b"
      },
      "source": [
        "### Creating folders to store frames"
      ]
    },
    {
      "cell_type": "code",
      "execution_count": null,
      "id": "50bd1108",
      "metadata": {
        "id": "50bd1108"
      },
      "outputs": [],
      "source": [
        "#Creating folder 'Frames' that will contain all the video frames\n",
        "# os.makedirs(os.makedirs(os.path.join(DATA_PATH,'Frames')))\n",
        "# os.makedirs(os.path.join(DATA_PATH,'Original_Frames'))"
      ]
    },
    {
      "cell_type": "code",
      "execution_count": null,
      "id": "8d648538",
      "metadata": {
        "collapsed": true,
        "id": "8d648538"
      },
      "outputs": [],
      "source": [
        "#Creating folder 'NEW_Frames' that will contain all the video frames\n",
        "DATA_PATH = r'D:\\FYP_HWU'\n",
        "os.makedirs(os.path.join(DATA_PATH,'NEW_Frames'))"
      ]
    },
    {
      "cell_type": "code",
      "execution_count": null,
      "id": "685c8ed0",
      "metadata": {
        "id": "685c8ed0"
      },
      "outputs": [],
      "source": [
        "#Creating one folder for each action\n",
        "for action in video_paths.keys():\n",
        "    # 1 folder for each video of the action\n",
        "    for sequence in range(len(video_paths[action])):\n",
        "        try:\n",
        "            os.makedirs(os.path.join(DATA_PATH, action, str(sequence)))\n",
        "        except:\n",
        "            pass"
      ]
    },
    {
      "cell_type": "markdown",
      "id": "b9e300d2",
      "metadata": {
        "id": "b9e300d2"
      },
      "source": [
        "## Extracting frames from videos and adding them to folders"
      ]
    },
    {
      "cell_type": "markdown",
      "id": "3b725def",
      "metadata": {
        "id": "3b725def"
      },
      "source": [
        "### APPROACH 1\n",
        "Here, a fixed number of frames are extracted from each video (60 in the current case). If the extracted frames from a video are less than 60, then the last frame is repeated to reach the 60 count. If the video is too long, then then the first 60 frames of the video will be extracted."
      ]
    },
    {
      "cell_type": "code",
      "execution_count": null,
      "id": "f7761ec4",
      "metadata": {
        "id": "f7761ec4"
      },
      "outputs": [],
      "source": [
        "#looping through each action\n",
        "for action in video_paths.keys():\n",
        "\n",
        "    #Looping through each video of the action\n",
        "    for sequence in range(len(video_paths[action])):\n",
        "\n",
        "        # Open the video file\n",
        "        cap = cv2.VideoCapture(video_paths[action][sequence])\n",
        "\n",
        "        # Initializing variables\n",
        "        frame_count = 0       # current frame count\n",
        "        max_fc = 60          # maximum frame count\n",
        "\n",
        "\n",
        "        #while the video is accessible and the current frame count doesn't exceed the max frame count limit\n",
        "        while (cap.isOpened() and frame_count < max_fc):\n",
        "            #reading the video frame\n",
        "            success, frame = cap.read()\n",
        "\n",
        "            #if there are frames\n",
        "            if success:\n",
        "                image = frame.copy()\n",
        "                cv2.imshow(\"{} - {}\".format(action, sequence), image)\n",
        "\n",
        "                #saving the extracted frames (in jpg format)\n",
        "                cv2.imwrite(os.path.join(DATA_PATH , action, str(sequence), 'frame'+ str(frame_count) + '.jpg'), image)\n",
        "                frame_count+=1\n",
        "            else:\n",
        "                break\n",
        "\n",
        "        # repeat last frame until we reach max frame count\n",
        "        while frame_count < max_fc:\n",
        "            cv2.imwrite(os.path.join(DATA_PATH , action, str(sequence), 'frame'+ str(frame_count) + '.jpg'), image)\n",
        "            frame_count+=1\n",
        "\n",
        "        cap.release()\n",
        "        cv2.destroyAllWindows()"
      ]
    },
    {
      "cell_type": "markdown",
      "id": "d4526c39",
      "metadata": {
        "id": "d4526c39"
      },
      "source": [
        "### APPROACH 2\n",
        "Here too, a fixed number of frames are extracted from each video (20 in the current case). The frames will be extracted after dividing the complete video into equal parts and then choosing the frames from each part. This way we will be able to avoid the first few or last frames few of the video if no action is being depicted. Secondly, the basic movement of the action is captured."
      ]
    },
    {
      "cell_type": "code",
      "execution_count": null,
      "id": "8eec91fc",
      "metadata": {
        "id": "8eec91fc"
      },
      "outputs": [],
      "source": [
        "# how many frames to extract?\n",
        "count = []\n",
        "for action in video_paths.keys():\n",
        "        #Looping through each video of the action\n",
        "        for sequence in range(len(video_paths[action])):\n",
        "            cap = cv2.VideoCapture(video_paths[action][sequence])\n",
        "            total_frames = cap.get(cv2.CAP_PROP_FRAME_COUNT)\n",
        "            count.append(total_frames)\n",
        "            cap.release()"
      ]
    },
    {
      "cell_type": "code",
      "execution_count": null,
      "id": "80df5fac",
      "metadata": {
        "id": "80df5fac",
        "outputId": "3724ecc9-3fdc-4cff-b84d-dea6f826e992"
      },
      "outputs": [
        {
          "name": "stdout",
          "output_type": "stream",
          "text": [
            "25.0\n"
          ]
        }
      ],
      "source": [
        "print(min(count))"
      ]
    },
    {
      "cell_type": "code",
      "execution_count": null,
      "id": "2b3c8ad5",
      "metadata": {
        "id": "2b3c8ad5",
        "outputId": "29c9d7d2-0a94-4422-d199-4fa995f47937"
      },
      "outputs": [
        {
          "name": "stdout",
          "output_type": "stream",
          "text": [
            "155.0\n"
          ]
        }
      ],
      "source": [
        "print(max(count))"
      ]
    },
    {
      "cell_type": "code",
      "execution_count": null,
      "id": "ceb71138",
      "metadata": {
        "id": "ceb71138"
      },
      "outputs": [],
      "source": [
        "# tcount = []\n",
        "# cap = cv2.VideoCapture(video_paths['accident'][0])\n",
        "# total_frames = cap.get(cv2.CAP_PROP_FRAME_COUNT)\n",
        "# tcount.append(total_frames)\n",
        "# cap.release()"
      ]
    },
    {
      "cell_type": "code",
      "execution_count": null,
      "id": "dabb347c",
      "metadata": {
        "id": "dabb347c"
      },
      "outputs": [],
      "source": [
        "# print(tcount)"
      ]
    },
    {
      "cell_type": "code",
      "execution_count": null,
      "id": "21d97258",
      "metadata": {
        "id": "21d97258"
      },
      "outputs": [],
      "source": [
        "DATA_PATH = r'D:\\FYP_HWU\\NEW_Frames'"
      ]
    },
    {
      "cell_type": "code",
      "execution_count": null,
      "id": "4d895aee",
      "metadata": {
        "id": "4d895aee"
      },
      "outputs": [],
      "source": [
        "def frameSkipping(video_paths, n):\n",
        "    for action in video_paths.keys():\n",
        "\n",
        "        #Looping through each video of the action\n",
        "        for sequence in range(len(video_paths[action])): #len(video_paths[action])\n",
        "            cap = cv2.VideoCapture(video_paths[action][sequence])\n",
        "\n",
        "            total_frames = cap.get(cv2.CAP_PROP_FRAME_COUNT)  #getting the total frame count\n",
        "            frames_step = total_frames//n    # getting the number of frames to skip\n",
        "\n",
        "            for frame_num in range(n):\n",
        "                #here, we set the parameter 1 which is the frame number to the frame (i*frames_step)\n",
        "                cap.set(1,frame_num*frames_step)\n",
        "                success,image = cap.read()\n",
        "                #save your image\n",
        "                cv2.imwrite(os.path.join(DATA_PATH, action, str(sequence), 'frame'+ str(frame_num) + '.jpg'), image)\n",
        "\n",
        "            cap.release()\n"
      ]
    },
    {
      "cell_type": "code",
      "execution_count": null,
      "id": "565ddac3",
      "metadata": {
        "id": "565ddac3"
      },
      "outputs": [],
      "source": [
        "frameSkipping(video_paths, 20)"
      ]
    },
    {
      "cell_type": "markdown",
      "id": "61a303a8",
      "metadata": {
        "id": "61a303a8"
      },
      "source": [
        "# Data Preprocessing"
      ]
    },
    {
      "cell_type": "markdown",
      "id": "911ae365",
      "metadata": {
        "id": "911ae365"
      },
      "source": [
        "By the end of this section, we will folders containing the images frames stored in jpg format for each video of each action."
      ]
    },
    {
      "cell_type": "markdown",
      "id": "944047ec",
      "metadata": {
        "id": "944047ec"
      },
      "source": [
        "## Data Augmentation\n",
        " Using:\n",
        " - Frame Mirroring (Flipping the image horizontally)\n",
        " - Changing contrast, brightness and saturation levels\n",
        " - Rotating\n",
        "\n",
        " Here, we take each video, extract frames and for each frame, apply the filters (which may wither include changing the contrast and brightness of the image frame, mirroring the image or extracting only the keypoints and the edges from the image), and store them as a separate video.\n"
      ]
    },
    {
      "cell_type": "code",
      "execution_count": null,
      "id": "11847f28",
      "metadata": {
        "id": "11847f28"
      },
      "outputs": [],
      "source": [
        "from PIL import Image, ImageEnhance"
      ]
    },
    {
      "cell_type": "code",
      "execution_count": null,
      "id": "41f5ca49",
      "metadata": {
        "id": "41f5ca49"
      },
      "outputs": [],
      "source": [
        "def blackAndWhite(image): # takes image as a parameter\n",
        "    # Image color\n",
        "    enhancer = ImageEnhance.Color(image)\n",
        "    new_image = enhancer.enhance(0)\n",
        "\n",
        "    # return np.array(new_image)\n",
        "    return new_image"
      ]
    },
    {
      "cell_type": "code",
      "execution_count": null,
      "id": "26fa759c",
      "metadata": {
        "id": "26fa759c"
      },
      "outputs": [],
      "source": [
        "def saturation(image): # takes image as a parameter\n",
        "    # Horizontally flipping the image\n",
        "    image = flipImage(image)\n",
        "    # Image color\n",
        "    enhancer = ImageEnhance.Color(image)\n",
        "    new_image = enhancer.enhance(1.5)\n",
        "\n",
        "    # return np.array(new_image)\n",
        "    return new_image"
      ]
    },
    {
      "cell_type": "code",
      "execution_count": null,
      "id": "b39d16e4",
      "metadata": {
        "id": "b39d16e4"
      },
      "outputs": [],
      "source": [
        "def flipImage(image): # takes image as a parameter\n",
        "    # Converting Image to numpy array\n",
        "    new_image = np.array(image)\n",
        "\n",
        "    # Horizontally flipping the image\n",
        "    image = cv2.flip(new_image, 1)\n",
        "\n",
        "    # Converting numpy aray to image format\n",
        "    image = Image.fromarray(image.astype('uint8'))\n",
        "\n",
        "    # Returning the image in image format\n",
        "    return image"
      ]
    },
    {
      "cell_type": "code",
      "execution_count": null,
      "id": "c715b708",
      "metadata": {
        "id": "c715b708"
      },
      "outputs": [],
      "source": [
        "def rotateImage(image):\n",
        "    image  = image.rotate(-8)  #- or + -> left or right\n",
        "    return image"
      ]
    },
    {
      "cell_type": "code",
      "execution_count": null,
      "id": "110df0fe",
      "metadata": {
        "id": "110df0fe"
      },
      "outputs": [],
      "source": [
        "# NEW_PATH = r'D:\\FYP_HWU\\New folder'\n",
        "# resize = (224,224)\n",
        "\n",
        "# for frame_num in range (20):\n",
        "#     IMAGE_PATH = os.path.join(DATA_PATH, 'child', '7' , 'frame' + str(frame_num) + '.jpg')\n",
        "\n",
        "#     # Reading the image\n",
        "#     image = cv2.imread(IMAGE_PATH)\n",
        "\n",
        "#     # Resizing the Image\n",
        "#     new_image = resizeFrames(image, resize)\n",
        "\n",
        "#     #Converting numpy array to Image\n",
        "#     image = Image.fromarray(new_image.astype('uint8'))\n",
        "\n",
        "#     # Applying the filters\n",
        "#     new_image = rotateImage(image)\n",
        "\n",
        "#     # Converting Image to numpy array\n",
        "#     new_image = np.array(new_image)\n",
        "\n",
        "#     #Saving the image in the folder created\n",
        "#     cv2.imwrite(os.path.join(NEW_PATH , 'frame'+ str(frame_num) + '.jpg'), new_image)\n",
        "\n",
        "#     # Displaying Image\n",
        "#     cv2.destroyAllWindows()"
      ]
    },
    {
      "cell_type": "code",
      "execution_count": null,
      "id": "0eb7309f",
      "metadata": {
        "id": "0eb7309f"
      },
      "outputs": [],
      "source": [
        "# Cropping the center of the image (cropping out the extra background margins of the video.)\n",
        "def crop_center_square(frame): # takes image as a parameter\n",
        "    y, x = frame.shape[0:2]\n",
        "    min_dim = min(y, x)\n",
        "    start_x = (x // 2) - (min_dim // 2)\n",
        "    start_y = (y // 2) - (min_dim // 2)\n",
        "    return frame[start_y:start_y+min_dim,start_x:start_x+min_dim]"
      ]
    },
    {
      "cell_type": "code",
      "execution_count": null,
      "id": "8427b29c",
      "metadata": {
        "id": "8427b29c"
      },
      "outputs": [],
      "source": [
        "# Function to resize the frames\n",
        "def resizeFrames(new_image, resize): # takes numpy array as parameter\n",
        "    new_image = crop_center_square(new_image)\n",
        "    new_image = cv2.resize(new_image, resize)\n",
        "    return new_image # returns a numpy array"
      ]
    },
    {
      "cell_type": "code",
      "execution_count": null,
      "id": "547ff254",
      "metadata": {
        "id": "547ff254"
      },
      "outputs": [],
      "source": [
        "# Getting the final number of videos under each Action\n",
        "def totalVideoCount(DATA_PATH):\n",
        "    finalVideoCount = {}\n",
        "    for root, dirs, files in os.walk(DATA_PATH):\n",
        "        for folder in dirs:\n",
        "            for root, dirs, files in os.walk(os.path.join(DATA_PATH, folder)):\n",
        "                finalVideoCount[folder] = len(dirs)\n",
        "                break\n",
        "    return finalVideoCount"
      ]
    },
    {
      "cell_type": "code",
      "execution_count": null,
      "id": "d99d6836",
      "metadata": {
        "id": "d99d6836"
      },
      "outputs": [],
      "source": [
        "# PATH = r'D:\\FYP_HWU\\Resized_Frames'\n",
        "# videoCount = totalVideoCount(PATH)\n",
        "# print(videoCount)"
      ]
    },
    {
      "cell_type": "code",
      "execution_count": null,
      "id": "9ed8d486",
      "metadata": {
        "id": "9ed8d486"
      },
      "outputs": [],
      "source": [
        "# IMAGE_PATH = os.path.join(DATA_PATH,'accident', '6', 'frame' + '11' +'.jpg')\n",
        "# print(IMAGE_PATH)"
      ]
    },
    {
      "cell_type": "code",
      "execution_count": null,
      "id": "cf0549ed",
      "metadata": {
        "id": "cf0549ed"
      },
      "outputs": [],
      "source": [
        "# resize = (224,224)\n",
        "# img = cv2.imread(IMAGE_PATH)\n",
        "# img = cv2.cvtColor(img, cv2.COLOR_BGR2RGB)\n",
        "# # transposed  = img.rotate(-10)\n",
        "# # new_image = np.array(transposed)\n",
        "# new_image = crop_center_square(img)\n",
        "# new_image = cv2.resize(new_image, resize)\n",
        "# image = Image.fromarray(new_image.astype('uint8'))\n",
        "# new_image = rotateImage(image)\n",
        "# new_image.show()\n",
        "# # image.show()\n",
        "# cv2.destroyAllWindows()"
      ]
    },
    {
      "cell_type": "code",
      "execution_count": null,
      "id": "fca1c478",
      "metadata": {
        "id": "fca1c478",
        "outputId": "bd21a380-b287-4f2d-a841-1dfa0adaadcf"
      },
      "outputs": [
        {
          "name": "stdout",
          "output_type": "stream",
          "text": [
            "{'accident': 13, 'call': 12, 'child': 9, 'danger': 11, 'follow': 9, 'help': 14, 'man': 12, 'murder': 13, 'police': 10, 'sick': 10, 'woman': 11}\n"
          ]
        }
      ],
      "source": [
        "DATA_PATH = r'D:\\FYP_HWU\\NEW_Frames'\n",
        "VideoCount = totalVideoCount(DATA_PATH)\n",
        "print(VideoCount)"
      ]
    },
    {
      "cell_type": "code",
      "execution_count": null,
      "id": "073adf0b",
      "metadata": {
        "id": "073adf0b"
      },
      "outputs": [],
      "source": [
        "# max_fc = 20 (maximum number of frames extracted per video), variable already initialized earlier\n",
        "\n",
        "# loop through each video (sequence) for each action\n",
        "# create another sequece folder (my_dict[action] + count), where count is incremented with every sequence loop iteration\n",
        "# for loop for i in range(20):\n",
        "# get the image -> concat('frame', str(i))\n",
        "# apply filters\n",
        "# save the image in the new folder created\n",
        "\n",
        "max_fc = 20\n",
        "resize = (224,224)\n",
        "AUG_PATH = r'D:\\FYP_HWU\\NEW_AUG_Frames'\n",
        "DATA_PATH = r'D:\\FYP_HWU\\NEW_Frames'\n",
        "\n",
        "finalVideoCount = totalVideoCount(AUG_PATH)\n",
        "video_count = totalVideoCount(DATA_PATH)\n",
        "\n",
        "#looping through each action\n",
        "for action in video_count.keys():\n",
        "    actionCount = finalVideoCount[action]\n",
        "\n",
        "    #Looping through the count for videos for that action\n",
        "    for sequence in range(video_count[action]):\n",
        "\n",
        "        #creating a folder to store the augmented images\n",
        "        folder_number = actionCount + sequence\n",
        "        if(folder_number < 45):\n",
        "            try:\n",
        "                os.makedirs(os.path.join(AUG_PATH, action, str(folder_number)))\n",
        "            except:\n",
        "                pass\n",
        "\n",
        "            for frame_num in range (max_fc):\n",
        "                IMAGE_PATH = os.path.join(AUG_PATH, str(action), str(sequence) , 'frame' + str(frame_num) + '.jpg')\n",
        "\n",
        "                # Reading the image\n",
        "                image = cv2.imread(IMAGE_PATH)\n",
        "\n",
        "                # Resizing the Image\n",
        "#                 new_image = resizeFrames(image, resize)\n",
        "\n",
        "                #Converting numpy array to Image\n",
        "                image = Image.fromarray(image.astype('uint8'))\n",
        "\n",
        "                # Applying the filters\n",
        "#                 new_image = blackAndWhite(image)\n",
        "#                 new_image = flipImage(image)\n",
        "#                 new_image = saturation(image)\n",
        "                new_image = rotateImage(image)\n",
        "\n",
        "                # Converting Image to numpy array\n",
        "                new_image = np.array(new_image)\n",
        "\n",
        "                #Saving the image in the folder created\n",
        "                cv2.imwrite(os.path.join(AUG_PATH , str(action), str(folder_number), 'frame'+ str(frame_num) + '.jpg'), new_image)\n",
        "\n",
        "                # Displaying Image\n",
        "                cv2.destroyAllWindows()\n",
        "\n",
        "        else:\n",
        "            break\n"
      ]
    },
    {
      "cell_type": "code",
      "execution_count": null,
      "id": "0f661404",
      "metadata": {
        "id": "0f661404",
        "outputId": "58108e35-d237-490e-8622-20f8cf0a6b08"
      },
      "outputs": [
        {
          "name": "stdout",
          "output_type": "stream",
          "text": [
            "{'accident': 45, 'call': 45, 'child': 45, 'danger': 45, 'follow': 45, 'help': 45, 'man': 45, 'murder': 45, 'police': 45, 'sick': 45, 'woman': 45}\n"
          ]
        }
      ],
      "source": [
        "finalVideoCount = totalVideoCount(AUG_PATH)\n",
        "print(finalVideoCount)"
      ]
    },
    {
      "cell_type": "markdown",
      "id": "26bac943",
      "metadata": {
        "id": "26bac943"
      },
      "source": [
        "## Resizing Images"
      ]
    },
    {
      "cell_type": "markdown",
      "id": "86a99f38",
      "metadata": {
        "id": "86a99f38"
      },
      "source": [
        "Resizing the images to 224 x 224 pixel size to feed to ResNet 50 pre trained model."
      ]
    },
    {
      "cell_type": "code",
      "execution_count": null,
      "id": "e9e264f5",
      "metadata": {
        "id": "e9e264f5"
      },
      "outputs": [],
      "source": [
        "# Cropping the center of the image (cropping out the extra background margins of the video.)\n",
        "def crop_center_square(frame): # takes image as a parameter\n",
        "    y, x = frame.shape[0:2]\n",
        "    min_dim = min(y, x)\n",
        "    start_x = (x // 2) - (min_dim // 2)\n",
        "    start_y = (y // 2) - (min_dim // 2)\n",
        "    return frame[start_y:start_y+min_dim,start_x:start_x+min_dim]"
      ]
    },
    {
      "cell_type": "code",
      "execution_count": null,
      "id": "44d53127",
      "metadata": {
        "id": "44d53127"
      },
      "outputs": [],
      "source": [
        "# Function to resize the frames\n",
        "def resizeFrames(new_image, resize): # takes numpy array as parameter\n",
        "    new_image = crop_center_square(new_image)\n",
        "    new_image = cv2.resize(new_image, resize)\n",
        "    return new_image # returns a numpy array"
      ]
    },
    {
      "cell_type": "code",
      "execution_count": null,
      "id": "b7d1cb57",
      "metadata": {
        "id": "b7d1cb57"
      },
      "outputs": [],
      "source": [
        "max_fc = 20\n",
        "resize = (224,224)\n",
        "AUG_PATH = r'D:\\FYP_HWU\\NEW_AUG_Frames'\n",
        "DATA_PATH = r'D:\\FYP_HWU\\NEW_Frames'\n",
        "\n",
        "videoCount = totalVideoCount(DATA_PATH) #getting a video count from original frame dataset\n",
        "\n",
        "#looping through each action\n",
        "for action in videoCount.keys():\n",
        "\n",
        "    #Looping through the count for videos for that action\n",
        "    for sequence in range(videoCount[action]):\n",
        "\n",
        "        #creating a folder in AUG frames folder\n",
        "        try:\n",
        "            os.makedirs(os.path.join(AUG_PATH, action, str(sequence)))\n",
        "        except:\n",
        "            pass\n",
        "\n",
        "        # iterating through each frame in the original frame dataset\n",
        "        for frame_num in range (max_fc):\n",
        "            IMAGE_PATH = os.path.join(DATA_PATH, str(action), str(sequence) , 'frame' + str(frame_num) + '.jpg')\n",
        "\n",
        "            # Reading the image\n",
        "            image = cv2.imread(IMAGE_PATH)\n",
        "\n",
        "            new_image = resizeFrames(image, resize)\n",
        "\n",
        "            #Saving the image in the folder created\n",
        "            cv2.imwrite(os.path.join(AUG_PATH, str(action), str(sequence), 'frame' + str(frame_num) + '.jpg'), new_image)\n",
        "\n",
        "            # Displaying Image\n",
        "            cv2.destroyAllWindows()\n"
      ]
    },
    {
      "cell_type": "markdown",
      "id": "687f20f4",
      "metadata": {
        "id": "687f20f4"
      },
      "source": [
        "## Keypoint Extraction using MediaPipe Holistics\n",
        "Applying MediaPipe Keypoint Landmarks to the extracted frames"
      ]
    },
    {
      "cell_type": "code",
      "execution_count": null,
      "id": "b2b61ee5",
      "metadata": {
        "id": "b2b61ee5"
      },
      "outputs": [],
      "source": [
        "mp_holistic = mp.solutions.holistic #Holistic model (use for detections)\n",
        "mp_drawing = mp.solutions.drawing_utils #Drawing Utilities\n",
        "drawing_spec = mp_drawing.DrawingSpec(thickness = 1, circle_radius=1)"
      ]
    },
    {
      "cell_type": "code",
      "execution_count": null,
      "id": "8ca65d26",
      "metadata": {
        "id": "8ca65d26"
      },
      "outputs": [],
      "source": [
        "# # max_fc = 20\n",
        "# AUG_PATH = r'D:\\FYP_HWU\\NEW_AUG_Frames\\accident\\0\\frame12.jpg'\n",
        "\n",
        "# # Reading the image\n",
        "# image = cv2.imread(AUG_PATH)\n",
        "\n",
        "# # Making detection\n",
        "# with mp_holistic.Holistic(min_detection_confidence = 0.5, min_tracking_confidence = 0.5) as holistic:\n",
        "#     image, result = mediapipeHolistics(image, holistic)\n",
        "\n",
        "# #Darwing landmarks on frames\n",
        "# draw_landmarks(image,result)\n",
        "\n",
        "# image = Image.fromarray(image.astype('uint8'))\n",
        "# image.show()\n",
        "# # Displaying Image\n",
        "# cv2.destroyAllWindows()\n"
      ]
    },
    {
      "cell_type": "code",
      "execution_count": null,
      "id": "8a4039ce",
      "metadata": {
        "id": "8a4039ce"
      },
      "outputs": [],
      "source": [
        "#Capturing landmarks\n",
        "def mediapipeHolistics(image, model):\n",
        "    image = cv2.cvtColor(image, cv2.COLOR_BGR2RGB) #color conversion -> BGR to RGB\n",
        "    image.flags.writeable = False\n",
        "    results = model.process(image) # Making Prediction\n",
        "    image.flags.writeable = True\n",
        "    image = cv2.cvtColor(image, cv2.COLOR_RGB2BGR) #color conversion -> RGB to BGR\n",
        "    return image, results"
      ]
    },
    {
      "cell_type": "code",
      "execution_count": null,
      "id": "f7dbe39a",
      "metadata": {
        "id": "f7dbe39a"
      },
      "outputs": [],
      "source": [
        "#Visualize landmarks, connecting the landmarks on the image (drawing only pose and had landmarks)\n",
        "def draw_landmarks(image, results):\n",
        "    mp_drawing.draw_landmarks(image = image,\n",
        "                              landmark_list = results.pose_landmarks,\n",
        "                              connections = mp_holistic.POSE_CONNECTIONS,\n",
        "                              landmark_drawing_spec = drawing_spec,\n",
        "                              connection_drawing_spec = drawing_spec)\n",
        "    mp_drawing.draw_landmarks(image = image,\n",
        "                              landmark_list = results.left_hand_landmarks,\n",
        "                              connections = mp_holistic.HAND_CONNECTIONS,\n",
        "                              landmark_drawing_spec = drawing_spec,\n",
        "                              connection_drawing_spec = drawing_spec)\n",
        "    mp_drawing.draw_landmarks(image = image,\n",
        "                              landmark_list = results.right_hand_landmarks,\n",
        "                              connections = mp_holistic.HAND_CONNECTIONS,\n",
        "                              landmark_drawing_spec = drawing_spec,\n",
        "                              connection_drawing_spec = drawing_spec)"
      ]
    },
    {
      "cell_type": "code",
      "execution_count": null,
      "id": "d0907fea",
      "metadata": {
        "id": "d0907fea"
      },
      "outputs": [],
      "source": [
        "max_fc = 20\n",
        "AUG_PATH = r'D:\\FYP_HWU\\NEW_AUG_Frames'\n",
        "FRAMES_PATH = r'D:\\FYP_HWU\\NEW_MP_Frames'\n",
        "\n",
        "finalVideoCount = totalVideoCount(AUG_PATH)\n",
        "\n",
        "#looping through each action\n",
        "for action in finalVideoCount.keys():\n",
        "\n",
        "    #Looping through the count for videos for that action\n",
        "    for sequence in range(finalVideoCount[action]):\n",
        "\n",
        "        # Creating folders to store frames and extracted landmarks\n",
        "        try:\n",
        "            os.makedirs(os.path.join(FRAMES_PATH, action, str(sequence)))\n",
        "        except:\n",
        "            pass\n",
        "\n",
        "        with mp_holistic.Holistic(min_detection_confidence = 0.5, min_tracking_confidence = 0.5) as holistic:\n",
        "            for frame_num in range (max_fc):\n",
        "\n",
        "                # Getting the extracted frame from the folder\n",
        "                IMAGE_PATH = os.path.join(AUG_PATH, str(action), str(sequence) , 'frame' + str(frame_num) + '.jpg')\n",
        "\n",
        "                # Reading the image\n",
        "                image = cv2.imread(IMAGE_PATH)\n",
        "\n",
        "                # Making detection\n",
        "                image, result = mediapipeHolistics(image, holistic)\n",
        "\n",
        "                #Darwing landmarks on frames\n",
        "                draw_landmarks(image,result)\n",
        "\n",
        "#                 image = Image.fromarray(image.astype('uint8'))\n",
        "\n",
        "                #Saving the image in the folder created\n",
        "                cv2.imwrite(os.path.join(FRAMES_PATH , str(action), str(sequence), 'frame'+ str(frame_num) + '.jpg'), image)\n",
        "\n",
        "                # Displaying Image\n",
        "                cv2.destroyAllWindows()\n"
      ]
    },
    {
      "cell_type": "markdown",
      "id": "bd21b136",
      "metadata": {
        "id": "bd21b136"
      },
      "source": [
        "# Creating the Dataset"
      ]
    },
    {
      "cell_type": "markdown",
      "id": "7fb1b3b8",
      "metadata": {
        "id": "7fb1b3b8"
      },
      "source": [
        "### Visualizing dataset frames"
      ]
    },
    {
      "cell_type": "code",
      "execution_count": 13,
      "id": "u7HxDaYT9iBd",
      "metadata": {
        "id": "u7HxDaYT9iBd"
      },
      "outputs": [],
      "source": [
        "from PIL import Image, ImageEnhance\n",
        "from IPython.display import Image\n",
        "DATA_PATH = r'NEW_MP_Frames'"
      ]
    },
    {
      "cell_type": "code",
      "execution_count": null,
      "id": "74910e0f",
      "metadata": {
        "colab": {
          "base_uri": "https://localhost:8080/",
          "height": 258
        },
        "id": "74910e0f",
        "outputId": "4e2141b7-8473-4fc8-9ea9-07729d971b6f"
      },
      "outputs": [
        {
          "name": "stdout",
          "output_type": "stream",
          "text": [
            "ACTION: Man    Video: 0     Frame: 22\n"
          ]
        },
        {
          "data": {
            "image/jpeg": "[encoded data removed]",
            "text/plain": [
              "<IPython.core.display.Image object>"
            ]
          },
          "metadata": {},
          "output_type": "display_data"
        }
      ],
      "source": [
        "# man (video 0, frame 22)\n",
        "print(\"ACTION: Man    Video: 0     Frame: 22\")\n",
        "display(Image(filename=\"{}/man/0/frame15.jpg\". format(DATA_PATH)))"
      ]
    },
    {
      "cell_type": "markdown",
      "id": "38f3d374",
      "metadata": {
        "id": "38f3d374"
      },
      "source": [
        "## Creating Labels and Features"
      ]
    },
    {
      "cell_type": "code",
      "execution_count": 4,
      "id": "0ec1f3f1",
      "metadata": {},
      "outputs": [],
      "source": [
        "# !pip3 install tensorflow --user"
      ]
    },
    {
      "cell_type": "code",
      "execution_count": 5,
      "id": "304ab091",
      "metadata": {},
      "outputs": [
        {
          "name": "stdout",
          "output_type": "stream",
          "text": [
            "Collecting numpy==1.23.5\n",
            "  Downloading numpy-1.23.5-cp39-cp39-win_amd64.whl.metadata (2.3 kB)\n",
            "Downloading numpy-1.23.5-cp39-cp39-win_amd64.whl (14.7 MB)\n",
            "   ---------------------------------------- 0.0/14.7 MB ? eta -:--:--\n",
            "    --------------------------------------- 0.3/14.7 MB 9.9 MB/s eta 0:00:02\n",
            "   -- ------------------------------------- 0.9/14.7 MB 11.9 MB/s eta 0:00:02\n",
            "   -- ------------------------------------- 1.0/14.7 MB 11.0 MB/s eta 0:00:02\n",
            "   -- ------------------------------------- 1.0/14.7 MB 11.0 MB/s eta 0:00:02\n",
            "   -- ------------------------------------- 1.0/14.7 MB 11.0 MB/s eta 0:00:02\n",
            "   --- ------------------------------------ 1.3/14.7 MB 5.0 MB/s eta 0:00:03\n",
            "   ----- ---------------------------------- 2.1/14.7 MB 6.7 MB/s eta 0:00:02\n",
            "   ----- ---------------------------------- 2.1/14.7 MB 6.7 MB/s eta 0:00:02\n",
            "   ----- ---------------------------------- 2.1/14.7 MB 6.7 MB/s eta 0:00:02\n",
            "   ----- ---------------------------------- 2.1/14.7 MB 6.7 MB/s eta 0:00:02\n",
            "   -------- ------------------------------- 3.0/14.7 MB 5.9 MB/s eta 0:00:02\n",
            "   -------- ------------------------------- 3.1/14.7 MB 6.3 MB/s eta 0:00:02\n",
            "   -------- ------------------------------- 3.1/14.7 MB 6.3 MB/s eta 0:00:02\n",
            "   -------- ------------------------------- 3.1/14.7 MB 6.3 MB/s eta 0:00:02\n",
            "   --------- ------------------------------ 3.4/14.7 MB 4.9 MB/s eta 0:00:03\n",
            "   ----------- ---------------------------- 4.2/14.7 MB 5.9 MB/s eta 0:00:02\n",
            "   ----------- ---------------------------- 4.2/14.7 MB 5.9 MB/s eta 0:00:02\n",
            "   ----------- ---------------------------- 4.2/14.7 MB 5.9 MB/s eta 0:00:02\n",
            "   ----------- ---------------------------- 4.2/14.7 MB 5.9 MB/s eta 0:00:02\n",
            "   -------------- ------------------------- 5.2/14.7 MB 5.8 MB/s eta 0:00:02\n",
            "   -------------- ------------------------- 5.2/14.7 MB 5.8 MB/s eta 0:00:02\n",
            "   -------------- ------------------------- 5.2/14.7 MB 5.8 MB/s eta 0:00:02\n",
            "   -------------- ------------------------- 5.2/14.7 MB 5.8 MB/s eta 0:00:02\n",
            "   ------------------ --------------------- 6.9/14.7 MB 6.2 MB/s eta 0:00:02\n",
            "   ---------------------- ----------------- 8.4/14.7 MB 7.3 MB/s eta 0:00:01\n",
            "   ---------------------- ----------------- 8.4/14.7 MB 7.3 MB/s eta 0:00:01\n",
            "   ---------------------- ----------------- 8.4/14.7 MB 7.3 MB/s eta 0:00:01\n",
            "   ---------------------- ----------------- 8.4/14.7 MB 7.3 MB/s eta 0:00:01\n",
            "   ------------------------- -------------- 9.4/14.7 MB 7.2 MB/s eta 0:00:01\n",
            "   ------------------------- -------------- 9.4/14.7 MB 7.2 MB/s eta 0:00:01\n",
            "   ------------------------- -------------- 9.4/14.7 MB 7.2 MB/s eta 0:00:01\n",
            "   ------------------------- -------------- 9.4/14.7 MB 7.2 MB/s eta 0:00:01\n",
            "   ---------------------------- ----------- 10.5/14.7 MB 7.0 MB/s eta 0:00:01\n",
            "   ---------------------------- ----------- 10.5/14.7 MB 7.0 MB/s eta 0:00:01\n",
            "   ---------------------------- ----------- 10.5/14.7 MB 7.0 MB/s eta 0:00:01\n",
            "   ---------------------------- ----------- 10.5/14.7 MB 7.0 MB/s eta 0:00:01\n",
            "   --------------------------------- ------ 12.1/14.7 MB 7.2 MB/s eta 0:00:01\n",
            "   ---------------------------------------- 14.7/14.7 MB 11.9 MB/s eta 0:00:00\n",
            "Installing collected packages: numpy\n",
            "Successfully installed numpy-1.23.5\n"
          ]
        },
        {
          "name": "stderr",
          "output_type": "stream",
          "text": [
            "  WARNING: The script f2py.exe is installed in 'C:\\Users\\dr2007\\AppData\\Roaming\\Python\\Python39\\Scripts' which is not on PATH.\n",
            "  Consider adding this directory to PATH or, if you prefer to suppress this warning, use --no-warn-script-location.\n",
            "ERROR: pip's dependency resolver does not currently take into account all the packages that are installed. This behaviour is the source of the following dependency conflicts.\n",
            "tensorflow 2.6.0 requires clang~=5.0, which is not installed.\n",
            "tensorboard 2.6.0 requires google-auth<2,>=1.6.3, but you have google-auth 2.22.0 which is incompatible.\n",
            "tensorflow 2.6.0 requires absl-py~=0.10, but you have absl-py 1.4.0 which is incompatible.\n",
            "tensorflow 2.6.0 requires flatbuffers~=1.12, but you have flatbuffers 20210226132247 which is incompatible.\n"
          ]
        }
      ],
      "source": [
        "# !pip3 uninstall numpy==1.20.1\n",
        "# !pip3 install numpy==1.23.5 --user\n",
        "# import tensorflow as tf"
      ]
    },
    {
      "cell_type": "code",
      "execution_count": 2,
      "id": "413ea077",
      "metadata": {},
      "outputs": [
        {
          "data": {
            "text/plain": [
              "'1.23.5'"
            ]
          },
          "execution_count": 2,
          "metadata": {},
          "output_type": "execute_result"
        }
      ],
      "source": [
        "import numpy as np \n",
        "np.__version__  #'1.23.5'"
      ]
    },
    {
      "cell_type": "code",
      "execution_count": 14,
      "id": "a29f1304",
      "metadata": {},
      "outputs": [
        {
          "data": {
            "text/plain": [
              "[PhysicalDevice(name='/physical_device:GPU:0', device_type='GPU')]"
            ]
          },
          "execution_count": 14,
          "metadata": {},
          "output_type": "execute_result"
        }
      ],
      "source": [
        "import tensorflow as tf\n",
        "tf.config.list_physical_devices('GPU')"
      ]
    },
    {
      "cell_type": "code",
      "execution_count": 15,
      "id": "4d4a2a96",
      "metadata": {
        "id": "4d4a2a96"
      },
      "outputs": [],
      "source": [
        "from sklearn.model_selection import train_test_split\n",
        "from tensorflow.keras.utils import to_categorical"
      ]
    },
    {
      "cell_type": "code",
      "execution_count": 47,
      "id": "03592f2b",
      "metadata": {
        "id": "03592f2b"
      },
      "outputs": [],
      "source": [
        "# # Splitting data in 80:10:10 train:validation:test ratio\n",
        "# def trainTestSplit(X,y):\n",
        "#     x_train, x_temp, y_train, y_temp= train_test_split(X, y, test_size=0.2, random_state=42)\n",
        "#     x_val, x_test, y_val, y_test = train_test_split(x_temp, y_temp, test_size = 0.5, random_state=42)\n",
        "#     return x_train, y_train, x_val, y_val, x_test, y_test"
      ]
    },
    {
      "cell_type": "code",
      "execution_count": 16,
      "id": "f12045ff",
      "metadata": {
        "id": "f12045ff"
      },
      "outputs": [],
      "source": [
        "def trainTestSplit(X,y):\n",
        "    x_train, x_val, y_train, y_val= train_test_split(X, y, test_size=0.04, random_state=42)\n",
        "    return x_train, y_train, x_val, y_val"
      ]
    },
    {
      "cell_type": "code",
      "execution_count": 17,
      "id": "b274e54d",
      "metadata": {
        "id": "b274e54d"
      },
      "outputs": [],
      "source": [
        "# DATA_PATH = r'NEW_MP_Frames'\n",
        "# DATA_PATH = r'D:\\FYP_HWU\\NEW_MP_Frames'\n",
        "DATA_PATH = r'C:\\Users\\dr2007\\Documents\\FYP_DATA\\NEW_MP_Frames'"
      ]
    },
    {
      "cell_type": "code",
      "execution_count": 18,
      "id": "FTXm-CUpEi36",
      "metadata": {
        "id": "FTXm-CUpEi36"
      },
      "outputs": [],
      "source": [
        "# Getting the final number of videos under each Action\n",
        "def totalVideoCount(DATA_PATH):\n",
        "    finalVideoCount = {}\n",
        "    for root, dirs, files in os.walk(DATA_PATH):\n",
        "        for folder in dirs:\n",
        "            for root, dirs, files in os.walk(os.path.join(DATA_PATH, folder)):\n",
        "                finalVideoCount[folder] = len(dirs)\n",
        "                break\n",
        "    return finalVideoCount"
      ]
    },
    {
      "cell_type": "code",
      "execution_count": 19,
      "id": "641b9556",
      "metadata": {
        "colab": {
          "base_uri": "https://localhost:8080/"
        },
        "id": "641b9556",
        "outputId": "402ed957-9c2f-4d47-9f6c-6b97bbcb7277"
      },
      "outputs": [
        {
          "name": "stdout",
          "output_type": "stream",
          "text": [
            "{'police': 45, 'follow': 45, 'child': 45, 'woman': 45}\n"
          ]
        }
      ],
      "source": [
        "# Creating subset to to test whether the model works fine\n",
        "total_video_count = totalVideoCount(DATA_PATH)\n",
        "temp_list = ['police', 'follow', 'child', 'woman']\n",
        "subset_video_count = {}\n",
        "for temp in temp_list:\n",
        "    subset_video_count[temp] = total_video_count[temp]\n",
        "\n",
        "print(subset_video_count)"
      ]
    },
    {
      "cell_type": "code",
      "execution_count": 11,
      "id": "839e982b",
      "metadata": {},
      "outputs": [
        {
          "name": "stdout",
          "output_type": "stream",
          "text": [
            "{'accident': 45, 'call': 45, 'child': 45, 'danger': 45, 'follow': 45, 'help': 45, 'man': 45, 'murder': 45, 'police': 45, 'sick': 45, 'woman': 45}\n"
          ]
        }
      ],
      "source": [
        "# total_video_count = totalVideoCount(DATA_PATH)\n",
        "print(total_video_count)"
      ]
    },
    {
      "cell_type": "code",
      "execution_count": 20,
      "id": "47d0ffa6",
      "metadata": {},
      "outputs": [
        {
          "name": "stdout",
          "output_type": "stream",
          "text": [
            "{'police': 45, 'follow': 45, 'child': 45, 'woman': 45}\n"
          ]
        }
      ],
      "source": [
        "print(subset_video_count)"
      ]
    },
    {
      "cell_type": "code",
      "execution_count": null,
      "id": "4f3609ab",
      "metadata": {
        "id": "4f3609ab"
      },
      "outputs": [],
      "source": [
        "# subset_video_count = {'police': 40, 'follow': 36}"
      ]
    },
    {
      "cell_type": "code",
      "execution_count": 21,
      "id": "f88d74c3",
      "metadata": {
        "id": "f88d74c3"
      },
      "outputs": [],
      "source": [
        "# Setting numeric labels for non numeric action category values\n",
        "# label_map = {label:num for num, label in enumerate(total_video_count.keys())} # all classes\n",
        "label_map = {label:num for num, label in enumerate(subset_video_count.keys())} #subset of classes"
      ]
    },
    {
      "cell_type": "code",
      "execution_count": 22,
      "id": "29263b59",
      "metadata": {
        "colab": {
          "base_uri": "https://localhost:8080/"
        },
        "id": "29263b59",
        "outputId": "fc7ada33-4fd6-4557-f654-9f2191c61b4a"
      },
      "outputs": [
        {
          "name": "stdout",
          "output_type": "stream",
          "text": [
            "{'police': 0, 'follow': 1, 'child': 2, 'woman': 3}\n"
          ]
        }
      ],
      "source": [
        "print(label_map)"
      ]
    },
    {
      "cell_type": "markdown",
      "id": "7aK5lyRKAB6c",
      "metadata": {
        "id": "7aK5lyRKAB6c"
      },
      "source": [
        "### Preparing Data with 'Mediapipe Landmarks' stored as numpy arrays"
      ]
    },
    {
      "cell_type": "code",
      "execution_count": null,
      "id": "798440c4",
      "metadata": {
        "collapsed": true,
        "id": "798440c4"
      },
      "outputs": [],
      "source": [
        "# SUBSET CLASSES\n",
        "\n",
        "#features = non target columns    labels = target columns\n",
        "\n",
        "max_fc = 20\n",
        "features, labels = [], []\n",
        "\n",
        "# Iterating through each action\n",
        "for action in subset_video_count.keys():\n",
        "\n",
        "    # Iterting through each video in the action\n",
        "    for sequence in range(subset_video_count[action]):\n",
        "\n",
        "        # Declaring a list to store the frames of each video\n",
        "        frames = []\n",
        "\n",
        "        # Iterating through each landmark numpy array\n",
        "        for frame_num in range(max_fc):\n",
        "\n",
        "            # Declaring directory of the keypoints\n",
        "            IMAGE_PATH = os.path.join(DATA_PATH, action, str(sequence), \"{}.npy\".format(frame_num))\n",
        "\n",
        "            # Loading the numpy array\n",
        "            res = np.load(IMAGE_PATH)\n",
        "\n",
        "            # Appending to the list\n",
        "            frames.append(res)\n",
        "\n",
        "        # Adding to the dataset\n",
        "        features.append(frames)\n",
        "        labels.append(label_map[action])"
      ]
    },
    {
      "cell_type": "code",
      "execution_count": null,
      "id": "b033ce87",
      "metadata": {
        "id": "b033ce87"
      },
      "outputs": [],
      "source": [
        "# ALL CLASSES\n",
        "\n",
        "max_fc = 20\n",
        "features, labels = [], []\n",
        "# Iterating through each action\n",
        "for action in subset_video_count.keys():\n",
        "\n",
        "    # Iterting through each video in the action\n",
        "    for sequence in range(subset_video_count[action]):\n",
        "\n",
        "        # Declaring a list to store the frames of each video\n",
        "        frames = []\n",
        "\n",
        "        # Iterating through each landmark numpy array\n",
        "        for frame_num in range(max_fc):\n",
        "\n",
        "            # Declaring directory of the keypoints\n",
        "            IMAGE_PATH = os.path.join(DATA_PATH, action, str(sequence), \"{}.npy\".format(frame_num))\n",
        "\n",
        "            # Loading the numpy array\n",
        "            res = np.load(IMAGE_PATH)\n",
        "\n",
        "            # Appending to the list\n",
        "            frames.append(res)\n",
        "\n",
        "        # Adding to the dataset\n",
        "        features.append(frames)\n",
        "        labels.append(label_map[action])"
      ]
    },
    {
      "cell_type": "code",
      "execution_count": null,
      "id": "44cc4f53",
      "metadata": {
        "id": "44cc4f53"
      },
      "outputs": [],
      "source": [
        "# np.array(features).shape\n",
        "X = np.array(features)"
      ]
    },
    {
      "cell_type": "code",
      "execution_count": null,
      "id": "62390ca3",
      "metadata": {
        "id": "62390ca3"
      },
      "outputs": [],
      "source": [
        "# np.array(labels).shape\n",
        "# The below code will convert the target class to this format: [1,0,0], [0,1,0], [0,0,1]\n",
        "y = to_categorical(labels).astype(int)\n",
        "y"
      ]
    },
    {
      "cell_type": "code",
      "execution_count": null,
      "id": "a6512f0c",
      "metadata": {
        "id": "a6512f0c"
      },
      "outputs": [],
      "source": [
        "# Splitting into Train, Validation and Test\n",
        "X_train, y_train, X_val, y_val, X_test, y_test = trainTestSplit(X, y)"
      ]
    },
    {
      "cell_type": "markdown",
      "id": "163062cb",
      "metadata": {
        "id": "163062cb"
      },
      "source": [
        "### Preparing Data with Extracted Frames"
      ]
    },
    {
      "cell_type": "code",
      "execution_count": null,
      "id": "c1a52b3c",
      "metadata": {
        "id": "c1a52b3c"
      },
      "outputs": [],
      "source": [
        "# # Home Computer Paths\n",
        "# IMAGE_PATH = r'C:\\Users\\revan\\Downloads\\frame101.jpg'\n",
        "# DATA_PATH = r'C:\\Users\\revan\\Downloads\\BOOK.mp4'\n",
        "# IM_PATH = r'C:\\Users\\revan\\Downloads\\frame101.npy'"
      ]
    },
    {
      "cell_type": "code",
      "execution_count": null,
      "id": "b0557ab0",
      "metadata": {
        "id": "b0557ab0"
      },
      "outputs": [],
      "source": [
        "# # cap = cv2.VideoCapture(DATA_PATH)\n",
        "# # # DATAPATH = os.path.join(DATA_PATH, action, str(sequence), \"{}.npy\".format(frame_num))\n",
        "# frame = cv2.imread(IMAGE_PATH)\n",
        "# # frame = frame[:, :, [2, 1, 0]]\n",
        "# image = Image.fromarray(frame.astype('uint8'))\n",
        "# # new_image := np.array(image)\n",
        "# # cv2.imwrite(IM_PATH,new_image)\n",
        "# image.show()\n",
        "# cv2.destroyAllWindows()"
      ]
    },
    {
      "cell_type": "code",
      "execution_count": null,
      "id": "b580ea50",
      "metadata": {
        "id": "b580ea50"
      },
      "outputs": [],
      "source": [
        "# get the video count\n",
        "# video_count = {'accident': 40, 'call': 40, 'child': 36, 'danger': 40, 'follow': 36, 'help': 40, 'man': 40, 'murder': 40, 'police': 40, 'sick': 40, 'woman': 40}\n"
      ]
    },
    {
      "cell_type": "code",
      "execution_count": null,
      "id": "dea605fa",
      "metadata": {
        "id": "dea605fa"
      },
      "outputs": [],
      "source": [
        "# University Computer Paths\n",
        "\n",
        "# IMAGE_PATH = r'C:\\Users\\dr2007\\Documents\\FYP_HWU\\Frames\\accident\\0\\frame0.jpg'\n",
        "# DATA_PATH = r'C:\\Users\\dr2007\\Documents\\FYP_HWU\\Aug_Frames'\n",
        "# DATA_PATH = r'C:\\Users\\dr2007\\Documents\\FYP_HWU\\MP_Frames'\n",
        "# DATA_PATH = r'NEW_MP_Frames'"
      ]
    },
    {
      "cell_type": "code",
      "execution_count": 23,
      "id": "12974db6",
      "metadata": {
        "id": "12974db6"
      },
      "outputs": [],
      "source": [
        "def frameEnhance(frame):\n",
        "    # Converting BGR -> RGB\n",
        "    frame = frame[:, :, [2, 1, 0]]\n",
        "    # Normalize the pixel values\n",
        "    frame = frame / 255.0\n",
        "    return frame"
      ]
    },
    {
      "cell_type": "code",
      "execution_count": null,
      "id": "3900ef4b",
      "metadata": {
        "id": "3900ef4b"
      },
      "outputs": [],
      "source": [
        "# For ALL the classes\n",
        "max_fc = 20\n",
        "videoFrames=[]\n",
        "videolabels=[]\n",
        "\n",
        "# Iterating through each action\n",
        "for action in total_video_count.keys():\n",
        "\n",
        "    # Iterting through each video in the action\n",
        "    for sequence in range(total_video_count[action]):\n",
        "\n",
        "        # Declaring a list to store the frames of each video\n",
        "        frames = []\n",
        "\n",
        "        # Iterating through each frame\n",
        "        for frame_num in range(max_fc):\n",
        "\n",
        "            # Loading the image frame\n",
        "            frame = cv2.imread(os.path.join(DATA_PATH, action, str(sequence), \"frame{}\".format(frame_num) + \".jpg\"))\n",
        "            frame = frameEnhance(frame)\n",
        "\n",
        "            # Appending to the list\n",
        "            frames.append(frame)\n",
        "\n",
        "        # Adding to the dataset\n",
        "        videoFrames.append(frames)\n",
        "        videolabels.append(label_map[action])\n",
        "\n",
        "    print(\"Action {} done\".format(action))\n",
        "cv2.destroyAllWindows()"
      ]
    },
    {
      "cell_type": "code",
      "execution_count": null,
      "id": "3e369980",
      "metadata": {
        "id": "3e369980"
      },
      "outputs": [],
      "source": [
        "# DATA_PATH = r'C:\\Users\\dr2007\\Documents\\FYP_HWU\\Resized_Frames'\n",
        "# DATA_PATH = r'D:\\FYP_HWU\\MP_Frames'\n",
        "# DATA_PATH = r'NEW_MP_Frames'"
      ]
    },
    {
      "cell_type": "code",
      "execution_count": 17,
      "id": "4511c9a3",
      "metadata": {
        "colab": {
          "base_uri": "https://localhost:8080/"
        },
        "id": "4511c9a3",
        "outputId": "bc9a08d8-e76d-457d-bf45-a560aa61ffb5"
      },
      "outputs": [
        {
          "name": "stdout",
          "output_type": "stream",
          "text": [
            "C:\\Users\\dr2007\\Documents\\FYP_DATA\\NEW_MP_Frames\n"
          ]
        }
      ],
      "source": [
        "# print(total_video_count)\n",
        "print(DATA_PATH)"
      ]
    },
    {
      "cell_type": "code",
      "execution_count": 24,
      "id": "bde04ed0",
      "metadata": {
        "colab": {
          "base_uri": "https://localhost:8080/"
        },
        "id": "bde04ed0",
        "outputId": "e38cf799-3295-4099-af82-33ff9b279c06"
      },
      "outputs": [
        {
          "name": "stdout",
          "output_type": "stream",
          "text": [
            "Action police done\n",
            "Action follow done\n",
            "Action child done\n",
            "Action woman done\n"
          ]
        }
      ],
      "source": [
        "# For subset of the classes (3 classes) [child, follow, police]\n",
        "max_fc = 20\n",
        "videoFrames=[]\n",
        "videolabels=[]\n",
        "\n",
        "# Iterating through each action\n",
        "for action in subset_video_count.keys():\n",
        "\n",
        "    # Iterting through each video in the action\n",
        "    for sequence in range(subset_video_count[action]):\n",
        "\n",
        "        # Declaring a list to store the frames of each video\n",
        "        frames = []\n",
        "\n",
        "        # Iterating through each frame\n",
        "        for frame_num in range(max_fc):\n",
        "\n",
        "            # Loading the image frame\n",
        "            frame = cv2.imread(os.path.join(DATA_PATH, action, str(sequence), \"frame{}\".format(frame_num) + \".jpg\"))\n",
        "            frame = frameEnhance(frame)\n",
        "\n",
        "            # Appending to the list\n",
        "            frames.append(frame)\n",
        "\n",
        "        # Adding to the dataset\n",
        "        videoFrames.append(frames)\n",
        "        videolabels.append(label_map[action])\n",
        "\n",
        "    print(\"Action {} done\".format(action))\n",
        "cv2.destroyAllWindows()"
      ]
    },
    {
      "cell_type": "code",
      "execution_count": 25,
      "id": "0e83168f",
      "metadata": {
        "id": "0e83168f"
      },
      "outputs": [],
      "source": [
        "# np.array(videoFrames).shape\n",
        "X = np.array(videoFrames)"
      ]
    },
    {
      "cell_type": "code",
      "execution_count": 20,
      "id": "26505e20",
      "metadata": {
        "colab": {
          "base_uri": "https://localhost:8080/"
        },
        "id": "26505e20",
        "outputId": "7540d968-4e53-4086-f14a-7a5717db6bab"
      },
      "outputs": [
        {
          "name": "stdout",
          "output_type": "stream",
          "text": [
            "180\n"
          ]
        }
      ],
      "source": [
        "print(len(videoFrames))"
      ]
    },
    {
      "cell_type": "code",
      "execution_count": 17,
      "id": "03dbe16b",
      "metadata": {
        "colab": {
          "base_uri": "https://localhost:8080/"
        },
        "id": "03dbe16b",
        "outputId": "dc08f0de-dea0-4e7c-c42c-ca9809edafed"
      },
      "outputs": [
        {
          "data": {
            "text/plain": [
              "(180, 20, 224, 224, 3)"
            ]
          },
          "execution_count": 17,
          "metadata": {},
          "output_type": "execute_result"
        }
      ],
      "source": [
        "X.shape"
      ]
    },
    {
      "cell_type": "code",
      "execution_count": 26,
      "id": "54813e46",
      "metadata": {
        "id": "54813e46"
      },
      "outputs": [],
      "source": [
        "# np.array(videolabels).shape\n",
        "# The below code will convert the target class to this format: [1,0,0], [0,1,0], [0,0,1]\n",
        "y = to_categorical(videolabels).astype(int)"
      ]
    },
    {
      "cell_type": "code",
      "execution_count": 19,
      "id": "95a7730a",
      "metadata": {
        "colab": {
          "base_uri": "https://localhost:8080/"
        },
        "id": "95a7730a",
        "outputId": "0477ac00-8460-417b-c905-19004a43fb37"
      },
      "outputs": [
        {
          "data": {
            "text/plain": [
              "(180, 4)"
            ]
          },
          "execution_count": 19,
          "metadata": {},
          "output_type": "execute_result"
        }
      ],
      "source": [
        "y.shape"
      ]
    },
    {
      "cell_type": "code",
      "execution_count": null,
      "id": "hK2LJOZY_e1T",
      "metadata": {
        "id": "hK2LJOZY_e1T"
      },
      "outputs": [],
      "source": [
        "# np.save('X_data.npy', X)\n",
        "# np.save('y_data.npy', y)"
      ]
    },
    {
      "cell_type": "code",
      "execution_count": 27,
      "id": "e3062780",
      "metadata": {
        "id": "e3062780"
      },
      "outputs": [],
      "source": [
        "# Splitting into Train, Validation and Test\n",
        "# X_train, y_train, X_val, y_val, X_test, y_test = trainTestSplit(X, y)\n",
        "X_train, y_train, X_val, y_val = trainTestSplit(X, y)"
      ]
    },
    {
      "cell_type": "code",
      "execution_count": 23,
      "id": "7eae675e",
      "metadata": {
        "id": "7eae675e",
        "outputId": "4f454d01-3ad9-439a-d5a1-b7c5a84adcf7"
      },
      "outputs": [
        {
          "data": {
            "text/plain": [
              "(178, 20, 224, 224, 3)"
            ]
          },
          "execution_count": 23,
          "metadata": {},
          "output_type": "execute_result"
        }
      ],
      "source": [
        "X_train.shape"
      ]
    },
    {
      "cell_type": "code",
      "execution_count": 15,
      "id": "8de003a7",
      "metadata": {
        "id": "8de003a7"
      },
      "outputs": [
        {
          "data": {
            "text/plain": [
              "(8, 4)"
            ]
          },
          "execution_count": 15,
          "metadata": {},
          "output_type": "execute_result"
        }
      ],
      "source": [
        "y_val.shape"
      ]
    },
    {
      "cell_type": "code",
      "execution_count": 49,
      "id": "5109c5f8",
      "metadata": {},
      "outputs": [
        {
          "data": {
            "text/plain": [
              "(174, 4)"
            ]
          },
          "execution_count": 49,
          "metadata": {},
          "output_type": "execute_result"
        }
      ],
      "source": [
        "y_train.shape"
      ]
    },
    {
      "cell_type": "code",
      "execution_count": 28,
      "id": "a5860b87",
      "metadata": {
        "id": "a5860b87",
        "outputId": "cabc2f52-8e9a-4345-e212-541d1393348b"
      },
      "outputs": [
        {
          "data": {
            "text/plain": [
              "(8, 20, 224, 224, 3)"
            ]
          },
          "execution_count": 28,
          "metadata": {},
          "output_type": "execute_result"
        }
      ],
      "source": [
        "X_val.shape"
      ]
    },
    {
      "cell_type": "markdown",
      "id": "1f8b2e1b",
      "metadata": {
        "id": "1f8b2e1b"
      },
      "source": [
        "# Building the model"
      ]
    },
    {
      "cell_type": "markdown",
      "id": "ef5b3c77",
      "metadata": {
        "id": "ef5b3c77"
      },
      "source": [
        "## Building model for MediaPipe"
      ]
    },
    {
      "cell_type": "code",
      "execution_count": null,
      "id": "c0a4d4d9",
      "metadata": {
        "id": "c0a4d4d9"
      },
      "outputs": [],
      "source": [
        "# tensorflow\n",
        "# import tensorflow.keras as keras\n",
        "import tensorflow as tf\n",
        "\n",
        "# model / neural network\n",
        "from tensorflow.keras import layers\n",
        "from tensorflow.keras.models import Sequential, Model\n",
        "from tensorflow.keras.applications import ResNet50\n",
        "from tensorflow.keras.applications.resnet50 import preprocess_input\n",
        "from keras.layers import Dense, Dropout, Embedding, LSTM, Bidirectional"
      ]
    },
    {
      "cell_type": "code",
      "execution_count": null,
      "id": "7d9e9e36",
      "metadata": {
        "id": "7d9e9e36"
      },
      "outputs": [],
      "source": [
        "from keras.callbacks import EarlyStopping\n",
        "from keras.callbacks import ModelCheckpoint"
      ]
    },
    {
      "cell_type": "code",
      "execution_count": null,
      "id": "a763e40f",
      "metadata": {
        "id": "a763e40f"
      },
      "outputs": [],
      "source": [
        "num_classes = 11\n",
        "batch_size = 64\n",
        "epochs = 20\n",
        "# frames = 60"
      ]
    },
    {
      "cell_type": "code",
      "execution_count": null,
      "id": "1caebf3f",
      "metadata": {
        "id": "1caebf3f"
      },
      "outputs": [],
      "source": [
        "log_dir = r'D:\\FYP_HWU\\Logs'"
      ]
    },
    {
      "cell_type": "code",
      "execution_count": null,
      "id": "3fa044f5",
      "metadata": {
        "id": "3fa044f5"
      },
      "outputs": [],
      "source": [
        "os.makedirs(log_dir)"
      ]
    },
    {
      "cell_type": "markdown",
      "id": "283299f0",
      "metadata": {
        "id": "283299f0"
      },
      "source": [
        "RESNET 50"
      ]
    },
    {
      "cell_type": "code",
      "execution_count": null,
      "id": "ecf297a9",
      "metadata": {
        "id": "ecf297a9",
        "outputId": "5764abf6-7677-43f3-8036-a93228309e42"
      },
      "outputs": [
        {
          "name": "stdout",
          "output_type": "stream",
          "text": [
            "Logs\\ckpt.RES50Bi_model.h5\n"
          ]
        }
      ],
      "source": [
        "# folder_path = os.path.join(log_dir,\"ckpt.RES50Bi_model.h5\")\n",
        "folder_path = os.path.join(log_dir,\"ckpt.CNNBi_model.keras\")\n",
        "print(folder_path)"
      ]
    },
    {
      "cell_type": "code",
      "execution_count": null,
      "id": "9e8484ba",
      "metadata": {
        "id": "9e8484ba"
      },
      "outputs": [],
      "source": [
        "# defining a function to save the weights of best model\n",
        "# checkpoint = ModelCheckpoint('weight.hdf5', save_best_only=True, monitor='val_loss', mode='min')\n",
        "\n",
        "folder_path = os.path.join(log_dir,\"ckpt.RES50Bi_model.keras\")\n",
        "print(folder_path)\n",
        "\n",
        "checkpoint = ModelCheckpoint(\n",
        "        folder_path, save_best_only=True, monitor = \"val_accuracy\", mode = \"max\"\n",
        "    )\n",
        "\n",
        "# earlyStopping = EarlyStopping(monitor='val_loss', patience=10, verbose=0, mode='min', restore_best_weights=True)"
      ]
    },
    {
      "cell_type": "code",
      "execution_count": null,
      "id": "70157764",
      "metadata": {
        "id": "70157764"
      },
      "outputs": [],
      "source": [
        "model = ResNet50(include_top=False, weights='imagenet', input_shape=(224,224,3))"
      ]
    },
    {
      "cell_type": "code",
      "execution_count": null,
      "id": "434d805c",
      "metadata": {
        "id": "434d805c"
      },
      "outputs": [],
      "source": [
        "#defining the model architecture\n",
        "model = Sequential()\n",
        "model.add(Dense(64, activation='relu'))\n",
        "model.add(Dropout(0.5))\n",
        "model.add(Dense(128, activation='relu'))\n",
        "model.add(Dropout(0.5))\n",
        "model.add(Dense(256, activation='relu'))\n",
        "model.add(Dropout(0.5))\n",
        "model.add(Dense(64, activation='relu'))\n",
        "model.add(Dense(actions.shape[0], activation = 'softmax'))"
      ]
    },
    {
      "cell_type": "code",
      "execution_count": null,
      "id": "5ee21ee1",
      "metadata": {
        "id": "5ee21ee1"
      },
      "outputs": [],
      "source": [
        "model.compile(optimizer='adam', metrics=['categorical_accuracy'], loss = 'categorical_crossentropy')"
      ]
    },
    {
      "cell_type": "code",
      "execution_count": null,
      "id": "78bef577",
      "metadata": {
        "id": "78bef577"
      },
      "outputs": [],
      "source": [
        "model.fit(X_train, y_train, epochs=50, callbacks = [checkpoint])"
      ]
    },
    {
      "cell_type": "code",
      "execution_count": null,
      "id": "59994c6e",
      "metadata": {
        "id": "59994c6e"
      },
      "outputs": [],
      "source": [
        "model.summary()"
      ]
    },
    {
      "cell_type": "code",
      "execution_count": null,
      "id": "12cf39a7",
      "metadata": {
        "id": "12cf39a7"
      },
      "outputs": [],
      "source": [
        "# model.save(\"resnet50.h5\")"
      ]
    },
    {
      "cell_type": "code",
      "execution_count": null,
      "id": "6d4b1a2d",
      "metadata": {
        "id": "6d4b1a2d"
      },
      "outputs": [],
      "source": []
    },
    {
      "cell_type": "code",
      "execution_count": null,
      "id": "b2d38d74",
      "metadata": {
        "id": "b2d38d74"
      },
      "outputs": [],
      "source": []
    },
    {
      "cell_type": "code",
      "execution_count": null,
      "id": "70d5d4ce",
      "metadata": {
        "id": "70d5d4ce"
      },
      "outputs": [],
      "source": [
        "# # build the entire model\n",
        "# x = resnet_50.output\n",
        "# x = layers.GlobalAveragePooling2D()(x)\n",
        "# x = layers.Dense(512, activation='relu')(x)\n",
        "# x = layers.Dropout(0.5)(x)\n",
        "# x = layers.Dense(256, activation='relu')(x)\n",
        "# x = layers.Dropout(0.5)(x)\n",
        "# x = layers.Dense(128, activation='relu')(x)\n",
        "# x = layers.Dropout(0.5)(x)\n",
        "# x = layers.Dense(64, activation='relu')(x)\n",
        "# x = layers.Dropout(0.5)(x)\n",
        "# predictions = layers.Dense(5, activation='softmax')(x)\n",
        "# model = Model(inputs = resnet_50.input, outputs = predictions)"
      ]
    },
    {
      "cell_type": "markdown",
      "id": "7b51bd75",
      "metadata": {
        "id": "7b51bd75"
      },
      "source": [
        "BiLSTM"
      ]
    },
    {
      "cell_type": "code",
      "execution_count": null,
      "id": "aae9dd3f",
      "metadata": {
        "id": "aae9dd3f"
      },
      "outputs": [],
      "source": [
        "# model = Sequential()\n",
        "# model.add(Embedding(noClasses, batch_size, input_length=maxlen))\n",
        "# model.add(Bidirectional(LSTM(64)))\n",
        "# model.add(Dropout(0.5))\n",
        "# model.add(Dense(1, activation='sigmoid'))\n",
        "# model.compile(loss='binary_crossentropy', optimizer='adam', metrics=['accuracy'])"
      ]
    },
    {
      "cell_type": "code",
      "execution_count": null,
      "id": "e7859fb9",
      "metadata": {
        "id": "e7859fb9"
      },
      "outputs": [],
      "source": [
        "#  history=model.fit(x_train, y_train,\n",
        "#            batch_size=batch_size,\n",
        "#            epochs=20,\n",
        "#            validation_data=[x_test, y_test])\n",
        "#  print(history.history['loss'])\n",
        "#  print(history.history['accuracy'])"
      ]
    },
    {
      "cell_type": "code",
      "execution_count": null,
      "id": "25a57dd0",
      "metadata": {
        "id": "25a57dd0"
      },
      "outputs": [],
      "source": [
        "# Creating the model\n",
        "# model = tf.keras.Sequential([\n",
        "#     encoder,\n",
        "#     tf.keras.layers.Embedding(11, 64, mask_zero=True),\n",
        "#     tf.keras.layers.Bidirectional(tf.keras.layers.LSTM(64,  return_sequences=True)),\n",
        "#     tf.keras.layers.Bidirectional(tf.keras.layers.LSTM(32)),\n",
        "#     tf.keras.layers.Dense(64, activation='relu'),\n",
        "#     tf.keras.layers.Dense(1)\n",
        "# ])\n",
        "\n",
        "# # Compile the model\n",
        "# model.compile(\n",
        "#     loss=tf.keras.losses.BinaryCrossentropy(from_logits=True),\n",
        "#     optimizer=tf.keras.optimizers.Adam(),\n",
        "#     metrics=['accuracy']\n",
        "# )\n",
        "\n",
        "\n",
        "# # Training the model and validating it on test set\n",
        "# history = model.fit(\n",
        "#     train_dataset,\n",
        "#     epochs=5,\n",
        "#     validation_data=test_dataset,\n",
        "# )"
      ]
    },
    {
      "cell_type": "code",
      "execution_count": null,
      "id": "7d571e00",
      "metadata": {
        "id": "7d571e00"
      },
      "outputs": [],
      "source": [
        "model = Sequential()\n",
        "model.add(Embedding(noClasses, batch_size, input_length=maxlen))\n",
        "model.add(Bidirectional(LSTM(64, return_sequences=True, activation = 'relu')))\n",
        "model.add(Bidirectional(LSTM(32, return_sequences=False, activation = 'relu')))\n",
        "# model.add(Dropout(0.5))\n",
        "model.add(Dense(64, activation='relu'))\n",
        "model.add(Dense(32, activation='relu'))\n",
        "model.add(Dense(actions.shape[0], activation = 'softmax'))"
      ]
    },
    {
      "cell_type": "code",
      "execution_count": null,
      "id": "134b496e",
      "metadata": {
        "id": "134b496e"
      },
      "outputs": [],
      "source": [
        "model.compile(optimizer='adam', metrics=['categorical_accuracy'], loss = 'categorical_corssentropy')"
      ]
    },
    {
      "cell_type": "code",
      "execution_count": null,
      "id": "16c1ba72",
      "metadata": {
        "id": "16c1ba72"
      },
      "outputs": [],
      "source": [
        "model.fit(X_train, y_train, epochs=20, callbacks = [checkpoint])"
      ]
    },
    {
      "cell_type": "code",
      "execution_count": null,
      "id": "1919f7e0",
      "metadata": {
        "id": "1919f7e0"
      },
      "outputs": [],
      "source": [
        "model.save(\"bilstm.h5\")"
      ]
    },
    {
      "cell_type": "code",
      "execution_count": null,
      "id": "c6ae594e",
      "metadata": {
        "id": "c6ae594e"
      },
      "outputs": [],
      "source": [
        "# Summary of the model\n",
        "model.summary()"
      ]
    },
    {
      "cell_type": "code",
      "execution_count": null,
      "id": "be38d94c",
      "metadata": {
        "id": "be38d94c"
      },
      "outputs": [],
      "source": [
        "# %pip install --user tensorflow"
      ]
    },
    {
      "cell_type": "code",
      "execution_count": null,
      "id": "73ea75b4",
      "metadata": {
        "collapsed": true,
        "id": "73ea75b4"
      },
      "outputs": [],
      "source": [
        "# !pip3 install --user numpy==1.22.1"
      ]
    },
    {
      "cell_type": "markdown",
      "id": "9cd7e79b",
      "metadata": {
        "id": "9cd7e79b"
      },
      "source": [
        "### #-------------------------------------------------------------#"
      ]
    },
    {
      "cell_type": "markdown",
      "id": "74368859",
      "metadata": {
        "id": "74368859"
      },
      "source": [
        "RESNET 50"
      ]
    },
    {
      "cell_type": "code",
      "execution_count": null,
      "id": "c3c1d361",
      "metadata": {
        "id": "c3c1d361"
      },
      "outputs": [],
      "source": [
        "# # ResNet50 model\n",
        "# resnet_50 = ResNet50(include_top=False, weights='imagenet', input_shape=(224,224,3))\n",
        "# for layer in resnet_50.layers:\n",
        "#     layer.trainable = False"
      ]
    },
    {
      "cell_type": "code",
      "execution_count": null,
      "id": "6f1a59cf",
      "metadata": {
        "id": "6f1a59cf"
      },
      "outputs": [],
      "source": [
        "# # build the entire model\n",
        "# x = resnet_50.output\n",
        "# x = layers.GlobalAveragePooling2D()(x)\n",
        "# x = layers.Dense(512, activation='relu')(x)\n",
        "# x = layers.Dropout(0.5)(x)\n",
        "# x = layers.Dense(256, activation='relu')(x)\n",
        "# x = layers.Dropout(0.5)(x)\n",
        "# x = layers.Dense(128, activation='relu')(x)\n",
        "# x = layers.Dropout(0.5)(x)\n",
        "# x = layers.Dense(64, activation='relu')(x)\n",
        "# x = layers.Dropout(0.5)(x)\n",
        "# predictions = layers.Dense(5, activation='softmax')(x)\n",
        "# model = Model(inputs = resnet_50.input, outputs = predictions)"
      ]
    },
    {
      "cell_type": "markdown",
      "id": "c5d0b438",
      "metadata": {
        "id": "c5d0b438"
      },
      "source": [
        "3D CNN"
      ]
    },
    {
      "cell_type": "code",
      "execution_count": null,
      "id": "7c5949e7",
      "metadata": {
        "id": "7c5949e7"
      },
      "outputs": [],
      "source": [
        "# model.compile(Adam(0.001),'categorical_crossentropy',['accuracy'])\n",
        "# model.fit(xtrain,ytrain,epochs=200,batch_size=32,verbose=1,validation_data=(xtest,ytest),callbacks=[EarlyStopping(patience=15)])\n",
        "# Testing the 3D-CNN\n",
        "# _, acc = model.evaluate(xtrain, ytrain)\n",
        "# print('training accuracy:', str(round(acc*100, 2))+'%')\n",
        "# _, acc = model.evaluate(xtest, ytest)\n",
        "# print('testing accuracy:', str(round(acc*100, 2))+'%')"
      ]
    },
    {
      "cell_type": "markdown",
      "id": "30fe6be3",
      "metadata": {
        "id": "30fe6be3"
      },
      "source": [
        "TRANSFORMER"
      ]
    },
    {
      "cell_type": "code",
      "execution_count": null,
      "id": "15a7f7b3",
      "metadata": {
        "id": "15a7f7b3"
      },
      "outputs": [],
      "source": []
    },
    {
      "cell_type": "code",
      "execution_count": null,
      "id": "51f91f7b",
      "metadata": {
        "id": "51f91f7b"
      },
      "outputs": [],
      "source": []
    },
    {
      "cell_type": "markdown",
      "id": "77e5d787",
      "metadata": {
        "id": "77e5d787"
      },
      "source": [
        "## Training the model"
      ]
    },
    {
      "cell_type": "code",
      "execution_count": 29,
      "id": "258f25c4",
      "metadata": {
        "id": "258f25c4"
      },
      "outputs": [],
      "source": [
        "from keras.callbacks import EarlyStopping\n",
        "from keras.callbacks import ModelCheckpoint"
      ]
    },
    {
      "cell_type": "code",
      "execution_count": 30,
      "id": "4d55ffb8",
      "metadata": {
        "id": "4d55ffb8"
      },
      "outputs": [],
      "source": [
        "log_dir = r'C:\\Users\\dr2007\\Documents\\FYP_DATA\\Logs'\n",
        "# os.makedirs('Logs')"
      ]
    },
    {
      "cell_type": "code",
      "execution_count": 31,
      "id": "b7a3f046",
      "metadata": {
        "id": "b7a3f046"
      },
      "outputs": [],
      "source": [
        "# defining a function to save the weights of best model\n",
        "# log_dir = r'Logs'\n",
        "folder_path = os.path.join(log_dir,\"ckpt.Xception_sub1.keras\")\n",
        "\n",
        "checkpoint = ModelCheckpoint(\n",
        "        folder_path, save_best_only=True, monitor = \"val_accuracy\", mode = \"max\"\n",
        "    )\n",
        "\n",
        "earlyStopping = EarlyStopping(monitor='val_loss', patience=5, verbose=0, mode='min', restore_best_weights=True)"
      ]
    },
    {
      "cell_type": "code",
      "execution_count": 38,
      "id": "0767fa42",
      "metadata": {
        "id": "0767fa42"
      },
      "outputs": [],
      "source": [
        "# import numpy as np\n",
        "# import pandas as pd\n",
        "# import tensorflow as tf\n",
        "from tensorflow.keras.models import Sequential, Model\n",
        "from tensorflow.keras.layers import Dense, TimeDistributed, Dropout, LSTM, Bidirectional, Input, BatchNormalization, GlobalAveragePooling2D, GlobalMaxPool2D, Concatenate, Flatten,Conv2D, MaxPooling2D\n",
        "from tensorflow.keras.applications import ResNet50\n",
        "# from tensorflow.keras.preprocessing.sequence import pad_sequences\n",
        "from keras.callbacks import LearningRateScheduler\n",
        "# from keras.optimizers import Adam, RMSprop, SVM\n",
        "from tensorflow.keras.optimizers import Adam, RMSprop"
      ]
    },
    {
      "cell_type": "code",
      "execution_count": null,
      "id": "f6639431",
      "metadata": {},
      "outputs": [],
      "source": [
        "batch_size = 2\n",
        "epochs = 10"
      ]
    },
    {
      "cell_type": "code",
      "execution_count": 35,
      "id": "e03c793d",
      "metadata": {},
      "outputs": [],
      "source": [
        "import tensorflow as tf\n",
        "with tf.device('/cpu:0'):\n",
        "   x = tf.convert_to_tensor(X_train, np.float32)\n",
        "   y = tf.convert_to_tensor(y_train, np.float32)"
      ]
    },
    {
      "cell_type": "code",
      "execution_count": 33,
      "id": "07976b6a",
      "metadata": {},
      "outputs": [
        {
          "data": {
            "text/plain": [
              "'2.6.0'"
            ]
          },
          "execution_count": 33,
          "metadata": {},
          "output_type": "execute_result"
        }
      ],
      "source": [
        "# tf. __version__"
      ]
    },
    {
      "cell_type": "code",
      "execution_count": null,
      "id": "779a45a6",
      "metadata": {},
      "outputs": [],
      "source": [
        "# !pip3 install tensorflow --upgrade"
      ]
    },
    {
      "cell_type": "code",
      "execution_count": null,
      "id": "n_GlfvUOI1JW",
      "metadata": {
        "colab": {
          "base_uri": "https://localhost:8080/"
        },
        "id": "n_GlfvUOI1JW",
        "outputId": "12ab986a-40fe-41b8-8a27-959eaa0e635a"
      },
      "outputs": [
        {
          "data": {
            "text/plain": [
              "[PhysicalDevice(name='/physical_device:GPU:0', device_type='GPU')]"
            ]
          },
          "execution_count": 17,
          "metadata": {},
          "output_type": "execute_result"
        }
      ],
      "source": [
        "# tf.config.list_physical_devices('GPU')"
      ]
    },
    {
      "cell_type": "code",
      "execution_count": 23,
      "id": "b6e189ca",
      "metadata": {
        "colab": {
          "base_uri": "https://localhost:8080/"
        },
        "id": "b6e189ca",
        "outputId": "99e92dbe-6bbc-4517-a26c-9b49a570b2f4"
      },
      "outputs": [],
      "source": [
        "# actions = len(total_video_count.keys())\n",
        "# print(actions)"
      ]
    },
    {
      "cell_type": "markdown",
      "id": "5a1d3988",
      "metadata": {},
      "source": [
        "### ResNet50 + BiLSTM Model"
      ]
    },
    {
      "cell_type": "markdown",
      "id": "5d957cb8",
      "metadata": {
        "id": "5d957cb8"
      },
      "source": [
        "#### RESNET 50 + BiLSTM (224 x 224 images)"
      ]
    },
    {
      "cell_type": "code",
      "execution_count": null,
      "id": "c5eb139c",
      "metadata": {
        "colab": {
          "base_uri": "https://localhost:8080/"
        },
        "id": "c5eb139c",
        "outputId": "8163566d-c4b2-444a-a701-67fe039bacbd"
      },
      "outputs": [],
      "source": [
        "# Assuming you have a ResNet50 model loaded with pre-trained weights\n",
        "resnet_model = ResNet50(weights='imagenet', include_top=False, input_shape=(224, 224, 3))\n",
        "resnet_model.trainable = False  # Freeze the weights of the ResNet50 model\n",
        "\n",
        "noActions = len(subset_video_count.keys())\n",
        "\n",
        "# Define the BiLSTM model\n",
        "bilstm_model = Sequential()\n",
        "# bilstm_model.add(Bidirectional(LSTM(64, return_sequences=True, activation = 'relu', input_shape = (60,2048))))\n",
        "bilstm_model.add(Bidirectional(LSTM(64, return_sequences=True, activation='relu'), input_shape=(20, 2048)))\n",
        "bilstm_model.add(Bidirectional(LSTM(32, return_sequences=False, activation = 'relu')))\n",
        "# bilstm_model.add(Bidirectional(LSTM(units=128, return_sequences=True), input_shape=(60, 2048)))  # Adjust feature_size based on your data\n",
        "\n",
        "# Additional layers\n",
        "bilstm_model.add(Dense(64, activation='relu'))\n",
        "bilstm_model.add(Dense(32, activation='relu'))\n",
        "bilstm_model.add(Dense(noActions, activation = 'softmax'))\n",
        "\n",
        "# Combine the ResNet50 and BiLSTM models\n",
        "combined_input = Input(shape=(20, 224, 224, 3))  # Assuming image shape is (224, 224, 3)\n",
        "resnet_output = TimeDistributed(resnet_model)(combined_input)\n",
        "resnet_output = TimeDistributed(GlobalAveragePooling2D())(resnet_output)  # Adjust pooling layer based on your requirements\n",
        "# resnet_output = Reshape((60, -1))(resnet_output)\n",
        "# print(resnet_output.shape)\n",
        "bilstm_output = bilstm_model(resnet_output)\n",
        "\n",
        "# ---------------\n",
        "\n",
        "\n",
        "# Concatenate the outputs\n",
        "# merged = concatenate([resnet_output, bilstm_output])\n",
        "\n",
        "# Additional layers for combined model\n",
        "# final_output = Dense(128, activation='relu')(merged)\n",
        "# final_output = Dense(Dense(actions.shape[0], activation='softmax')(final_output)  # Adjust num_classes based on your task\n",
        "\n",
        "# Create the final model\n",
        "# hybrid_model = Model(inputs=combined_input, outputs=final_output)\n",
        "\n",
        "# ----------------\n",
        "hybrid_model1 = Model(inputs=combined_input, outputs=bilstm_output)\n"
      ]
    },
    {
      "cell_type": "code",
      "execution_count": 22,
      "id": "c5255150",
      "metadata": {
        "id": "c5255150"
      },
      "outputs": [],
      "source": [
        "def build_renet50():\n",
        "    resnet_model = ResNet50(weights='imagenet', include_top=False, input_shape=(224, 224, 3))\n",
        "    for layer in resnet_model.layers:\n",
        "        layer.trainable = False\n",
        "\n",
        "    # for layer in resnet_model.layers[:170]:\n",
        "    #     layer.trainable = False\n",
        "\n",
        "#     output = GlobalMaxPool2D()\n",
        "    return resnet_model"
      ]
    },
    {
      "cell_type": "code",
      "execution_count": 23,
      "id": "4bf724f8",
      "metadata": {
        "id": "4bf724f8"
      },
      "outputs": [],
      "source": [
        "def build_BiLSTM(noActions, shape = (20, 2048)):\n",
        "\n",
        "    # Define the BiLSTM model\n",
        "    bilstm_model = Sequential()\n",
        "    # bilstm_model.add(TimeDistributed(first_model)(inputShape)) #(20, 2048)\n",
        "    bilstm_model.add(Bidirectional(LSTM(64, return_sequences=True, input_shape=shape))) #, input_shape=(60, 2048)\n",
        "    bilstm_model.add(Bidirectional(LSTM(32, return_sequences=False)))\n",
        "\n",
        "    # Additional layers\n",
        "    # bilstm_model.add(Flatten())\n",
        "    # bilstm_model.add(Dense(64, activation='relu'))\n",
        "    # bilstm_model.add(Dropout(.5))\n",
        "    # bilstm_model.add(Dense(128, activation='relu'))\n",
        "    # bilstm_model.add(Dropout(.5))\n",
        "    # bilstm_model.add(Dense(64, activation='relu'))\n",
        "    # bilstm_model.add(Dropout(.5))\n",
        "    # bilstm_model.add(Dense(32, activation='relu'))\n",
        "    # bilstm_model.add(Dense(noActions, activation = 'softmax'))\n",
        "\n",
        "    bilstm_model.add(BatchNormalization())\n",
        "    bilstm_model.add(Dense(256, activation='relu'))\n",
        "    bilstm_model.add(BatchNormalization())\n",
        "    bilstm_model.add(Dense(128, activation='relu'))\n",
        "    bilstm_model.add(Dropout(0.5))\n",
        "    bilstm_model.add(BatchNormalization())\n",
        "    bilstm_model.add(Dense(64, activation='relu'))\n",
        "    bilstm_model.add(Dropout(0.5))\n",
        "    bilstm_model.add(BatchNormalization())\n",
        "    bilstm_model.add(Dense(noActions, activation='softmax'))\n",
        "\n",
        "    return bilstm_model"
      ]
    },
    {
      "cell_type": "code",
      "execution_count": 24,
      "id": "c015b470",
      "metadata": {
        "id": "c015b470"
      },
      "outputs": [],
      "source": [
        "def Res50_BiLSTM(inputShape=(20,224,224,3), noActions=len(subset_video_count.keys())):\n",
        "    combined_input = Input(shape=inputShape)  # Assuming image shape is (224, 224, 3)\n",
        "    resnetModel = build_renet50()\n",
        "    resnet_output = TimeDistributed(resnetModel)(combined_input)\n",
        "    resnet_output = TimeDistributed(GlobalAveragePooling2D())(resnet_output)\n",
        "    bilstm_model = build_BiLSTM(noActions, (20, 2048))\n",
        "    bilstm_output = bilstm_model(resnet_output)\n",
        "    hybrid_model1 = Model(inputs=combined_input, outputs=bilstm_output)\n",
        "    return hybrid_model1"
      ]
    },
    {
      "cell_type": "code",
      "execution_count": 46,
      "id": "d970510f",
      "metadata": {},
      "outputs": [],
      "source": [
        "from tensorflow.keras.models import load_model\n",
        "log_dir = r'C:\\Users\\dr2007\\Documents\\FYP_DATA\\Logs'\n",
        "folder_path = os.path.join(log_dir,\"ckpt.Res50_sub1.keras\")\n",
        "res50LoadModel=load_model(folder_path)"
      ]
    },
    {
      "cell_type": "code",
      "execution_count": 50,
      "id": "a3e83d07",
      "metadata": {},
      "outputs": [],
      "source": [
        "# RESNET 50 CODE\n",
        "def build_renet50():\n",
        "    # resnet_model = tf.keras.applications.ResNet50(weights='imagenet', include_top=False, input_shape=(224, 224, 3))\n",
        "\n",
        "    # # Freeze the ResNet50 layers\n",
        "    # for layer in resnet_model.layers:\n",
        "    #     layer.trainable = False\n",
        "\n",
        "    # Input layer for the video frames\n",
        "    input_frames = Input(shape=(20, 224, 224, 3))\n",
        "\n",
        "    # Apply TimeDistributed to the ResNet50 base\n",
        "    resnet_output = res50LoadModel(input_frames)\n",
        "    # outputs = res50LoadModel(input_frames)\n",
        "\n",
        "    return Model(input_frames, resnet_output, name=\"feature_extractor\")\n",
        "\n",
        "res50_fe = build_renet50()\n",
        "\n",
        "\n",
        "# def build_feature_extractor():\n",
        "#     feature_extractor = tf.keras.applications.ResNet50(weights='imagenet', include_top=False, input_shape=(224, 224, 3))\n",
        "#     preprocess_input = keras.applications.inception_v3.preprocess_input\n",
        "\n",
        "#     inputs = keras.Input((IMG_SIZE, IMG_SIZE, 3))\n",
        "#     preprocessed = preprocess_input(inputs)\n",
        "\n",
        "#     outputs = feature_extractor(preprocessed)\n",
        "#     return keras.Model(inputs, outputs, name=\"feature_extractor\")\n",
        "\n",
        "\n"
      ]
    },
    {
      "cell_type": "markdown",
      "id": "bbe136f6",
      "metadata": {},
      "source": [
        "#### ResNet50 Model (Alone)"
      ]
    },
    {
      "cell_type": "code",
      "execution_count": 63,
      "id": "873a8746",
      "metadata": {},
      "outputs": [],
      "source": [
        "# Load pre-trained ResNet50 without the top (fully connected) layers\n",
        "resnet_model = tf.keras.applications.ResNet50(weights='imagenet', include_top=False, input_shape=(224, 224, 3))\n",
        "\n",
        "# Freeze the ResNet50 layers\n",
        "for layer in resnet_model.layers:\n",
        "    layer.trainable = False\n",
        "\n",
        "# Input layer for the video frames\n",
        "input_frames = Input(shape=(20, 224, 224, 3))\n",
        "\n",
        "# Apply TimeDistributed to the ResNet50 base\n",
        "resnet_output = TimeDistributed(resnet_model)(input_frames)\n",
        "\n",
        "# Global Average Pooling layer to reduce spatial dimensions\n",
        "global_avg_pool = TimeDistributed(GlobalAveragePooling2D())(resnet_output)\n",
        "\n",
        "# Fully connected layers for video-level classification\n",
        "dense_layer = (Flatten())(global_avg_pool)\n",
        "dense_layer = Dense(512, activation='relu')(dense_layer)\n",
        "output_layer = Dense(4, activation='softmax')(dense_layer)  # Assuming 4 classes, adjust as needed\n",
        "\n",
        "# Create the final model\n",
        "hybrid_model1 = tf.keras.models.Model(inputs=input_frames, outputs=output_layer)\n",
        "\n"
      ]
    },
    {
      "cell_type": "code",
      "execution_count": 64,
      "id": "ea2ce1a7",
      "metadata": {},
      "outputs": [],
      "source": [
        "# Compile the model (you can customize the optimizer, loss, and metrics)\n",
        "hybrid_model1.compile(optimizer=Adam(learning_rate=0.001), loss='categorical_crossentropy', metrics=['accuracy'])"
      ]
    },
    {
      "cell_type": "code",
      "execution_count": 72,
      "id": "d6f2bd42",
      "metadata": {},
      "outputs": [
        {
          "name": "stdout",
          "output_type": "stream",
          "text": [
            "Epoch 1/20\n",
            "87/87 [==============================] - 8s 84ms/step - loss: 0.3661 - accuracy: 0.8736 - val_loss: 0.6594 - val_accuracy: 0.8333\n",
            "Epoch 2/20\n",
            "87/87 [==============================] - 7s 82ms/step - loss: 0.3858 - accuracy: 0.8678 - val_loss: 0.3778 - val_accuracy: 0.8333\n",
            "Epoch 3/20\n",
            "87/87 [==============================] - 7s 80ms/step - loss: 0.3069 - accuracy: 0.8908 - val_loss: 0.6817 - val_accuracy: 0.8333\n",
            "Epoch 4/20\n",
            "87/87 [==============================] - 7s 80ms/step - loss: 0.3417 - accuracy: 0.8506 - val_loss: 0.6554 - val_accuracy: 0.6667\n",
            "Epoch 5/20\n",
            "87/87 [==============================] - 7s 80ms/step - loss: 0.2811 - accuracy: 0.9368 - val_loss: 0.4093 - val_accuracy: 0.8333\n",
            "Epoch 6/20\n",
            "87/87 [==============================] - 7s 80ms/step - loss: 0.2359 - accuracy: 0.9368 - val_loss: 0.7822 - val_accuracy: 0.6667\n",
            "Epoch 7/20\n",
            "87/87 [==============================] - 7s 80ms/step - loss: 0.2511 - accuracy: 0.9195 - val_loss: 0.2036 - val_accuracy: 1.0000\n",
            "Epoch 8/20\n",
            "87/87 [==============================] - 7s 80ms/step - loss: 0.2962 - accuracy: 0.8736 - val_loss: 1.2148 - val_accuracy: 0.6667\n",
            "Epoch 9/20\n",
            "87/87 [==============================] - 7s 81ms/step - loss: 0.2768 - accuracy: 0.9080 - val_loss: 0.2365 - val_accuracy: 1.0000\n",
            "Epoch 10/20\n",
            "87/87 [==============================] - 7s 83ms/step - loss: 0.3501 - accuracy: 0.8506 - val_loss: 0.2135 - val_accuracy: 1.0000\n",
            "Epoch 11/20\n",
            "87/87 [==============================] - 7s 81ms/step - loss: 0.1963 - accuracy: 0.9368 - val_loss: 0.4043 - val_accuracy: 0.8333\n",
            "Epoch 12/20\n",
            "87/87 [==============================] - 7s 81ms/step - loss: 0.3133 - accuracy: 0.8621 - val_loss: 0.1837 - val_accuracy: 1.0000\n",
            "Epoch 13/20\n",
            "87/87 [==============================] - 7s 83ms/step - loss: 0.2078 - accuracy: 0.9425 - val_loss: 0.6252 - val_accuracy: 0.6667\n",
            "Epoch 14/20\n",
            "87/87 [==============================] - 7s 81ms/step - loss: 0.2170 - accuracy: 0.9253 - val_loss: 0.1490 - val_accuracy: 1.0000\n",
            "Epoch 15/20\n",
            "87/87 [==============================] - 7s 81ms/step - loss: 0.1713 - accuracy: 0.9425 - val_loss: 0.9629 - val_accuracy: 0.5000\n",
            "Epoch 16/20\n",
            "87/87 [==============================] - 7s 81ms/step - loss: 0.3544 - accuracy: 0.8333 - val_loss: 1.0432 - val_accuracy: 0.6667\n",
            "Epoch 17/20\n",
            "87/87 [==============================] - 7s 82ms/step - loss: 0.1840 - accuracy: 0.9425 - val_loss: 0.3576 - val_accuracy: 0.8333\n",
            "Epoch 18/20\n",
            "87/87 [==============================] - 7s 81ms/step - loss: 0.1360 - accuracy: 0.9598 - val_loss: 0.8331 - val_accuracy: 0.5000\n",
            "Epoch 19/20\n",
            "87/87 [==============================] - 7s 81ms/step - loss: 0.4285 - accuracy: 0.8506 - val_loss: 0.4606 - val_accuracy: 0.6667\n",
            "Epoch 20/20\n",
            "87/87 [==============================] - 7s 81ms/step - loss: 0.4037 - accuracy: 0.8448 - val_loss: 0.7124 - val_accuracy: 0.6667\n"
          ]
        }
      ],
      "source": [
        "history = hybrid_model1.fit(x, y, epochs=20, batch_size=batch_size, validation_data=(X_val, y_val))"
      ]
    },
    {
      "cell_type": "markdown",
      "id": "8f846598",
      "metadata": {},
      "source": [
        "#### BiLSTM Model (Alone)"
      ]
    },
    {
      "cell_type": "code",
      "execution_count": null,
      "id": "34bbbffe",
      "metadata": {},
      "outputs": [],
      "source": [
        "# Define the BiLSTM model\n",
        "# bilstm_model = Sequential()\n",
        "# # bilstm_model.add(TimeDistributed(first_model)(inputShape)) #(20, 2048)\n",
        "\n",
        "# bilstm_model.add(Bidirectional(LSTM(64, return_sequences=True))) #, input_shape=(60, 2048)\n",
        "# bilstm_model.add(Bidirectional(LSTM(32, return_sequences=False)))\n",
        "\n",
        "# input_frames = Input(shape=(20, 224, 224, 3))\n",
        "\n",
        "# # Apply TimeDistributed to the ResNet50 base\n",
        "# resnet_output = TimeDistributed(bilstm_model)(input_frames)\n",
        "\n",
        "# # Global Average Pooling layer to reduce spatial dimensions\n",
        "# global_avg_pool = TimeDistributed(GlobalAveragePooling2D())(resnet_output)\n",
        "\n",
        "# # Fully connected layers for video-level classification\n",
        "# dense_layer = (Flatten())(global_avg_pool)\n",
        "# dense_layer = Dense(512, activation='relu')(dense_layer)\n",
        "# output_layer = Dense(4, activation='softmax')(dense_layer)  # Assuming 4 classes, adjust as needed\n",
        "# ==========================================\n",
        "\n",
        "# # Reshape to fit the LSTM input shape\n",
        "# input_frames = Input(shape=(20, 224, 224, 3))\n",
        "# reshaped_frames = tf.keras.layers.Reshape((20, -1))(input_frames)\n",
        "# # print(reshaped_frames)\n",
        "# # Bidirectional LSTM layer\n",
        "# bilstm_output = TimeDistributed(Bidirectional(LSTM(256, return_sequences=True)))(reshaped_frames)\n",
        "# bilstm_output = TimeDistributed(Bidirectional(LSTM(64, return_sequences=False)))(bilstm_output)\n",
        "\n",
        "# # Global Average Pooling layer to reduce temporal dimensions\n",
        "# global_avg_pool = TimeDistributed(GlobalAveragePooling2D())(bilstm_output)\n",
        "\n",
        "# # Fully connected layers for video-level classification\n",
        "# dense_layer = (Flatten())(global_avg_pool)\n",
        "# dense_layer = Dense(512, activation='relu')(dense_layer)\n",
        "# output_layer = Dense(4, activation='softmax')(dense_layer)  # Assuming 4 classes, adjust as needed\n",
        "\n",
        "# # Create the final model\n",
        "# hybrid_model2 = Model(inputs=input_frames, outputs=output_layer)\n",
        "\n",
        "#===========================================================\n",
        "\n",
        "# Input layer for the video frames\n",
        "input_frames = Input(shape=(20, 224, 224, 3))\n",
        "\n",
        "# Reshape to fit the LSTM input shape\n",
        "reshaped_frames = TimeDistributed(Flatten())(input_frames)\n",
        "\n",
        "# Bidirectional LSTM layer\n",
        "bilstm_output = Bidirectional(LSTM(64, return_sequences=True))(reshaped_frames)\n",
        "bilstm_output = Bidirectional(LSTM(32, return_sequences=False))(bilstm_output)\n",
        "\n",
        "# Global Average Pooling layer to reduce temporal dimensions\n",
        "global_avg_pool = TimeDistributed(GlobalAveragePooling2D())(bilstm_output)\n",
        "\n",
        "# Fully connected layers for video-level classification\n",
        "dense_layer = (Flatten())(global_avg_pool)\n",
        "dense_layer = Dense(64, activation='relu')(dense_layer)\n",
        "output_layer = Dense(4, activation='softmax')(dense_layer)  # Assuming 4 classes, adjust as needed\n",
        "\n",
        "# Create the final model\n",
        "hybrid_model2 = Model(inputs=input_frames, outputs=output_layer)\n"
      ]
    },
    {
      "cell_type": "code",
      "execution_count": 34,
      "id": "b9edcb3f",
      "metadata": {},
      "outputs": [],
      "source": [
        "# !nvidia-smi"
      ]
    },
    {
      "cell_type": "code",
      "execution_count": 35,
      "id": "28455647",
      "metadata": {},
      "outputs": [],
      "source": [
        "# Define a learning rate schedule function\n",
        "from keras.callbacks import LearningRateScheduler\n",
        "def lr_schedule(epoch, current_lr):\n",
        "    if epoch < 3:\n",
        "        return current_lr  # Keep the initial learning rate for the first 5 epochs\n",
        "    else:\n",
        "        # Increase the learning rate by 3 times after the 5th epoch\n",
        "        return current_lr * 0.1\n",
        "    \n",
        "\n",
        "# Create a learning rate scheduler\n",
        "lr_scheduler = LearningRateScheduler(lr_schedule)"
      ]
    },
    {
      "cell_type": "code",
      "execution_count": 25,
      "id": "7d241830",
      "metadata": {
        "id": "7d241830"
      },
      "outputs": [],
      "source": [
        "Res50_BiLSTM_1 = Res50_BiLSTM()"
      ]
    },
    {
      "cell_type": "code",
      "execution_count": null,
      "id": "a30e38eb",
      "metadata": {},
      "outputs": [],
      "source": [
        "# #--------------------------------------------------\n",
        "# resnet_model = ResNet50(weights='imagenet', include_top=False, input_shape=(224, 224, 3))\n",
        "# resnet_model.trainable = False  # Freeze the weights of the ResNet50 model\n",
        "\n",
        "# noActions = len(subset_video_count.keys())\n",
        "\n",
        "# # Define the BiLSTM model\n",
        "# bilstm_model = Sequential()\n",
        "# bilstm_model.add(Bidirectional(LSTM(64, return_sequences=True, activation='relu', input_shape=(20, 2048))))\n",
        "# bilstm_model.add(Bidirectional(LSTM(32, return_sequences=False, activation='relu')))\n",
        "\n",
        "# # Additional layers\n",
        "# bilstm_model.add(Flatten())\n",
        "# bilstm_model.add(Dense(128, activation='relu'))\n",
        "# bilstm_model.add(Dropout(.5))\n",
        "# bilstm_model.add(Dense(64, activation='relu'))\n",
        "# bilstm_model.add(Dropout(.5))\n",
        "# bilstm_model.add(Dense(32, activation='relu'))\n",
        "# bilstm_model.add(Dense(noActions, activation = 'softmax'))\n",
        "\n",
        "# combined_input = Input(shape=(20, 224, 224, 3))  # Assuming image shape is (224, 224, 3)\n",
        "# resnet_output = TimeDistributed(resnet_model())(combined_input)\n",
        "# resnet_output = TimeDistributed(GlobalAveragePooling2D())(resnet_output)\n",
        "# bilstm_output = bilstm_model(resnet_output)\n",
        "# Res50_BiLSTM_1 = Model(inputs=combined_input, outputs=bilstm_output)\n",
        "\n",
        "# #--------------------------------------------------"
      ]
    },
    {
      "cell_type": "code",
      "execution_count": 30,
      "id": "e74a436d",
      "metadata": {},
      "outputs": [],
      "source": [
        "from keras.callbacks import LearningRateScheduler\n",
        "# from keras.optimizers import Adam, RMSprop, SVM\n",
        "from tensorflow.keras.optimizers import Adam, RMSprop\n"
      ]
    },
    {
      "cell_type": "code",
      "execution_count": 57,
      "id": "a2b9a29d",
      "metadata": {
        "id": "a2b9a29d"
      },
      "outputs": [],
      "source": [
        "# Compile the model\n",
        "# Res50_BiLSTM_1.compile(optimizer=RMSprop(learning_rate=2e-5), loss='categorical_crossentropy', metrics=['accuracy'])\n",
        "Res50_BiLSTM_1.compile(optimizer='sgd', loss='categorical_crossentropy', metrics=['accuracy'])"
      ]
    },
    {
      "cell_type": "code",
      "execution_count": 40,
      "id": "75bfe002",
      "metadata": {},
      "outputs": [
        {
          "name": "stdout",
          "output_type": "stream",
          "text": [
            "Model: \"model_1\"\n",
            "_________________________________________________________________\n",
            "Layer (type)                 Output Shape              Param #   \n",
            "=================================================================\n",
            "input_3 (InputLayer)         [(None, 20, 224, 224, 3)] 0         \n",
            "_________________________________________________________________\n",
            "time_distributed_2 (TimeDist (None, 20, 7, 7, 2048)    23587712  \n",
            "_________________________________________________________________\n",
            "time_distributed_3 (TimeDist (None, 20, 2048)          0         \n",
            "_________________________________________________________________\n",
            "sequential_1 (Sequential)    (None, 4)                 1183172   \n",
            "=================================================================\n",
            "Total params: 24,770,884\n",
            "Trainable params: 1,182,148\n",
            "Non-trainable params: 23,588,736\n",
            "_________________________________________________________________\n"
          ]
        }
      ],
      "source": [
        "Res50_BiLSTM_1.summary()"
      ]
    },
    {
      "cell_type": "code",
      "execution_count": 33,
      "id": "113ebabe",
      "metadata": {
        "id": "113ebabe"
      },
      "outputs": [],
      "source": [
        "# batch_size = 2\n",
        "# epochs = 10"
      ]
    },
    {
      "cell_type": "code",
      "execution_count": 23,
      "id": "0ec1fef5",
      "metadata": {},
      "outputs": [],
      "source": [
        "# import tensorflow as tf\n",
        "# with tf.device('/cpu:0'):\n",
        "#    x = tf.convert_to_tensor(X_train, np.float32)\n",
        "#    y = tf.convert_to_tensor(y_train, np.float32)"
      ]
    },
    {
      "cell_type": "code",
      "execution_count": 58,
      "id": "8FAcVzbGCWmU",
      "metadata": {
        "id": "8FAcVzbGCWmU"
      },
      "outputs": [
        {
          "name": "stdout",
          "output_type": "stream",
          "text": [
            "Epoch 1/7\n",
            "86/86 [==============================] - 21s 124ms/step - loss: 1.6086 - accuracy: 0.2456 - val_loss: 153.2892 - val_accuracy: 0.4444\n",
            "Epoch 2/7\n",
            "86/86 [==============================] - 8s 94ms/step - loss: 1.5351 - accuracy: 0.2573 - val_loss: 80.8989 - val_accuracy: 0.4444\n",
            "Epoch 3/7\n",
            "86/86 [==============================] - 8s 94ms/step - loss: 1.5545 - accuracy: 0.2515 - val_loss: 316.3369 - val_accuracy: 0.4444\n",
            "Epoch 4/7\n",
            "86/86 [==============================] - 8s 94ms/step - loss: 1.5110 - accuracy: 0.2398 - val_loss: 191.3707 - val_accuracy: 0.4444\n",
            "Epoch 5/7\n",
            "86/86 [==============================] - 8s 95ms/step - loss: 1.4292 - accuracy: 0.2924 - val_loss: 129.3690 - val_accuracy: 0.4444\n",
            "Epoch 6/7\n",
            "86/86 [==============================] - 8s 95ms/step - loss: 1.4952 - accuracy: 0.2398 - val_loss: 129.4275 - val_accuracy: 0.2222\n",
            "Epoch 7/7\n",
            "86/86 [==============================] - 8s 95ms/step - loss: 1.4606 - accuracy: 0.2632 - val_loss: 101.1790 - val_accuracy: 0.1111\n"
          ]
        }
      ],
      "source": [
        "history1_1  = Res50_BiLSTM_1.fit(x, y, epochs=epochs, batch_size=batch_size, validation_data=(X_val, y_val), callbacks = [checkpoint, earlyStopping])  # Adjust epochs and batch_size accordingly"
      ]
    },
    {
      "cell_type": "code",
      "execution_count": null,
      "id": "01fba749",
      "metadata": {},
      "outputs": [],
      "source": [
        "history1_2  = Res50_BiLSTM_1.fit(X_train, y_train, epochs=epochs, batch_size=batch_size, validation_data=(X_val, y_val), callbacks = [checkpoint, earlyStopping])  # Adjust epochs and batch_size accordingly"
      ]
    },
    {
      "cell_type": "code",
      "execution_count": null,
      "id": "db41abca",
      "metadata": {
        "id": "db41abca",
        "outputId": "b395283c-9eb1-47b9-8e3a-519ec1fe06d4"
      },
      "outputs": [
        {
          "name": "stdout",
          "output_type": "stream",
          "text": [
            "34/34 [==============================] - 163s 5s/step - loss: 1.4542 - accuracy: 0.4118 - val_loss: 0.7121 - val_accuracy: 0.0000e+00\n"
          ]
        }
      ],
      "source": [
        "# Train the model\n",
        "# history1  = hybrid_model1.fit(X, y, epochs=epochs, batch_size=batch_size, validation_split=0.1, callbacks = [checkpoint, earlyStopping])  # Adjust epochs and batch_size accordingly\n",
        "# history1_2  = hybrid_model1_1.fit(X, y, epochs=epochs, batch_size=batch_size, callbacks = [checkpoint])  # Adjust epochs and batch_size accordingly"
      ]
    },
    {
      "cell_type": "code",
      "execution_count": 73,
      "id": "c08074a8",
      "metadata": {
        "id": "c08074a8"
      },
      "outputs": [
        {
          "data": {
            "text/html": [
              "<div>\n",
              "<style scoped>\n",
              "    .dataframe tbody tr th:only-of-type {\n",
              "        vertical-align: middle;\n",
              "    }\n",
              "\n",
              "    .dataframe tbody tr th {\n",
              "        vertical-align: top;\n",
              "    }\n",
              "\n",
              "    .dataframe thead th {\n",
              "        text-align: right;\n",
              "    }\n",
              "</style>\n",
              "<table border=\"1\" class=\"dataframe\">\n",
              "  <thead>\n",
              "    <tr style=\"text-align: right;\">\n",
              "      <th></th>\n",
              "      <th>loss</th>\n",
              "      <th>accuracy</th>\n",
              "      <th>val_loss</th>\n",
              "      <th>val_accuracy</th>\n",
              "    </tr>\n",
              "  </thead>\n",
              "  <tbody>\n",
              "    <tr>\n",
              "      <th>0</th>\n",
              "      <td>0.366071</td>\n",
              "      <td>0.873563</td>\n",
              "      <td>0.659441</td>\n",
              "      <td>0.833333</td>\n",
              "    </tr>\n",
              "    <tr>\n",
              "      <th>1</th>\n",
              "      <td>0.385803</td>\n",
              "      <td>0.867816</td>\n",
              "      <td>0.377790</td>\n",
              "      <td>0.833333</td>\n",
              "    </tr>\n",
              "    <tr>\n",
              "      <th>2</th>\n",
              "      <td>0.306944</td>\n",
              "      <td>0.890805</td>\n",
              "      <td>0.681669</td>\n",
              "      <td>0.833333</td>\n",
              "    </tr>\n",
              "    <tr>\n",
              "      <th>3</th>\n",
              "      <td>0.341706</td>\n",
              "      <td>0.850575</td>\n",
              "      <td>0.655428</td>\n",
              "      <td>0.666667</td>\n",
              "    </tr>\n",
              "    <tr>\n",
              "      <th>4</th>\n",
              "      <td>0.281064</td>\n",
              "      <td>0.936782</td>\n",
              "      <td>0.409325</td>\n",
              "      <td>0.833333</td>\n",
              "    </tr>\n",
              "  </tbody>\n",
              "</table>\n",
              "</div>"
            ],
            "text/plain": [
              "       loss  accuracy  val_loss  val_accuracy\n",
              "0  0.366071  0.873563  0.659441      0.833333\n",
              "1  0.385803  0.867816  0.377790      0.833333\n",
              "2  0.306944  0.890805  0.681669      0.833333\n",
              "3  0.341706  0.850575  0.655428      0.666667\n",
              "4  0.281064  0.936782  0.409325      0.833333"
            ]
          },
          "execution_count": 73,
          "metadata": {},
          "output_type": "execute_result"
        }
      ],
      "source": [
        "metrics_df = pd.DataFrame(history.history)\n",
        "metrics_df.head()"
      ]
    },
    {
      "cell_type": "markdown",
      "id": "4638a03e",
      "metadata": {},
      "source": [
        "### CNN + BiLSTM Model"
      ]
    },
    {
      "cell_type": "markdown",
      "id": "18416963",
      "metadata": {
        "id": "18416963"
      },
      "source": [
        "#### CNN + BiLSTM (224 x 224 images)"
      ]
    },
    {
      "cell_type": "code",
      "execution_count": 18,
      "id": "c3d4d370",
      "metadata": {
        "id": "c3d4d370"
      },
      "outputs": [],
      "source": [
        "from tensorflow.keras import models"
      ]
    },
    {
      "cell_type": "code",
      "execution_count": null,
      "id": "aafca8d0",
      "metadata": {
        "id": "aafca8d0",
        "outputId": "69140757-e710-49d7-bf32-f2d2b2773fe4"
      },
      "outputs": [],
      "source": [
        "# Assuming you have a ResNet50 model loaded with pre-trained weights\n",
        "cnn_model = models.Sequential()\n",
        "cnn_model.add(layers.Conv2D(64, (3, 3), activation='relu', input_shape=(224, 224, 3)))\n",
        "cnn_model.add(layers.MaxPooling2D()) #(2,2)\n",
        "cnn_model.add(layers.Conv2D(128, (3, 3), activation='relu'))\n",
        "cnn_model.add(layers.MaxPooling2D())\n",
        "cnn_model.add(layers.Conv2D(64, (3, 3), activation='relu'))\n",
        "cnn_model.add(layers.MaxPooling2D())\n",
        "cnn_model.add(layers.Conv2D(32, (3, 3), activation='relu'))\n",
        "\n",
        "actions = len(subset_video_count.keys())\n",
        "\n",
        "# Define the BiLSTM model\n",
        "bilstm_model = Sequential()\n",
        "# bilstm_model.add(Bidirectional(LSTM(64, return_sequences=True, activation = 'relu', input_shape = (60,2048))))\n",
        "bilstm_model.add(Bidirectional(LSTM(64, return_sequences=True, activation='relu'), input_shape=(60, 2048)))\n",
        "bilstm_model.add(Bidirectional(LSTM(32, return_sequences=False, activation = 'relu')))\n",
        "# bilstm_model.add(Bidirectional(LSTM(units=128, return_sequences=True), input_shape=(60, 2048)))  # Adjust feature_size based on your data\n",
        "\n",
        "# Additional layers\n",
        "bilstm_model.add(layers.Flatten())  # new added line -> (Dense layers take vectors as input (which are 1D), while the current output is a 3D tensor.)\n",
        "bilstm_model.add(Dense(64, activation='relu'))\n",
        "bilstm_model.add(Dense(32, activation='relu'))\n",
        "bilstm_model.add(Dense(actions, activation = 'softmax'))\n",
        "\n",
        "# Combine the ResNet50 and BiLSTM models\n",
        "combined_input = Input(shape=(20, 224, 224, 3))  # Assuming image shape is (224, 224, 3)\n",
        "cnn_output = TimeDistributed(cnn_model)(combined_input)\n",
        "cnn_output = TimeDistributed(GlobalAveragePooling2D())(cnn_model)  # Adjust pooling layer based on your requirements\n",
        "# resnet_output = Reshape((60, -1))(resnet_output)\n",
        "# print(resnet_output.shape)\n",
        "bilstm_output = bilstm_model(cnn_output)\n",
        "\n",
        "# ---------------\n",
        "\n",
        "\n",
        "# Concatenate the outputs\n",
        "# merged = concatenate([resnet_output, bilstm_output])\n",
        "\n",
        "# Additional layers for combined model\n",
        "# final_output = Dense(128, activation='relu')(merged)\n",
        "# final_output = Dense(Dense(actions.shape[0], activation='softmax')(final_output)  # Adjust num_classes based on your task\n",
        "\n",
        "# Create the final model\n",
        "# hybrid_model = Model(inputs=combined_input, outputs=final_output)\n",
        "\n",
        "# ----------------\n",
        "hybrid_model2 = Model(inputs=combined_input, outputs=bilstm_output)\n"
      ]
    },
    {
      "cell_type": "code",
      "execution_count": 19,
      "id": "9465718a",
      "metadata": {
        "id": "9465718a"
      },
      "outputs": [],
      "source": [
        "def build_cnn(shape=(224, 224, 3)):\n",
        "    cnn_model = models.Sequential()\n",
        "    cnn_model.add(Conv2D(128, (3, 3), activation='relu', input_shape=shape))\n",
        "    cnn_model.add(BatchNormalization(momentum=0.9))\n",
        "    cnn_model.add(MaxPooling2D((2,2), strides=2)) #(2,2)\n",
        "    cnn_model.add(Conv2D(256, (3, 3), activation='relu', strides=1))\n",
        "    cnn_model.add(BatchNormalization(momentum=0.9))\n",
        "    cnn_model.add(MaxPooling2D((2,2), strides=2))\n",
        "    cnn_model.add(Conv2D(128, (3, 3), activation='relu', strides=1))\n",
        "    cnn_model.add(BatchNormalization(momentum=0.9))\n",
        "    cnn_model.add(MaxPooling2D((2,2), strides=2))\n",
        "    cnn_model.add(Conv2D(32, (3, 3), activation='relu', strides=1))\n",
        "    # output = GlobalMaxPool2D()\n",
        "\n",
        "    return cnn_model"
      ]
    },
    {
      "cell_type": "code",
      "execution_count": 74,
      "id": "8d49b596",
      "metadata": {
        "id": "8d49b596"
      },
      "outputs": [],
      "source": [
        "def build_BiLSTM1(noActions, shape = (20, 2048)):\n",
        "    # cnn_model = build_cnn(shape[1:])\n",
        "\n",
        "    # Define the BiLSTM model\n",
        "    bilstm_model = Sequential()\n",
        "    # bilstm_model.add(TimeDistributed(first_model)(inputShape)) #(20, 2048)\n",
        "    bilstm_model.add(Bidirectional(LSTM(64, return_sequences=True, input_shape=shape))) #, input_shape=(60, 2048)\n",
        "    bilstm_model.add(Bidirectional(LSTM(128, return_sequences=True)))\n",
        "    bilstm_model.add(Bidirectional(LSTM(64, return_sequences=True)))\n",
        "    bilstm_model.add(Bidirectional(LSTM(32, return_sequences=False)))\n",
        "\n",
        "    # Additional layers\n",
        "    bilstm_model.add(Dense(128, activation='relu'))\n",
        "    bilstm_model.add(Dropout(.5))\n",
        "    bilstm_model.add(Dense(64, activation='relu'))\n",
        "    bilstm_model.add(Dropout(.5))\n",
        "    bilstm_model.add(Dense(32, activation='relu'))\n",
        "    bilstm_model.add(Dense(noActions, activation = 'softmax'))\n",
        "\n",
        "    return bilstm_model"
      ]
    },
    {
      "cell_type": "code",
      "execution_count": 76,
      "id": "ba3b3955",
      "metadata": {},
      "outputs": [],
      "source": [
        "def CNN_BiLSTM(inputShape=(20,224,224,3), noActions=len(subset_video_count.keys())):\n",
        "    combined_input = Input(shape=inputShape)  # Assuming image shape is (224, 224, 3)\n",
        "    cnnModel = build_cnn()\n",
        "    cnn_output = TimeDistributed(cnnModel)(combined_input)\n",
        "    cnn_output = TimeDistributed(GlobalMaxPool2D())(cnn_output)\n",
        "    bilstm_model = build_BiLSTM1(noActions, (20, 2048))\n",
        "    bilstm_output = bilstm_model(cnn_output)\n",
        "    hybrid_model2 = Model(inputs=combined_input, outputs=bilstm_output)\n",
        "    return hybrid_model2"
      ]
    },
    {
      "cell_type": "markdown",
      "id": "95e7adfc",
      "metadata": {},
      "source": [
        "#### CNN Model (Alone)"
      ]
    },
    {
      "cell_type": "code",
      "execution_count": 20,
      "id": "baf017d8",
      "metadata": {},
      "outputs": [],
      "source": [
        "# Input layer for the video frames\n",
        "input_frames = Input(shape=(20, 224, 224, 3))\n",
        "\n",
        "cnn_model = build_cnn()\n",
        "# Apply TimeDistributed to the ResNet50 base\n",
        "cnn_output = TimeDistributed(cnn_model)(input_frames)\n",
        "\n",
        "# Global Average Pooling layer to reduce spatial dimensions\n",
        "global_avg_pool = TimeDistributed(GlobalAveragePooling2D())(cnn_output)\n",
        "\n",
        "# # Fully connected layers for video-level classification\n",
        "# dense_layer = (Flatten())(global_avg_pool)\n",
        "# dense_layer = Dense(64, activation='relu')(dense_layer)\n",
        "# output_layer = Dense(4, activation='softmax')(dense_layer)  # Assuming 4 classes, adjust as needed\n",
        "dense_layer = (Flatten())(global_avg_pool)\n",
        "dense_layer = (Dense(128, activation='relu'))(dense_layer)\n",
        "dense_layer = (Dropout(.3)) (dense_layer)\n",
        "dense_layer = (Dense(64, activation='relu'))(dense_layer)\n",
        "dense_layer = (Dropout(.3)) (dense_layer)\n",
        "dense_layer = (Dense(32, activation='relu'))(dense_layer)\n",
        "output_layer = Dense(4, activation='softmax')(dense_layer)  # Assuming 4 classes, adjust as needed\n",
        "\n",
        "# Create the final model\n",
        "hybrid_model3 = tf.keras.models.Model(inputs=input_frames, outputs=output_layer)\n"
      ]
    },
    {
      "cell_type": "code",
      "execution_count": 26,
      "id": "f545ed7d",
      "metadata": {},
      "outputs": [],
      "source": [
        "hybrid_model3.compile(optimizer='adam', loss='categorical_crossentropy', metrics=['accuracy'])"
      ]
    },
    {
      "cell_type": "code",
      "execution_count": null,
      "id": "4c6843f1",
      "metadata": {},
      "outputs": [],
      "source": [
        "# Train the model\n",
        "history2_1 = hybrid_model3.fit(x, y, epochs=epochs, batch_size=batch_size, validation_data=(X_val, y_val), callbacks = [checkpoint])  # Adjust epochs and batch_size accordingly"
      ]
    },
    {
      "cell_type": "code",
      "execution_count": 77,
      "id": "3c1c20a5",
      "metadata": {
        "id": "3c1c20a5"
      },
      "outputs": [],
      "source": [
        "CNN_BiLSTM_1 = CNN_BiLSTM()"
      ]
    },
    {
      "cell_type": "code",
      "execution_count": 25,
      "id": "776d8cc2",
      "metadata": {},
      "outputs": [],
      "source": [
        "batch_size = 2\n",
        "epochs = 20"
      ]
    },
    {
      "cell_type": "code",
      "execution_count": 80,
      "id": "92cf88d4",
      "metadata": {
        "id": "92cf88d4"
      },
      "outputs": [],
      "source": [
        "# Compile the model\n",
        "CNN_BiLSTM_1.compile(optimizer='adam', loss='categorical_crossentropy', metrics=['accuracy'])"
      ]
    },
    {
      "cell_type": "code",
      "execution_count": 81,
      "id": "952cc5ce",
      "metadata": {
        "id": "952cc5ce",
        "outputId": "394243b6-3823-4817-f3d5-79e01845e7c3"
      },
      "outputs": [
        {
          "name": "stdout",
          "output_type": "stream",
          "text": [
            "Epoch 1/5\n",
            "86/86 [==============================] - 27s 182ms/step - loss: 1.3986 - accuracy: 0.2632 - val_loss: 1.4303 - val_accuracy: 0.2222\n",
            "Epoch 2/5\n",
            "86/86 [==============================] - 13s 152ms/step - loss: 1.4294 - accuracy: 0.2339 - val_loss: 1.4040 - val_accuracy: 0.2222\n",
            "Epoch 3/5\n",
            "86/86 [==============================] - 13s 153ms/step - loss: 1.3968 - accuracy: 0.2690 - val_loss: 1.3923 - val_accuracy: 0.2222\n",
            "Epoch 4/5\n",
            "86/86 [==============================] - 13s 153ms/step - loss: 1.4022 - accuracy: 0.2339 - val_loss: 1.3916 - val_accuracy: 0.1111\n",
            "Epoch 5/5\n",
            "86/86 [==============================] - 13s 153ms/step - loss: 1.4086 - accuracy: 0.2164 - val_loss: 1.3916 - val_accuracy: 0.1111\n"
          ]
        }
      ],
      "source": [
        "# Train the model\n",
        "history2_1 = CNN_BiLSTM_1.fit(x, y, epochs=epochs, batch_size=batch_size, validation_data=(X_val, y_val))  # Adjust epochs and batch_size accordingly"
      ]
    },
    {
      "cell_type": "code",
      "execution_count": null,
      "id": "ec7c27fa",
      "metadata": {
        "id": "ec7c27fa"
      },
      "outputs": [],
      "source": [
        "# Train the model\n",
        "history2 = hybrid_model2.fit(X_train, y_train, epochs=epochs, batch_size=batch_size, validation_data=(X_val, y_val), callbacks = [checkpoint, earlyStopping])  # Adjust epochs and batch_size accordingly"
      ]
    },
    {
      "cell_type": "markdown",
      "id": "bc749b03",
      "metadata": {},
      "source": [
        "### Xception + BiLSTM Model"
      ]
    },
    {
      "cell_type": "markdown",
      "id": "bb46aa3d",
      "metadata": {
        "id": "bb46aa3d"
      },
      "source": [
        "#### Xception + BiLSTM"
      ]
    },
    {
      "cell_type": "code",
      "execution_count": null,
      "id": "0e0139f7",
      "metadata": {
        "id": "0e0139f7"
      },
      "outputs": [],
      "source": [
        "# Assuming you have a ResNet50 model loaded with pre-trained weights\n",
        "Xnet_model=tf.keras.applications.xception.Xception(weights='imagenet',include_top=False, input_shape = (224, 224, 3))\n",
        "Xnet_model.trainable = False\n",
        "\n",
        "actions = len(subset_video_count.keys())\n",
        "\n",
        "# Define the BiLSTM model\n",
        "bilstm_model = Sequential()\n",
        "# bilstm_model.add(Bidirectional(LSTM(64, return_sequences=True, activation = 'relu', input_shape = (60,2048))))\n",
        "bilstm_model.add(Bidirectional(LSTM(64, return_sequences=True, activation='relu'), input_shape=(60, 2048)))\n",
        "bilstm_model.add(Bidirectional(LSTM(32, return_sequences=False, activation = 'relu')))\n",
        "# bilstm_model.add(Bidirectional(LSTM(units=128, return_sequences=True), input_shape=(60, 2048)))  # Adjust feature_size based on your data\n",
        "\n",
        "# Additional layers\n",
        "# bilstm_model.add(layers.Flatten())  # new added line -> (Dense layers take vectors as input (which are 1D), while the current output is a 3D tensor.)\n",
        "bilstm_model.add(Dense(64, activation='relu'))\n",
        "bilstm_model.add(Dense(32, activation='relu'))\n",
        "bilstm_model.add(Dense(actions, activation = 'softmax'))\n",
        "\n",
        "# Combine the ResNet50 and BiLSTM models\n",
        "combined_input = Input(shape=(60, 224, 224, 3))  # Assuming image shape is (224, 224, 3)\n",
        "Xnet_output = TimeDistributed(Xnet_model)(combined_input)\n",
        "Xnet_output = TimeDistributed(GlobalAveragePooling2D())(Xnet_model)  # Adjust pooling layer based on your requirements\n",
        "# resnet_output = Reshape((60, -1))(resnet_output)\n",
        "# print(resnet_output.shape)\n",
        "bilstm_output = bilstm_model(Xnet_output)\n",
        "\n",
        "# ---------------\n",
        "\n",
        "\n",
        "# Concatenate the outputs\n",
        "# merged = concatenate([resnet_output, bilstm_output])\n",
        "\n",
        "# Additional layers for combined model\n",
        "# final_output = Dense(128, activation='relu')(merged)\n",
        "# final_output = Dense(Dense(actions.shape[0], activation='softmax')(final_output)  # Adjust num_classes based on your task\n",
        "\n",
        "# Create the final model\n",
        "# hybrid_model = Model(inputs=combined_input, outputs=final_output)\n",
        "\n",
        "# ----------------\n",
        "hybrid_model3 = Model(inputs=combined_input, outputs=bilstm_output)\n"
      ]
    },
    {
      "cell_type": "code",
      "execution_count": null,
      "id": "3796679a",
      "metadata": {
        "id": "3796679a"
      },
      "outputs": [],
      "source": [
        "# Compile the model\n",
        "hybrid_model1.compile(optimizer='adam', loss='categorical_crossentropy', metrics=['accuracy'])"
      ]
    },
    {
      "cell_type": "code",
      "execution_count": null,
      "id": "dd9175aa",
      "metadata": {
        "id": "dd9175aa",
        "outputId": "6ee48cfb-e6bf-43b1-cf78-c601331b7800"
      },
      "outputs": [
        {
          "name": "stdout",
          "output_type": "stream",
          "text": [
            "Model: \"model\"\n",
            "_________________________________________________________________\n",
            " Layer (type)                Output Shape              Param #   \n",
            "=================================================================\n",
            " input_2 (InputLayer)        [(None, 60, 224, 224, 3   0         \n",
            "                             )]                                  \n",
            "                                                                 \n",
            " time_distributed (TimeDist  (None, 60, 7, 7, 2048)    23587712  \n",
            " ributed)                                                        \n",
            "                                                                 \n",
            " time_distributed_1 (TimeDi  (None, 60, 2048)          0         \n",
            " stributed)                                                      \n",
            "                                                                 \n",
            " sequential (Sequential)     (None, 3)                 1129411   \n",
            "                                                                 \n",
            "=================================================================\n",
            "Total params: 24717123 (94.29 MB)\n",
            "Trainable params: 1129411 (4.31 MB)\n",
            "Non-trainable params: 23587712 (89.98 MB)\n",
            "_________________________________________________________________\n"
          ]
        }
      ],
      "source": [
        "# Display model summary\n",
        "hybrid_model1.summary()"
      ]
    },
    {
      "cell_type": "code",
      "execution_count": null,
      "id": "62c69ec6",
      "metadata": {
        "id": "62c69ec6"
      },
      "outputs": [],
      "source": [
        "batch_size = 2\n",
        "# frames = 60\n",
        "epochs = 5"
      ]
    },
    {
      "cell_type": "code",
      "execution_count": null,
      "id": "c3b1b702",
      "metadata": {
        "id": "c3b1b702",
        "outputId": "9ec68887-b8ef-4811-fd71-7732630cf989"
      },
      "outputs": [
        {
          "name": "stdout",
          "output_type": "stream",
          "text": [
            "Epoch 1/5\n",
            "40/40 [==============================] - ETA: 0s - loss: 2981.3291 - accuracy: 0.3625WARNING:tensorflow:Can save best model only with val_acc available, skipping.\n",
            "40/40 [==============================] - 264s 6s/step - loss: 2981.3291 - accuracy: 0.3625 - val_loss: 3343.4873 - val_accuracy: 0.4444\n",
            "Epoch 2/5\n",
            "40/40 [==============================] - ETA: 0s - loss: 10839.7988 - accuracy: 0.2375WARNING:tensorflow:Can save best model only with val_acc available, skipping.\n",
            "40/40 [==============================] - 246s 6s/step - loss: 10839.7988 - accuracy: 0.2375 - val_loss: 35102.9688 - val_accuracy: 0.3333\n",
            "Epoch 3/5\n",
            "40/40 [==============================] - ETA: 0s - loss: 38513.8633 - accuracy: 0.3125WARNING:tensorflow:Can save best model only with val_acc available, skipping.\n",
            "40/40 [==============================] - 246s 6s/step - loss: 38513.8633 - accuracy: 0.3125 - val_loss: 29871.4375 - val_accuracy: 0.3333\n",
            "Epoch 4/5\n",
            "40/40 [==============================] - ETA: 0s - loss: 19742.9902 - accuracy: 0.3625WARNING:tensorflow:Can save best model only with val_acc available, skipping.\n",
            "40/40 [==============================] - 245s 6s/step - loss: 19742.9902 - accuracy: 0.3625 - val_loss: 101186.1094 - val_accuracy: 0.1111\n",
            "Epoch 5/5\n",
            "40/40 [==============================] - ETA: 0s - loss: 43741.2734 - accuracy: 0.3875WARNING:tensorflow:Can save best model only with val_acc available, skipping.\n",
            "40/40 [==============================] - 249s 6s/step - loss: 43741.2734 - accuracy: 0.3875 - val_loss: 18177.5293 - val_accuracy: 0.3333\n"
          ]
        },
        {
          "data": {
            "text/plain": [
              "<keras.src.callbacks.History at 0x1c38e59f6d0>"
            ]
          },
          "execution_count": 36,
          "metadata": {},
          "output_type": "execute_result"
        }
      ],
      "source": [
        "# Train the model\n",
        "history1  = hybrid_model1.fit(X_train, y_train, epochs=epochs, batch_size=batch_size, validation_split=0.1, callbacks = [checkpoint, earlyStopping])  # Adjust epochs and batch_size accordingly"
      ]
    },
    {
      "cell_type": "code",
      "execution_count": null,
      "id": "CR4rIK_NBDvG",
      "metadata": {
        "id": "CR4rIK_NBDvG"
      },
      "outputs": [],
      "source": [
        "# Train the model\n",
        "history1  = hybrid_model1.fit(X_train, y_train, epochs=epochs, batch_size=batch_size, validation_split=0.1, callbacks = [checkpoint, earlyStopping])  # Adjust epochs and batch_size accordingly"
      ]
    },
    {
      "cell_type": "markdown",
      "id": "953ac727",
      "metadata": {},
      "source": [
        "#### Xception Model (Alone)"
      ]
    },
    {
      "cell_type": "code",
      "execution_count": 36,
      "id": "e6bf20d2",
      "metadata": {
        "id": "e6bf20d2"
      },
      "outputs": [
        {
          "name": "stdout",
          "output_type": "stream",
          "text": [
            "Downloading data from https://storage.googleapis.com/tensorflow/keras-applications/xception/xception_weights_tf_dim_ordering_tf_kernels_notop.h5\n",
            "83689472/83683744 [==============================] - 6s 0us/step\n",
            "83697664/83683744 [==============================] - 6s 0us/step\n"
          ]
        }
      ],
      "source": [
        "# Load pre-trained ResNet50 without the top (fully connected) layers\n",
        "# resnet_model = tf.keras.applications.ResNet50(weights='imagenet', include_top=False, input_shape=(224, 224, 3))\n",
        "\n",
        "Xnet_model=tf.keras.applications.Xception(weights='imagenet',include_top=False, input_shape = (224, 224, 3))\n",
        "\n",
        "# Freeze the ResNet50 layers\n",
        "for layer in Xnet_model.layers:\n",
        "    layer.trainable = False\n",
        "\n",
        "# Input layer for the video frames\n",
        "input_frames = Input(shape=(20, 224, 224, 3))\n",
        "\n",
        "# Apply TimeDistributed to the ResNet50 base\n",
        "Xnet_output = TimeDistributed(Xnet_model)(input_frames)\n",
        "\n",
        "# Global Average Pooling layer to reduce spatial dimensions\n",
        "global_avg_pool = TimeDistributed(GlobalAveragePooling2D())(Xnet_output)\n",
        "\n",
        "# Fully connected layers for video-level classification\n",
        "dense_layer = (Flatten())(global_avg_pool)\n",
        "dense_layer = Dense(512, activation='relu')(dense_layer)\n",
        "output_layer = Dense(4, activation='softmax')(dense_layer)  # Assuming 4 classes, adjust as needed\n",
        "\n",
        "# Create the final model\n",
        "hybrid_model3 = tf.keras.models.Model(inputs=input_frames, outputs=output_layer)\n",
        "\n"
      ]
    },
    {
      "cell_type": "code",
      "execution_count": 39,
      "id": "25a322f0",
      "metadata": {
        "id": "25a322f0"
      },
      "outputs": [],
      "source": [
        "# Compile the model (you can customize the optimizer, loss, and metrics)\n",
        "hybrid_model3.compile(optimizer=Adam(learning_rate=0.001), loss='categorical_crossentropy', metrics=['accuracy'])"
      ]
    },
    {
      "cell_type": "code",
      "execution_count": 40,
      "id": "171cdc8c",
      "metadata": {
        "id": "171cdc8c",
        "outputId": "58635ac0-81d7-46fd-9114-71faa504bfb4"
      },
      "outputs": [
        {
          "name": "stdout",
          "output_type": "stream",
          "text": [
            "Epoch 1/20\n",
            "86/86 [==============================] - 23s 112ms/step - loss: 13.3291 - accuracy: 0.5116 - val_loss: 0.7728 - val_accuracy: 0.7500\n"
          ]
        },
        {
          "name": "stderr",
          "output_type": "stream",
          "text": [
            "c:\\Users\\dr2007\\.conda\\envs\\test_env_gpu\\lib\\site-packages\\keras\\utils\\generic_utils.py:494: CustomMaskWarning: Custom mask layers require a config and must override get_config. When loading, the custom mask layer must be passed to the custom_objects argument.\n",
            "  warnings.warn('Custom mask layers require a config and must override '\n"
          ]
        },
        {
          "name": "stdout",
          "output_type": "stream",
          "text": [
            "Epoch 2/20\n",
            "86/86 [==============================] - 8s 97ms/step - loss: 0.9065 - accuracy: 0.8953 - val_loss: 5.4353 - val_accuracy: 0.2500\n",
            "Epoch 3/20\n",
            "86/86 [==============================] - 8s 96ms/step - loss: 0.6338 - accuracy: 0.9419 - val_loss: 0.2168 - val_accuracy: 0.8750\n",
            "Epoch 4/20\n",
            "86/86 [==============================] - 8s 97ms/step - loss: 0.3683 - accuracy: 0.9535 - val_loss: 0.5950 - val_accuracy: 0.8750\n",
            "Epoch 5/20\n",
            "86/86 [==============================] - 8s 97ms/step - loss: 0.6044 - accuracy: 0.9535 - val_loss: 0.3805 - val_accuracy: 0.8750\n",
            "Epoch 6/20\n",
            "86/86 [==============================] - 8s 97ms/step - loss: 0.0312 - accuracy: 0.9884 - val_loss: 1.2743 - val_accuracy: 0.8750\n",
            "Epoch 7/20\n",
            "86/86 [==============================] - 8s 97ms/step - loss: 0.5081 - accuracy: 0.9360 - val_loss: 0.1155 - val_accuracy: 0.8750\n",
            "Epoch 8/20\n",
            "86/86 [==============================] - 8s 98ms/step - loss: 0.1817 - accuracy: 0.9767 - val_loss: 0.0234 - val_accuracy: 1.0000\n",
            "Epoch 9/20\n",
            "86/86 [==============================] - 8s 98ms/step - loss: 1.4480e-04 - accuracy: 1.0000 - val_loss: 0.0222 - val_accuracy: 1.0000\n",
            "Epoch 10/20\n",
            "86/86 [==============================] - 9s 99ms/step - loss: 2.4533e-05 - accuracy: 1.0000 - val_loss: 0.0216 - val_accuracy: 1.0000\n",
            "Epoch 11/20\n",
            "86/86 [==============================] - 8s 99ms/step - loss: 1.7874e-05 - accuracy: 1.0000 - val_loss: 0.0219 - val_accuracy: 1.0000\n",
            "Epoch 12/20\n",
            "86/86 [==============================] - 9s 99ms/step - loss: 1.4043e-05 - accuracy: 1.0000 - val_loss: 0.0215 - val_accuracy: 1.0000\n",
            "Epoch 13/20\n",
            "86/86 [==============================] - 9s 99ms/step - loss: 1.1638e-05 - accuracy: 1.0000 - val_loss: 0.0211 - val_accuracy: 1.0000\n",
            "Epoch 14/20\n",
            "86/86 [==============================] - 9s 100ms/step - loss: 9.9304e-06 - accuracy: 1.0000 - val_loss: 0.0205 - val_accuracy: 1.0000\n",
            "Epoch 15/20\n",
            "86/86 [==============================] - 9s 101ms/step - loss: 8.6760e-06 - accuracy: 1.0000 - val_loss: 0.0198 - val_accuracy: 1.0000\n",
            "Epoch 16/20\n",
            "86/86 [==============================] - 9s 100ms/step - loss: 7.6119e-06 - accuracy: 1.0000 - val_loss: 0.0195 - val_accuracy: 1.0000\n",
            "Epoch 17/20\n",
            "86/86 [==============================] - 9s 100ms/step - loss: 6.7868e-06 - accuracy: 1.0000 - val_loss: 0.0187 - val_accuracy: 1.0000\n",
            "Epoch 18/20\n",
            "86/86 [==============================] - 9s 100ms/step - loss: 6.0815e-06 - accuracy: 1.0000 - val_loss: 0.0182 - val_accuracy: 1.0000\n",
            "Epoch 19/20\n",
            "86/86 [==============================] - 9s 100ms/step - loss: 5.5106e-06 - accuracy: 1.0000 - val_loss: 0.0177 - val_accuracy: 1.0000\n",
            "Epoch 20/20\n",
            "86/86 [==============================] - 9s 99ms/step - loss: 5.0277e-06 - accuracy: 1.0000 - val_loss: 0.0172 - val_accuracy: 1.0000\n"
          ]
        }
      ],
      "source": [
        "history3_1 = hybrid_model3.fit(x, y, epochs=20, batch_size=2, validation_data=(X_val, y_val), callbacks=[checkpoint])"
      ]
    },
    {
      "cell_type": "code",
      "execution_count": null,
      "id": "a3b7f79a",
      "metadata": {},
      "outputs": [],
      "source": [
        "history3_1"
      ]
    },
    {
      "cell_type": "code",
      "execution_count": null,
      "id": "02b31773",
      "metadata": {
        "id": "02b31773"
      },
      "outputs": [],
      "source": [
        "# import os\n",
        "# os.environ[\"KMP_DUPLICATE_LIB_OK\"]=\"TRUE\""
      ]
    },
    {
      "cell_type": "code",
      "execution_count": null,
      "id": "834621b1",
      "metadata": {
        "id": "834621b1"
      },
      "outputs": [],
      "source": []
    },
    {
      "cell_type": "markdown",
      "id": "ce2bbe96",
      "metadata": {
        "id": "ce2bbe96"
      },
      "source": [
        "## Monitoring the Model's performance"
      ]
    },
    {
      "cell_type": "code",
      "execution_count": 41,
      "id": "ec95797d",
      "metadata": {
        "id": "ec95797d"
      },
      "outputs": [],
      "source": [
        "import pandas as pd"
      ]
    },
    {
      "cell_type": "code",
      "execution_count": 42,
      "id": "43f9c37f",
      "metadata": {
        "id": "43f9c37f"
      },
      "outputs": [],
      "source": [
        "metrics_df = pd.DataFrame(history3_1.history)"
      ]
    },
    {
      "cell_type": "code",
      "execution_count": 43,
      "id": "fa10d5ff",
      "metadata": {
        "id": "fa10d5ff",
        "outputId": "0e5fe132-66c0-4336-aa6a-fc24738a4d9d"
      },
      "outputs": [
        {
          "data": {
            "text/html": [
              "<div>\n",
              "<style scoped>\n",
              "    .dataframe tbody tr th:only-of-type {\n",
              "        vertical-align: middle;\n",
              "    }\n",
              "\n",
              "    .dataframe tbody tr th {\n",
              "        vertical-align: top;\n",
              "    }\n",
              "\n",
              "    .dataframe thead th {\n",
              "        text-align: right;\n",
              "    }\n",
              "</style>\n",
              "<table border=\"1\" class=\"dataframe\">\n",
              "  <thead>\n",
              "    <tr style=\"text-align: right;\">\n",
              "      <th></th>\n",
              "      <th>loss</th>\n",
              "      <th>accuracy</th>\n",
              "      <th>val_loss</th>\n",
              "      <th>val_accuracy</th>\n",
              "    </tr>\n",
              "  </thead>\n",
              "  <tbody>\n",
              "    <tr>\n",
              "      <th>0</th>\n",
              "      <td>13.329148</td>\n",
              "      <td>0.511628</td>\n",
              "      <td>0.772833</td>\n",
              "      <td>0.750</td>\n",
              "    </tr>\n",
              "    <tr>\n",
              "      <th>1</th>\n",
              "      <td>0.906504</td>\n",
              "      <td>0.895349</td>\n",
              "      <td>5.435304</td>\n",
              "      <td>0.250</td>\n",
              "    </tr>\n",
              "    <tr>\n",
              "      <th>2</th>\n",
              "      <td>0.633750</td>\n",
              "      <td>0.941860</td>\n",
              "      <td>0.216787</td>\n",
              "      <td>0.875</td>\n",
              "    </tr>\n",
              "    <tr>\n",
              "      <th>3</th>\n",
              "      <td>0.368266</td>\n",
              "      <td>0.953488</td>\n",
              "      <td>0.594998</td>\n",
              "      <td>0.875</td>\n",
              "    </tr>\n",
              "    <tr>\n",
              "      <th>4</th>\n",
              "      <td>0.604407</td>\n",
              "      <td>0.953488</td>\n",
              "      <td>0.380530</td>\n",
              "      <td>0.875</td>\n",
              "    </tr>\n",
              "    <tr>\n",
              "      <th>5</th>\n",
              "      <td>0.031164</td>\n",
              "      <td>0.988372</td>\n",
              "      <td>1.274274</td>\n",
              "      <td>0.875</td>\n",
              "    </tr>\n",
              "    <tr>\n",
              "      <th>6</th>\n",
              "      <td>0.508103</td>\n",
              "      <td>0.936047</td>\n",
              "      <td>0.115542</td>\n",
              "      <td>0.875</td>\n",
              "    </tr>\n",
              "    <tr>\n",
              "      <th>7</th>\n",
              "      <td>0.181713</td>\n",
              "      <td>0.976744</td>\n",
              "      <td>0.023413</td>\n",
              "      <td>1.000</td>\n",
              "    </tr>\n",
              "    <tr>\n",
              "      <th>8</th>\n",
              "      <td>0.000145</td>\n",
              "      <td>1.000000</td>\n",
              "      <td>0.022204</td>\n",
              "      <td>1.000</td>\n",
              "    </tr>\n",
              "    <tr>\n",
              "      <th>9</th>\n",
              "      <td>0.000025</td>\n",
              "      <td>1.000000</td>\n",
              "      <td>0.021647</td>\n",
              "      <td>1.000</td>\n",
              "    </tr>\n",
              "    <tr>\n",
              "      <th>10</th>\n",
              "      <td>0.000018</td>\n",
              "      <td>1.000000</td>\n",
              "      <td>0.021873</td>\n",
              "      <td>1.000</td>\n",
              "    </tr>\n",
              "    <tr>\n",
              "      <th>11</th>\n",
              "      <td>0.000014</td>\n",
              "      <td>1.000000</td>\n",
              "      <td>0.021549</td>\n",
              "      <td>1.000</td>\n",
              "    </tr>\n",
              "    <tr>\n",
              "      <th>12</th>\n",
              "      <td>0.000012</td>\n",
              "      <td>1.000000</td>\n",
              "      <td>0.021108</td>\n",
              "      <td>1.000</td>\n",
              "    </tr>\n",
              "    <tr>\n",
              "      <th>13</th>\n",
              "      <td>0.000010</td>\n",
              "      <td>1.000000</td>\n",
              "      <td>0.020480</td>\n",
              "      <td>1.000</td>\n",
              "    </tr>\n",
              "    <tr>\n",
              "      <th>14</th>\n",
              "      <td>0.000009</td>\n",
              "      <td>1.000000</td>\n",
              "      <td>0.019802</td>\n",
              "      <td>1.000</td>\n",
              "    </tr>\n",
              "    <tr>\n",
              "      <th>15</th>\n",
              "      <td>0.000008</td>\n",
              "      <td>1.000000</td>\n",
              "      <td>0.019523</td>\n",
              "      <td>1.000</td>\n",
              "    </tr>\n",
              "    <tr>\n",
              "      <th>16</th>\n",
              "      <td>0.000007</td>\n",
              "      <td>1.000000</td>\n",
              "      <td>0.018674</td>\n",
              "      <td>1.000</td>\n",
              "    </tr>\n",
              "    <tr>\n",
              "      <th>17</th>\n",
              "      <td>0.000006</td>\n",
              "      <td>1.000000</td>\n",
              "      <td>0.018193</td>\n",
              "      <td>1.000</td>\n",
              "    </tr>\n",
              "    <tr>\n",
              "      <th>18</th>\n",
              "      <td>0.000006</td>\n",
              "      <td>1.000000</td>\n",
              "      <td>0.017693</td>\n",
              "      <td>1.000</td>\n",
              "    </tr>\n",
              "    <tr>\n",
              "      <th>19</th>\n",
              "      <td>0.000005</td>\n",
              "      <td>1.000000</td>\n",
              "      <td>0.017196</td>\n",
              "      <td>1.000</td>\n",
              "    </tr>\n",
              "  </tbody>\n",
              "</table>\n",
              "</div>"
            ],
            "text/plain": [
              "         loss  accuracy  val_loss  val_accuracy\n",
              "0   13.329148  0.511628  0.772833         0.750\n",
              "1    0.906504  0.895349  5.435304         0.250\n",
              "2    0.633750  0.941860  0.216787         0.875\n",
              "3    0.368266  0.953488  0.594998         0.875\n",
              "4    0.604407  0.953488  0.380530         0.875\n",
              "5    0.031164  0.988372  1.274274         0.875\n",
              "6    0.508103  0.936047  0.115542         0.875\n",
              "7    0.181713  0.976744  0.023413         1.000\n",
              "8    0.000145  1.000000  0.022204         1.000\n",
              "9    0.000025  1.000000  0.021647         1.000\n",
              "10   0.000018  1.000000  0.021873         1.000\n",
              "11   0.000014  1.000000  0.021549         1.000\n",
              "12   0.000012  1.000000  0.021108         1.000\n",
              "13   0.000010  1.000000  0.020480         1.000\n",
              "14   0.000009  1.000000  0.019802         1.000\n",
              "15   0.000008  1.000000  0.019523         1.000\n",
              "16   0.000007  1.000000  0.018674         1.000\n",
              "17   0.000006  1.000000  0.018193         1.000\n",
              "18   0.000006  1.000000  0.017693         1.000\n",
              "19   0.000005  1.000000  0.017196         1.000"
            ]
          },
          "execution_count": 43,
          "metadata": {},
          "output_type": "execute_result"
        }
      ],
      "source": [
        "metrics_df.head(20)"
      ]
    },
    {
      "cell_type": "code",
      "execution_count": 44,
      "id": "3d920073",
      "metadata": {
        "id": "3d920073",
        "outputId": "10023754-2948-40e0-bc2d-de8b508ba108"
      },
      "outputs": [
        {
          "data": {
            "text/plain": [
              "<Axes: >"
            ]
          },
          "execution_count": 44,
          "metadata": {},
          "output_type": "execute_result"
        },
        {
          "data": {
            "image/png": "[encoded data removed]",
            "text/plain": [
              "<Figure size 640x480 with 1 Axes>"
            ]
          },
          "metadata": {},
          "output_type": "display_data"
        }
      ],
      "source": [
        "# comparing the training and validation loss.\n",
        "metrics_df[[\"loss\",\"val_loss\"]].plot()"
      ]
    },
    {
      "cell_type": "code",
      "execution_count": 45,
      "id": "5e9e158b",
      "metadata": {
        "id": "5e9e158b",
        "outputId": "91734bab-51a6-419d-cfa5-45dc19243c9e"
      },
      "outputs": [
        {
          "data": {
            "text/plain": [
              "<Axes: >"
            ]
          },
          "execution_count": 45,
          "metadata": {},
          "output_type": "execute_result"
        },
        {
          "data": {
            "image/png": "[encoded data removed]",
            "text/plain": [
              "<Figure size 640x480 with 1 Axes>"
            ]
          },
          "metadata": {},
          "output_type": "display_data"
        }
      ],
      "source": [
        "# comparing the training and validation accuracy.\n",
        "metrics_df[[\"accuracy\",\"val_accuracy\"]].plot()"
      ]
    },
    {
      "cell_type": "markdown",
      "id": "da6fa78f",
      "metadata": {
        "id": "da6fa78f"
      },
      "source": [
        "## Model Evaluation"
      ]
    },
    {
      "cell_type": "code",
      "execution_count": null,
      "id": "4b275fe2",
      "metadata": {
        "id": "4b275fe2",
        "outputId": "d3aa4d81-4eeb-4631-9f01-783b57b3270a"
      },
      "outputs": [
        {
          "name": "stdout",
          "output_type": "stream",
          "text": [
            "1/1 [==============================] - 24s 24s/step - loss: 17.1240 - accuracy: 0.5000\n",
            "Accuracy on validation dataset: 0.5\n",
            "Loss on validation dataset: 17.123992919921875\n"
          ]
        }
      ],
      "source": [
        "val_loss, val_accuracy = hybrid_model1.evaluate(X_val, y_val)\n",
        "print('Accuracy on validation dataset:', val_accuracy)\n",
        "print('Loss on validation dataset:', val_loss)"
      ]
    },
    {
      "cell_type": "code",
      "execution_count": null,
      "id": "4064807f",
      "metadata": {
        "id": "4064807f"
      },
      "outputs": [],
      "source": [
        "test_loss, test_accuracy = model.evaluate(X_test, y_test)\n",
        "print('Accuracy on test dataset:', val_accuracy)\n",
        "print('Loss on test dataset:', val_loss)"
      ]
    },
    {
      "cell_type": "code",
      "execution_count": null,
      "id": "08d38f9e",
      "metadata": {
        "id": "08d38f9e"
      },
      "outputs": [],
      "source": []
    },
    {
      "cell_type": "code",
      "execution_count": null,
      "id": "bbe17e75",
      "metadata": {
        "id": "bbe17e75"
      },
      "outputs": [],
      "source": []
    },
    {
      "cell_type": "code",
      "execution_count": null,
      "id": "25186f60",
      "metadata": {
        "id": "25186f60"
      },
      "outputs": [],
      "source": []
    }
  ],
  "metadata": {
    "colab": {
      "collapsed_sections": [
        "13f5a983",
        "e195f4da",
        "b6ae7098",
        "086f9e04",
        "0dc1285b",
        "3b725def",
        "d4526c39",
        "61a303a8",
        "944047ec",
        "26bac943",
        "687f20f4",
        "7aK5lyRKAB6c",
        "9cd7e79b"
      ],
      "provenance": []
    },
    "kernelspec": {
      "display_name": "Python 3",
      "name": "python3"
    },
    "language_info": {
      "codemirror_mode": {
        "name": "ipython",
        "version": 3
      },
      "file_extension": ".py",
      "mimetype": "text/x-python",
      "name": "python",
      "nbconvert_exporter": "python",
      "pygments_lexer": "ipython3",
      "version": "3.9.18"
    }
  },
  "nbformat": 4,
  "nbformat_minor": 5
}
