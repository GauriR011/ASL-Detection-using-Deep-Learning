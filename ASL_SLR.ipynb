{
 "cells": [
  {
   "cell_type": "markdown",
   "id": "0e7cf524",
   "metadata": {},
   "source": [
    "# PROJECT STARTS HERE"
   ]
  },
  {
   "cell_type": "markdown",
   "id": "13f5a983",
   "metadata": {},
   "source": [
    "# Importing Libraries and Modules"
   ]
  },
  {
   "cell_type": "code",
   "execution_count": 2,
   "id": "9fea4e4c",
   "metadata": {},
   "outputs": [],
   "source": [
    "import sklearn \n",
    "import matplotlib.pyplot as plt\n",
    "import cv2\n",
    "import numpy as np\n",
    "import os\n",
    "import time\n",
    "import mediapipe as mp\n",
    "import csv"
   ]
  },
  {
   "cell_type": "code",
   "execution_count": 38,
   "id": "c11ec015",
   "metadata": {},
   "outputs": [],
   "source": [
    "import dill"
   ]
  },
  {
   "cell_type": "code",
   "execution_count": 40,
   "id": "c3543af3",
   "metadata": {
    "scrolled": false
   },
   "outputs": [],
   "source": [
    "# To save variable of the last session (avoid re-executing the cells)\n",
    "# dill.dump_session('base_variables2.db')"
   ]
  },
  {
   "cell_type": "code",
   "execution_count": 5,
   "id": "54c5f7e7",
   "metadata": {},
   "outputs": [],
   "source": [
    "# To load session variables\n",
    "# dill.load_session('base_variables1.db')"
   ]
  },
  {
   "cell_type": "markdown",
   "id": "e195f4da",
   "metadata": {},
   "source": [
    "# Frame Extraction"
   ]
  },
  {
   "cell_type": "code",
   "execution_count": 29,
   "id": "7317d5c2",
   "metadata": {},
   "outputs": [],
   "source": [
    "# Folder path of dataset\n",
    "# video_path = r\"C:\\Users\\revan\\Downloads\\00335.mp4\"\n",
    "# folder_path = r'D:\\WLASL Datasets\\Kaggle_WLASL_withVideosInClassFolders\\dataset\\SL'\n",
    "folder_path = r'D:\\FYP_HWU\\Videos'\n",
    "DATA_PATH = r'D:\\FYP_HWU'\n",
    "# output_csv = os.path.join('dummy_dataset2')"
   ]
  },
  {
   "cell_type": "code",
   "execution_count": 38,
   "id": "4b6b0e03",
   "metadata": {},
   "outputs": [],
   "source": [
    "# List of actions to train model with (11 classes or actions)\n",
    "# actions = np.array(['Hello', 'Thank You', 'I Love You', 'Namaste'])\n",
    "actions = [\n",
    "'accident', \n",
    "'call', \n",
    "'help', \n",
    "'man', \n",
    "'murder', \n",
    "'woman', \n",
    "'danger',\n",
    "'police', \n",
    "'follow',\n",
    "'child',\n",
    "'sick'\n",
    "]\n"
   ]
  },
  {
   "cell_type": "code",
   "execution_count": 20,
   "id": "61c87b66",
   "metadata": {},
   "outputs": [],
   "source": [
    "temp_actions = ['follow']"
   ]
  },
  {
   "cell_type": "code",
   "execution_count": 39,
   "id": "472179a6",
   "metadata": {},
   "outputs": [
    {
     "data": {
      "text/plain": [
       "10"
      ]
     },
     "execution_count": 39,
     "metadata": {},
     "output_type": "execute_result"
    }
   ],
   "source": [
    "len(actions)"
   ]
  },
  {
   "cell_type": "markdown",
   "id": "b6ae7098",
   "metadata": {},
   "source": [
    "### Counting number of videos under each action in the dataset"
   ]
  },
  {
   "cell_type": "code",
   "execution_count": 40,
   "id": "256c79e4",
   "metadata": {},
   "outputs": [
    {
     "name": "stdout",
     "output_type": "stream",
     "text": [
      "{'accident': 13, 'call': 12, 'child': 9, 'danger': 11, 'help': 14, 'man': 12, 'murder': 13, 'police': 10, 'sick': 10, 'woman': 11}\n"
     ]
    }
   ],
   "source": [
    "# Initializing variables\n",
    "video_count = {}\n",
    "\n",
    "# Creating a dictionary for all the actions/classes along with the count of videos for each action in the dataset\n",
    "for root, dirs, files in os.walk(folder_path):\n",
    "    for i in dirs: #loop through each of the keywords or actions in the dataset\n",
    "        if (i in actions): #if the keyword is present in the shortlisted list of actions\n",
    "            for root, dirs, files in os.walk(os.path.join(folder_path, i)):\n",
    "                video_count[i] = len(files) \n",
    "                break\n",
    "    break\n",
    "\n",
    "print(video_count)"
   ]
  },
  {
   "cell_type": "code",
   "execution_count": 46,
   "id": "95624701",
   "metadata": {},
   "outputs": [],
   "source": [
    "video_count = {'accident': 13, 'call': 12, 'child': 9, 'danger': 11, 'help': 14, 'man': 12, 'murder': 13, 'police': 10, 'sick': 10, 'woman': 11}"
   ]
  },
  {
   "cell_type": "code",
   "execution_count": 11,
   "id": "2524b96f",
   "metadata": {},
   "outputs": [],
   "source": [
    "temp_video_count = {'follow': 9}"
   ]
  },
  {
   "cell_type": "code",
   "execution_count": 41,
   "id": "147cfdda",
   "metadata": {},
   "outputs": [
    {
     "data": {
      "text/plain": [
       "10"
      ]
     },
     "execution_count": 41,
     "metadata": {},
     "output_type": "execute_result"
    }
   ],
   "source": [
    "len(video_count)"
   ]
  },
  {
   "cell_type": "markdown",
   "id": "086f9e04",
   "metadata": {},
   "source": [
    "### Getting the video paths of the videos"
   ]
  },
  {
   "cell_type": "code",
   "execution_count": null,
   "id": "a8065a95",
   "metadata": {},
   "outputs": [],
   "source": [
    "# # Creating a dictionary for the actions and the count of videos for the chosen actions to train the model\n",
    "# for action in actions:\n",
    "#     classes[action] = my_dict[action]\n",
    "# print(classes)"
   ]
  },
  {
   "cell_type": "code",
   "execution_count": 42,
   "id": "f80710ca",
   "metadata": {},
   "outputs": [],
   "source": [
    "video_paths = {}\n",
    "# Creating a dictionary for all the actions/classes along with the count of videos for each action in the dataset\n",
    "for root, dirs, files in os.walk(folder_path):\n",
    "    \n",
    "    for action in actions:\n",
    "        for root, dirs, files in os.walk(os.path.join(folder_path, action)):\n",
    "            for i in range (len(files)):\n",
    "                files[i] = os.path.join(folder_path, action, files[i])\n",
    "            video_paths[action] = files\n",
    "            break\n",
    "    break\n",
    "\n",
    "# print(video_paths)"
   ]
  },
  {
   "cell_type": "code",
   "execution_count": 22,
   "id": "4d962308",
   "metadata": {},
   "outputs": [],
   "source": [
    "# temp_video_path = {}\n",
    "# temp_video_path['follow'] = video_paths['follow']"
   ]
  },
  {
   "cell_type": "code",
   "execution_count": 34,
   "id": "e4317688",
   "metadata": {
    "collapsed": true
   },
   "outputs": [
    {
     "name": "stdout",
     "output_type": "stream",
     "text": [
      "{'follow': ['D:\\\\FYP_HWU\\\\Videos\\\\follow\\\\22715.mp4', 'D:\\\\FYP_HWU\\\\Videos\\\\follow\\\\22716.mp4', 'D:\\\\FYP_HWU\\\\Videos\\\\follow\\\\22717.mp4', 'D:\\\\FYP_HWU\\\\Videos\\\\follow\\\\22718.mp4', 'D:\\\\FYP_HWU\\\\Videos\\\\follow\\\\22720.mp4', 'D:\\\\FYP_HWU\\\\Videos\\\\follow\\\\22721.mp4', 'D:\\\\FYP_HWU\\\\Videos\\\\follow\\\\22723.mp4', 'D:\\\\FYP_HWU\\\\Videos\\\\follow\\\\65751.mp4', 'D:\\\\FYP_HWU\\\\Videos\\\\follow\\\\65752.mp4']}\n"
     ]
    }
   ],
   "source": [
    "print(temp_video_path)"
   ]
  },
  {
   "cell_type": "code",
   "execution_count": 50,
   "id": "c0144d09",
   "metadata": {
    "collapsed": true
   },
   "outputs": [
    {
     "name": "stdout",
     "output_type": "stream",
     "text": [
      "{'accident': ['D:\\\\FYP_HWU\\\\Videos\\\\accident\\\\00623.mp4', 'D:\\\\FYP_HWU\\\\Videos\\\\accident\\\\00624.mp4', 'D:\\\\FYP_HWU\\\\Videos\\\\accident\\\\00625.mp4', 'D:\\\\FYP_HWU\\\\Videos\\\\accident\\\\00626.mp4', 'D:\\\\FYP_HWU\\\\Videos\\\\accident\\\\00627.mp4', 'D:\\\\FYP_HWU\\\\Videos\\\\accident\\\\00628.mp4', 'D:\\\\FYP_HWU\\\\Videos\\\\accident\\\\00629.mp4', 'D:\\\\FYP_HWU\\\\Videos\\\\accident\\\\00631.mp4', 'D:\\\\FYP_HWU\\\\Videos\\\\accident\\\\00632.mp4', 'D:\\\\FYP_HWU\\\\Videos\\\\accident\\\\00633.mp4', 'D:\\\\FYP_HWU\\\\Videos\\\\accident\\\\00634.mp4', 'D:\\\\FYP_HWU\\\\Videos\\\\accident\\\\00639.mp4', 'D:\\\\FYP_HWU\\\\Videos\\\\accident\\\\65009.mp4'], 'call': ['D:\\\\FYP_HWU\\\\Videos\\\\call\\\\08689.mp4', 'D:\\\\FYP_HWU\\\\Videos\\\\call\\\\08690.mp4', 'D:\\\\FYP_HWU\\\\Videos\\\\call\\\\08691.mp4', 'D:\\\\FYP_HWU\\\\Videos\\\\call\\\\08692.mp4', 'D:\\\\FYP_HWU\\\\Videos\\\\call\\\\08694.mp4', 'D:\\\\FYP_HWU\\\\Videos\\\\call\\\\08701.mp4', 'D:\\\\FYP_HWU\\\\Videos\\\\call\\\\08702.mp4', 'D:\\\\FYP_HWU\\\\Videos\\\\call\\\\08706.mp4', 'D:\\\\FYP_HWU\\\\Videos\\\\call\\\\08707.mp4', 'D:\\\\FYP_HWU\\\\Videos\\\\call\\\\08713.mp4', 'D:\\\\FYP_HWU\\\\Videos\\\\call\\\\65290.mp4', 'D:\\\\FYP_HWU\\\\Videos\\\\call\\\\65556.mp4'], 'help': ['D:\\\\FYP_HWU\\\\Videos\\\\help\\\\27206.mp4', 'D:\\\\FYP_HWU\\\\Videos\\\\help\\\\27207.mp4', 'D:\\\\FYP_HWU\\\\Videos\\\\help\\\\27208.mp4', 'D:\\\\FYP_HWU\\\\Videos\\\\help\\\\27209.mp4', 'D:\\\\FYP_HWU\\\\Videos\\\\help\\\\27213.mp4', 'D:\\\\FYP_HWU\\\\Videos\\\\help\\\\27214.mp4', 'D:\\\\FYP_HWU\\\\Videos\\\\help\\\\27215.mp4', 'D:\\\\FYP_HWU\\\\Videos\\\\help\\\\27216.mp4', 'D:\\\\FYP_HWU\\\\Videos\\\\help\\\\27217.mp4', 'D:\\\\FYP_HWU\\\\Videos\\\\help\\\\27221.mp4', 'D:\\\\FYP_HWU\\\\Videos\\\\help\\\\65889.mp4', 'D:\\\\FYP_HWU\\\\Videos\\\\help\\\\65890.mp4', 'D:\\\\FYP_HWU\\\\Videos\\\\help\\\\65891.mp4', 'D:\\\\FYP_HWU\\\\Videos\\\\help\\\\69364.mp4'], 'man': ['D:\\\\FYP_HWU\\\\Videos\\\\man\\\\34732.mp4', 'D:\\\\FYP_HWU\\\\Videos\\\\man\\\\34733.mp4', 'D:\\\\FYP_HWU\\\\Videos\\\\man\\\\34734.mp4', 'D:\\\\FYP_HWU\\\\Videos\\\\man\\\\34736.mp4', 'D:\\\\FYP_HWU\\\\Videos\\\\man\\\\34737.mp4', 'D:\\\\FYP_HWU\\\\Videos\\\\man\\\\34738.mp4', 'D:\\\\FYP_HWU\\\\Videos\\\\man\\\\34742.mp4', 'D:\\\\FYP_HWU\\\\Videos\\\\man\\\\34746.mp4', 'D:\\\\FYP_HWU\\\\Videos\\\\man\\\\66097.mp4', 'D:\\\\FYP_HWU\\\\Videos\\\\man\\\\66098.mp4', 'D:\\\\FYP_HWU\\\\Videos\\\\man\\\\66099.mp4', 'D:\\\\FYP_HWU\\\\Videos\\\\man\\\\69395.mp4'], 'murder': ['D:\\\\FYP_HWU\\\\Videos\\\\murder\\\\31649.mp4', 'D:\\\\FYP_HWU\\\\Videos\\\\murder\\\\31650.mp4', 'D:\\\\FYP_HWU\\\\Videos\\\\murder\\\\31651.mp4', 'D:\\\\FYP_HWU\\\\Videos\\\\murder\\\\31652.mp4', 'D:\\\\FYP_HWU\\\\Videos\\\\murder\\\\31654.mp4', 'D:\\\\FYP_HWU\\\\Videos\\\\murder\\\\31655.mp4', 'D:\\\\FYP_HWU\\\\Videos\\\\murder\\\\31660.mp4', 'D:\\\\FYP_HWU\\\\Videos\\\\murder\\\\37305.mp4', 'D:\\\\FYP_HWU\\\\Videos\\\\murder\\\\37306.mp4', 'D:\\\\FYP_HWU\\\\Videos\\\\murder\\\\37307.mp4', 'D:\\\\FYP_HWU\\\\Videos\\\\murder\\\\37308.mp4', 'D:\\\\FYP_HWU\\\\Videos\\\\murder\\\\37310.mp4', 'D:\\\\FYP_HWU\\\\Videos\\\\murder\\\\65992.mp4'], 'woman': ['D:\\\\FYP_HWU\\\\Videos\\\\woman\\\\63664.mp4', 'D:\\\\FYP_HWU\\\\Videos\\\\woman\\\\63665.mp4', 'D:\\\\FYP_HWU\\\\Videos\\\\woman\\\\63666.mp4', 'D:\\\\FYP_HWU\\\\Videos\\\\woman\\\\63667.mp4', 'D:\\\\FYP_HWU\\\\Videos\\\\woman\\\\63668.mp4', 'D:\\\\FYP_HWU\\\\Videos\\\\woman\\\\63669.mp4', 'D:\\\\FYP_HWU\\\\Videos\\\\woman\\\\63672.mp4', 'D:\\\\FYP_HWU\\\\Videos\\\\woman\\\\63673.mp4', 'D:\\\\FYP_HWU\\\\Videos\\\\woman\\\\63679.mp4', 'D:\\\\FYP_HWU\\\\Videos\\\\woman\\\\66798.mp4', 'D:\\\\FYP_HWU\\\\Videos\\\\woman\\\\66799.mp4'], 'danger': ['D:\\\\FYP_HWU\\\\Videos\\\\danger\\\\14645.mp4', 'D:\\\\FYP_HWU\\\\Videos\\\\danger\\\\14646.mp4', 'D:\\\\FYP_HWU\\\\Videos\\\\danger\\\\14647.mp4', 'D:\\\\FYP_HWU\\\\Videos\\\\danger\\\\14648.mp4', 'D:\\\\FYP_HWU\\\\Videos\\\\danger\\\\14650.mp4', 'D:\\\\FYP_HWU\\\\Videos\\\\danger\\\\14652.mp4', 'D:\\\\FYP_HWU\\\\Videos\\\\danger\\\\14653.mp4', 'D:\\\\FYP_HWU\\\\Videos\\\\danger\\\\14656.mp4', 'D:\\\\FYP_HWU\\\\Videos\\\\danger\\\\14657.mp4', 'D:\\\\FYP_HWU\\\\Videos\\\\danger\\\\65437.mp4', 'D:\\\\FYP_HWU\\\\Videos\\\\danger\\\\65438.mp4'], 'police': ['D:\\\\FYP_HWU\\\\Videos\\\\police\\\\13244.mp4', 'D:\\\\FYP_HWU\\\\Videos\\\\police\\\\13245.mp4', 'D:\\\\FYP_HWU\\\\Videos\\\\police\\\\13246.mp4', 'D:\\\\FYP_HWU\\\\Videos\\\\police\\\\13247.mp4', 'D:\\\\FYP_HWU\\\\Videos\\\\police\\\\13249.mp4', 'D:\\\\FYP_HWU\\\\Videos\\\\police\\\\13250.mp4', 'D:\\\\FYP_HWU\\\\Videos\\\\police\\\\13253.mp4', 'D:\\\\FYP_HWU\\\\Videos\\\\police\\\\43522.mp4', 'D:\\\\FYP_HWU\\\\Videos\\\\police\\\\43537.mp4', 'D:\\\\FYP_HWU\\\\Videos\\\\police\\\\66306.mp4'], 'follow': ['D:\\\\FYP_HWU\\\\Videos\\\\follow\\\\22715.mp4', 'D:\\\\FYP_HWU\\\\Videos\\\\follow\\\\22716.mp4', 'D:\\\\FYP_HWU\\\\Videos\\\\follow\\\\22717.mp4', 'D:\\\\FYP_HWU\\\\Videos\\\\follow\\\\22718.mp4', 'D:\\\\FYP_HWU\\\\Videos\\\\follow\\\\22720.mp4', 'D:\\\\FYP_HWU\\\\Videos\\\\follow\\\\22721.mp4', 'D:\\\\FYP_HWU\\\\Videos\\\\follow\\\\22723.mp4', 'D:\\\\FYP_HWU\\\\Videos\\\\follow\\\\65751.mp4', 'D:\\\\FYP_HWU\\\\Videos\\\\follow\\\\65752.mp4'], 'child': ['D:\\\\FYP_HWU\\\\Videos\\\\child\\\\10443.mp4', 'D:\\\\FYP_HWU\\\\Videos\\\\child\\\\10444.mp4', 'D:\\\\FYP_HWU\\\\Videos\\\\child\\\\10445.mp4', 'D:\\\\FYP_HWU\\\\Videos\\\\child\\\\10446.mp4', 'D:\\\\FYP_HWU\\\\Videos\\\\child\\\\10447.mp4', 'D:\\\\FYP_HWU\\\\Videos\\\\child\\\\10449.mp4', 'D:\\\\FYP_HWU\\\\Videos\\\\child\\\\10450.mp4', 'D:\\\\FYP_HWU\\\\Videos\\\\child\\\\10453.mp4', 'D:\\\\FYP_HWU\\\\Videos\\\\child\\\\65351.mp4'], 'sick': ['D:\\\\FYP_HWU\\\\Videos\\\\sick\\\\51501.mp4', 'D:\\\\FYP_HWU\\\\Videos\\\\sick\\\\51502.mp4', 'D:\\\\FYP_HWU\\\\Videos\\\\sick\\\\51503.mp4', 'D:\\\\FYP_HWU\\\\Videos\\\\sick\\\\51504.mp4', 'D:\\\\FYP_HWU\\\\Videos\\\\sick\\\\51505.mp4', 'D:\\\\FYP_HWU\\\\Videos\\\\sick\\\\51506.mp4', 'D:\\\\FYP_HWU\\\\Videos\\\\sick\\\\51507.mp4', 'D:\\\\FYP_HWU\\\\Videos\\\\sick\\\\51517.mp4', 'D:\\\\FYP_HWU\\\\Videos\\\\sick\\\\66475.mp4', 'D:\\\\FYP_HWU\\\\Videos\\\\sick\\\\69470.mp4']}\n"
     ]
    }
   ],
   "source": [
    "print(video_paths)"
   ]
  },
  {
   "cell_type": "markdown",
   "id": "0dc1285b",
   "metadata": {},
   "source": [
    "### Creating folders to store frames "
   ]
  },
  {
   "cell_type": "code",
   "execution_count": 15,
   "id": "50bd1108",
   "metadata": {},
   "outputs": [],
   "source": [
    "#Creating folder 'Frames' that will contain all the video frames\n",
    "# os.makedirs(os.makedirs(os.path.join(DATA_PATH,'Frames')))\n",
    "# os.makedirs(os.path.join(DATA_PATH,'Original_Frames'))"
   ]
  },
  {
   "cell_type": "code",
   "execution_count": 31,
   "id": "8d648538",
   "metadata": {},
   "outputs": [],
   "source": [
    "DATA_PATH = os.path.join(DATA_PATH,'Frames')"
   ]
  },
  {
   "cell_type": "code",
   "execution_count": 52,
   "id": "685c8ed0",
   "metadata": {},
   "outputs": [],
   "source": [
    "DATA_PATH = r'D:\\FYP_HWU'\n",
    "DATA_PATH = os.path.join(DATA_PATH,'Rotate_Frames')\n",
    "\n",
    "#Creating one folder for each action\n",
    "for action in video_paths.keys():\n",
    "    # 1 folder for each video of the action\n",
    "    for sequence in range(len(video_paths[action])):\n",
    "        try:\n",
    "            os.makedirs(os.path.join(DATA_PATH, action, str(sequence)))\n",
    "        except:\n",
    "            pass"
   ]
  },
  {
   "cell_type": "code",
   "execution_count": 51,
   "id": "a9cd2dab",
   "metadata": {},
   "outputs": [
    {
     "data": {
      "text/plain": [
       "'D:\\\\FYP_HWU\\\\Frames'"
      ]
     },
     "execution_count": 51,
     "metadata": {},
     "output_type": "execute_result"
    }
   ],
   "source": [
    "DATA_PATH"
   ]
  },
  {
   "cell_type": "markdown",
   "id": "3b725def",
   "metadata": {},
   "source": [
    "### Extracting frames from videos and adding them to folders"
   ]
  },
  {
   "cell_type": "code",
   "execution_count": 25,
   "id": "a05c35c2",
   "metadata": {
    "collapsed": true
   },
   "outputs": [
    {
     "ename": "error",
     "evalue": "OpenCV(4.8.1) D:\\a\\opencv-python\\opencv-python\\opencv\\modules\\imgcodecs\\src\\loadsave.cpp:787: error: (-215:Assertion failed) !_img.empty() in function 'cv::imwrite'\n",
     "output_type": "error",
     "traceback": [
      "\u001b[1;31m---------------------------------------------------------------------------\u001b[0m",
      "\u001b[1;31merror\u001b[0m                                     Traceback (most recent call last)",
      "Cell \u001b[1;32mIn[25], line 32\u001b[0m\n\u001b[0;32m     30\u001b[0m \u001b[38;5;66;03m# repeat last frame until we reach max frame count\u001b[39;00m\n\u001b[0;32m     31\u001b[0m \u001b[38;5;28;01mwhile\u001b[39;00m frame_count \u001b[38;5;241m<\u001b[39m max_fc:\n\u001b[1;32m---> 32\u001b[0m     \u001b[43mcv2\u001b[49m\u001b[38;5;241;43m.\u001b[39;49m\u001b[43mimwrite\u001b[49m\u001b[43m(\u001b[49m\u001b[43mos\u001b[49m\u001b[38;5;241;43m.\u001b[39;49m\u001b[43mpath\u001b[49m\u001b[38;5;241;43m.\u001b[39;49m\u001b[43mjoin\u001b[49m\u001b[43m(\u001b[49m\u001b[43mDATA_PATH\u001b[49m\u001b[43m \u001b[49m\u001b[43m,\u001b[49m\u001b[43m \u001b[49m\u001b[43maction\u001b[49m\u001b[43m,\u001b[49m\u001b[43m \u001b[49m\u001b[38;5;28;43mstr\u001b[39;49m\u001b[43m(\u001b[49m\u001b[43msequence\u001b[49m\u001b[43m)\u001b[49m\u001b[43m,\u001b[49m\u001b[43m \u001b[49m\u001b[38;5;124;43m'\u001b[39;49m\u001b[38;5;124;43mframe\u001b[39;49m\u001b[38;5;124;43m'\u001b[39;49m\u001b[38;5;241;43m+\u001b[39;49m\u001b[43m \u001b[49m\u001b[38;5;28;43mstr\u001b[39;49m\u001b[43m(\u001b[49m\u001b[43mframe_count\u001b[49m\u001b[43m)\u001b[49m\u001b[43m \u001b[49m\u001b[38;5;241;43m+\u001b[39;49m\u001b[43m \u001b[49m\u001b[38;5;124;43m'\u001b[39;49m\u001b[38;5;124;43m.jpg\u001b[39;49m\u001b[38;5;124;43m'\u001b[39;49m\u001b[43m)\u001b[49m\u001b[43m,\u001b[49m\u001b[43m \u001b[49m\u001b[43mframe\u001b[49m\u001b[43m)\u001b[49m\n\u001b[0;32m     33\u001b[0m     frame_count\u001b[38;5;241m+\u001b[39m\u001b[38;5;241m=\u001b[39m\u001b[38;5;241m1\u001b[39m\n\u001b[0;32m     35\u001b[0m cap\u001b[38;5;241m.\u001b[39mrelease()\n",
      "\u001b[1;31merror\u001b[0m: OpenCV(4.8.1) D:\\a\\opencv-python\\opencv-python\\opencv\\modules\\imgcodecs\\src\\loadsave.cpp:787: error: (-215:Assertion failed) !_img.empty() in function 'cv::imwrite'\n"
     ]
    }
   ],
   "source": [
    "# #looping through each action\n",
    "# for action in video_paths.keys():\n",
    "    \n",
    "#     #Looping through each video of the action\n",
    "#     for sequence in range(len(video_paths[action])):\n",
    "        \n",
    "#         # Open the video file\n",
    "#         cap = cv2.VideoCapture(video_paths[action][sequence])\n",
    "        \n",
    "#         hc=[]\n",
    "        \n",
    "#         # Initializing variables\n",
    "#         frame_count = 0       # current frame count\n",
    "#         max_fc = 60          # maximum frame count (ranging from 65 to 70 frames)\n",
    "# #         DATA_PATH = os.path.join('Frames') #path to folder \"Frames\" to store the extracted frames\n",
    "        \n",
    "#         with mp_holistic.Holistic(min_detection_confidence = 0.5, min_tracking_confidence = 0.5) as holistic:\n",
    "#             #while the video is accessible and the current frame count doesn't exceed the max frame count limit\n",
    "#             while (cap.isOpened() and frame_count < max_fc):\n",
    "#                 #reading the video frame\n",
    "#                 success, frame = cap.read()\n",
    "#                 #if there are frames\n",
    "#                 if success:\n",
    "#             #         print(\"SUCCESS\")\n",
    "#                     # Make detection\n",
    "#                     image, result = mediapipeHolistics(frame, holistic)\n",
    "\n",
    "#                     #Darwing landmarks on frames\n",
    "#                     draw_landmarks(image,result)\n",
    "\n",
    "#                     cv2.imshow(\"{} - {}\".format(action, sequence), image)\n",
    "                    \n",
    "#                     # saving the keypoints extracted (in numpy format)\n",
    "# #                     np.save(DATA_PATH, image)\n",
    "#                     keypoints = extract_keypoints(result)\n",
    "#                     npy_path = os.path.join(DATA_PATH, action, str(sequence), str(frame_count))\n",
    "#                     np.save(npy_path, keypoints)\n",
    "                    \n",
    "#                     #saving the extracted frames (in jpg format)\n",
    "#                     cv2.imwrite(os.path.join(DATA_PATH , action, str(sequence), 'frame'+ str(frame_count) + '.jpg'), image)\n",
    "#                     frame_count+=1\n",
    "# #                     hc.append([join(DATA_PATH ,'/', action, '/', str(sequence), '/', 'frame'+ str(frame_count) + '.jpg'), action, frame_count])\n",
    "                    \n",
    "#                 else:\n",
    "#                     break\n",
    "                    \n",
    "#             # repeat last frame until we reach max frame count\n",
    "#             while frame_count < max_fc:\n",
    "#                 cv2.imwrite(os.path.join(DATA_PATH , action, str(sequence), 'frame'+ str(frame_count) + '.jpg'), image)\n",
    "#                 npy_path = os.path.join(DATA_PATH, action, str(sequence), str(frame_count))\n",
    "#                 np.save(npy_path, keypoints)\n",
    "#                 frame_count+=1\n",
    "# #                     hc.append([join(DATA_PATH ,'/', action, '/', str(sequence), '/', 'frame'+ str(frame_count) + '.jpg'), action, frame_count])\n",
    "\n",
    "#         cap.release()\n",
    "#         cv2.destroyAllWindows()\n",
    "                \n"
   ]
  },
  {
   "cell_type": "code",
   "execution_count": 45,
   "id": "f7761ec4",
   "metadata": {},
   "outputs": [],
   "source": [
    "#looping through each action\n",
    "for action in video_paths.keys():\n",
    "    \n",
    "    #Looping through each video of the action\n",
    "    for sequence in range(len(video_paths[action])):\n",
    "        \n",
    "        # Open the video file\n",
    "        cap = cv2.VideoCapture(video_paths[action][sequence])\n",
    "        \n",
    "        # Initializing variables\n",
    "        frame_count = 0       # current frame count\n",
    "        max_fc = 60          # maximum frame count\n",
    "        \n",
    "\n",
    "        #while the video is accessible and the current frame count doesn't exceed the max frame count limit\n",
    "        while (cap.isOpened() and frame_count < max_fc):\n",
    "            #reading the video frame\n",
    "            success, frame = cap.read()\n",
    "            \n",
    "            #if there are frames\n",
    "            if success:\n",
    "                image = frame.copy()\n",
    "                cv2.imshow(\"{} - {}\".format(action, sequence), image)\n",
    "                \n",
    "                #saving the extracted frames (in jpg format)\n",
    "                cv2.imwrite(os.path.join(DATA_PATH , action, str(sequence), 'frame'+ str(frame_count) + '.jpg'), image)\n",
    "                frame_count+=1\n",
    "            else:\n",
    "                break\n",
    "\n",
    "        # repeat last frame until we reach max frame count\n",
    "        while frame_count < max_fc:\n",
    "            cv2.imwrite(os.path.join(DATA_PATH , action, str(sequence), 'frame'+ str(frame_count) + '.jpg'), image)\n",
    "            frame_count+=1\n",
    "\n",
    "        cap.release()\n",
    "        cv2.destroyAllWindows()"
   ]
  },
  {
   "cell_type": "markdown",
   "id": "61a303a8",
   "metadata": {},
   "source": [
    "# Data Preprocessing"
   ]
  },
  {
   "cell_type": "markdown",
   "id": "911ae365",
   "metadata": {},
   "source": [
    "By the end of this section, we will folders containing the images frames stored in jpg format for each video of each action."
   ]
  },
  {
   "cell_type": "markdown",
   "id": "944047ec",
   "metadata": {},
   "source": [
    "## Data Augmentation \n",
    " Using:\n",
    " - Frame Mirroring \n",
    " - Changing contrast and brightness\n",
    " - Rotating \n",
    " \n",
    " Here, we take each video, extract frames and for each frame, apply the filters (which may wither include changing the contrast and brightness of the image frame, mirroring the image or extracting only the keypoints and the edges from the image), and store them as a separate video.\n"
   ]
  },
  {
   "cell_type": "code",
   "execution_count": 5,
   "id": "11847f28",
   "metadata": {},
   "outputs": [],
   "source": [
    "from PIL import Image, ImageEnhance"
   ]
  },
  {
   "cell_type": "code",
   "execution_count": 13,
   "id": "41f5ca49",
   "metadata": {},
   "outputs": [],
   "source": [
    "def blackAndWhite(image): # takes image as a parameter\n",
    "    # Image color\n",
    "    enhancer = ImageEnhance.Color(image)\n",
    "    new_image = enhancer.enhance(0)  \n",
    "    \n",
    "    # return np.array(new_image)\n",
    "    return new_image"
   ]
  },
  {
   "cell_type": "code",
   "execution_count": 31,
   "id": "26fa759c",
   "metadata": {},
   "outputs": [],
   "source": [
    "def saturation(image): # takes image as a parameter\n",
    "    # Horizontally flipping the image\n",
    "    image = flipImage(image)\n",
    "    # Image color\n",
    "    enhancer = ImageEnhance.Color(image)\n",
    "    new_image = enhancer.enhance(1.5)  \n",
    "    \n",
    "    # return np.array(new_image)\n",
    "    return new_image"
   ]
  },
  {
   "cell_type": "code",
   "execution_count": 18,
   "id": "b39d16e4",
   "metadata": {},
   "outputs": [],
   "source": [
    "def flipImage(image): # takes image as a parameter\n",
    "    # Converting Image to numpy array\n",
    "    new_image = np.array(image)\n",
    "    \n",
    "    # Horizontally flipping the image\n",
    "    image = cv2.flip(new_image, 1)\n",
    "    \n",
    "    # Converting numpy aray to image format\n",
    "    image = Image.fromarray(image.astype('uint8'))  \n",
    "    \n",
    "    # Returning the image in image format\n",
    "    return image"
   ]
  },
  {
   "cell_type": "code",
   "execution_count": 7,
   "id": "c715b708",
   "metadata": {},
   "outputs": [],
   "source": [
    "def rotateImage(image):\n",
    "    image  = image.rotate(-10)  #- or + -> left or right\n",
    "    return image"
   ]
  },
  {
   "cell_type": "code",
   "execution_count": null,
   "id": "547ff254",
   "metadata": {},
   "outputs": [],
   "source": [
    "# Getting the final number of videos under each Action \n",
    "def totalVideoCount(DATA_PATH):\n",
    "    finalVideoCount = {}\n",
    "    for root, dirs, files in os.walk(DATA_PATH):\n",
    "        for folder in dirs:\n",
    "            for root, dirs, files in os.walk(os.path.join(DATA_PATH, folder)):\n",
    "                finalVideoCount[folder] = len(dirs)\n",
    "                break\n",
    "    return finalVideoCount"
   ]
  },
  {
   "cell_type": "code",
   "execution_count": null,
   "id": "d99d6836",
   "metadata": {},
   "outputs": [],
   "source": [
    "PATH = r'D:\\FYP_HWU\\Resized_Frames'\n",
    "videoCount = totalVideoCount(PATH)\n",
    "print(videoCount)"
   ]
  },
  {
   "cell_type": "code",
   "execution_count": 35,
   "id": "9ed8d486",
   "metadata": {},
   "outputs": [
    {
     "name": "stdout",
     "output_type": "stream",
     "text": [
      "D:\\FYP_HWU\\Frames\\accident\\6\\frame11.jpg\n"
     ]
    }
   ],
   "source": [
    "# IMAGE_PATH = os.path.join(DATA_PATH,'accident', '6', 'frame' + '11' +'.jpg')\n",
    "# print(IMAGE_PATH)"
   ]
  },
  {
   "cell_type": "code",
   "execution_count": 60,
   "id": "cf0549ed",
   "metadata": {},
   "outputs": [],
   "source": [
    "# resize = (224,224)\n",
    "# img = cv2.imread(IMAGE_PATH)\n",
    "# img = cv2.cvtColor(img, cv2.COLOR_BGR2RGB)\n",
    "# # transposed  = img.rotate(-10) \n",
    "# # new_image = np.array(transposed)\n",
    "# new_image = crop_center_square(img)\n",
    "# new_image = cv2.resize(new_image, resize)\n",
    "# image = Image.fromarray(new_image.astype('uint8')) \n",
    "# new_image = rotateImage(image)\n",
    "# new_image.show()\n",
    "# # image.show()\n",
    "# cv2.destroyAllWindows()"
   ]
  },
  {
   "cell_type": "code",
   "execution_count": 10,
   "id": "073adf0b",
   "metadata": {},
   "outputs": [],
   "source": [
    "# video_count = dictionary that maps actions to the number of videos for that action\n",
    "# video_path = dictionary that maps actions to a list containing the path of videos under that action\n",
    "# max_fc = 60 (maximum number of frames extracted per video), variable already initialized earlier\n",
    "\n",
    "# loop through each video (sequence) for each action\n",
    "# create another sequece folder (my_dict[action] + count), where count is incremented with every sequence loop iteration\n",
    "# for loop for i in range(60):\n",
    "# get the image -> concat('frame', str(i))\n",
    "# apply filters\n",
    "# save the image in the new folder created\n",
    "\n",
    "max_fc = 60\n",
    "AUG_PATH = r'D:\\FYP_HWU\\Aug_Frames'\n",
    "PATH = r'D:\\FYP_HWU\\Rotate_Frames'\n",
    "DATA_PATH = r'D:\\FYP_HWU\\Frames'\n",
    "\n",
    "finalVideoCount = totalVideoCount(AUG_PATH)\n",
    "\n",
    "#looping through each action\n",
    "for action in video_count.keys():\n",
    "    actionCount = finalVideoCount[action]\n",
    "    \n",
    "    #Looping through the count for videos for that action\n",
    "    for sequence in range(video_count[action]):\n",
    "        \n",
    "        #creating a folder to store the augmented images\n",
    "        folder_number = actionCount + sequence\n",
    "        if(folder_number < 50):\n",
    "            try:\n",
    "                os.makedirs(os.path.join(PATH, action, str(folder_number)))\n",
    "            except:\n",
    "                pass\n",
    "\n",
    "            for frame_num in range (max_fc): #max frames = 60\n",
    "                IMAGE_PATH = os.path.join(DATA_PATH, str(action), str(sequence) , 'frame' + str(frame_num) + '.jpg')\n",
    "\n",
    "                # Reading the image\n",
    "                image = cv2.imread(IMAGE_PATH)\n",
    "\n",
    "                #Converting numpy array to Image\n",
    "                image = Image.fromarray(image.astype('uint8')) \n",
    "\n",
    "                # Applying the filters\n",
    "#                 new_image = blackAndWhite(image)\n",
    "#                 new_image = flipImage(image)\n",
    "#                 new_image = saturation(image)\n",
    "                new_image = rotateImage(image)\n",
    "\n",
    "                # Converting Image to numpy array\n",
    "                new_image = np.array(new_image)\n",
    "\n",
    "                #Saving the image in the folder created\n",
    "                cv2.imwrite(os.path.join(PATH , str(action), str(folder_number), 'frame'+ str(frame_num) + '.jpg'), new_image)\n",
    "\n",
    "                # Displaying Image\n",
    "                cv2.destroyAllWindows()\n",
    "        \n",
    "        else:\n",
    "            break\n"
   ]
  },
  {
   "cell_type": "code",
   "execution_count": 9,
   "id": "0f661404",
   "metadata": {},
   "outputs": [
    {
     "name": "stdout",
     "output_type": "stream",
     "text": [
      "{'accident': 13, 'call': 12, 'child': 9, 'danger': 11, 'follow': 9, 'help': 14, 'man': 12, 'murder': 13, 'police': 10, 'sick': 10, 'woman': 11}\n"
     ]
    }
   ],
   "source": [
    "print(video_count)"
   ]
  },
  {
   "cell_type": "markdown",
   "id": "26bac943",
   "metadata": {},
   "source": [
    "## Resizing Images"
   ]
  },
  {
   "cell_type": "markdown",
   "id": "86a99f38",
   "metadata": {},
   "source": [
    "Resizing the images to 224 x 224 pixel size to feed to ResNet 50 pre trained model."
   ]
  },
  {
   "cell_type": "code",
   "execution_count": 1,
   "id": "e9e264f5",
   "metadata": {},
   "outputs": [],
   "source": [
    "# Cropping the center of the image (cropping out the extra background margins of the video.)\n",
    "def crop_center_square(frame): # takes image as a parameter\n",
    "    y, x = frame.shape[0:2]\n",
    "    min_dim = min(y, x)\n",
    "    start_x = (x // 2) - (min_dim // 2)\n",
    "    start_y = (y // 2) - (min_dim // 2)\n",
    "    return frame[start_y:start_y+min_dim,start_x:start_x+min_dim]"
   ]
  },
  {
   "cell_type": "code",
   "execution_count": null,
   "id": "8560b74f",
   "metadata": {},
   "outputs": [],
   "source": [
    "# resize = (224,224)\n",
    "# IMAGE_PATH = r'C:\\Users\\revan\\Downloads\\frame3.jpg'"
   ]
  },
  {
   "cell_type": "code",
   "execution_count": null,
   "id": "8e66b925",
   "metadata": {},
   "outputs": [],
   "source": [
    "# image = cv2.imread(IMAGE_PATH)\n",
    "# image = Image.fromarray(image.astype('uint8')) \n",
    "# # image.show()\n",
    "\n",
    "# new_image = np.array(image)\n",
    "# new_image = crop_center_square(new_image)\n",
    "# new_image = cv2.resize(new_image, resize)\n",
    "# image = Image.fromarray(new_image.astype('uint8')) \n",
    "# image.show()\n",
    "# cv2.destroyAllWindows()"
   ]
  },
  {
   "cell_type": "code",
   "execution_count": 2,
   "id": "44d53127",
   "metadata": {},
   "outputs": [],
   "source": [
    "# Function to resize the frames\n",
    "def resizeFrames(new_image, resize): # takes numpy array as parameter\n",
    "    new_image = crop_center_square(new_image)\n",
    "    new_image = cv2.resize(new_image, resize)\n",
    "    return new_image # returns a numpy array"
   ]
  },
  {
   "cell_type": "code",
   "execution_count": 8,
   "id": "b7d1cb57",
   "metadata": {},
   "outputs": [],
   "source": [
    "max_fc = 60\n",
    "resize = (224,224)\n",
    "AUG_PATH = r'D:\\FYP_HWU\\Aug_Frames'\n",
    "FRAMES_PATH = r'D:\\FYP_HWU\\Resized_Frames'\n",
    "\n",
    "finalVideoCount = totalVideoCount(AUG_PATH)\n",
    "\n",
    "#looping through each action\n",
    "for action in finalVideoCount.keys():\n",
    "    \n",
    "    #Looping through the count for videos for that action\n",
    "    for sequence in range(finalVideoCount[action]):\n",
    "\n",
    "        try:\n",
    "            os.makedirs(os.path.join(FRAMES_PATH, action, str(sequence)))\n",
    "        except:\n",
    "            pass\n",
    "        \n",
    "        for frame_num in range (max_fc): #max frames = 60\n",
    "            IMAGE_PATH = os.path.join(AUG_PATH, str(action), str(sequence) , 'frame' + str(frame_num) + '.jpg')\n",
    "\n",
    "            # Reading the image\n",
    "            image = cv2.imread(IMAGE_PATH)\n",
    "\n",
    "            new_image = resizeFrames(image, resize)\n",
    "\n",
    "            #Saving the image in the folder created\n",
    "            cv2.imwrite(os.path.join(FRAMES_PATH , str(action), str(sequence), 'frame'+ str(frame_num) + '.jpg'), new_image)\n",
    "\n",
    "            # Displaying Image\n",
    "            cv2.destroyAllWindows()\n"
   ]
  },
  {
   "cell_type": "markdown",
   "id": "687f20f4",
   "metadata": {},
   "source": [
    "## Keypoint Extraction using MediaPipe Holistics\n",
    "Applying MediaPipe Keypoint Landmarks to the extracted frames"
   ]
  },
  {
   "cell_type": "code",
   "execution_count": 36,
   "id": "b2b61ee5",
   "metadata": {},
   "outputs": [],
   "source": [
    "mp_holistic = mp.solutions.holistic #Holistic model (use for detections)\n",
    "mp_drawing = mp.solutions.drawing_utils #Drawing Utilities\n",
    "drawing_spec = mp_drawing.DrawingSpec(thickness = 1, circle_radius=1)"
   ]
  },
  {
   "cell_type": "code",
   "execution_count": 10,
   "id": "8a4039ce",
   "metadata": {},
   "outputs": [],
   "source": [
    "#Capturing landmarks\n",
    "def mediapipeHolistics(image, model):\n",
    "    image = cv2.cvtColor(image, cv2.COLOR_BGR2RGB) #color conversion -> BGR to RGB\n",
    "    image.flags.writeable = False\n",
    "    results = model.process(image) # Making Prediction \n",
    "    image.flags.writeable = True\n",
    "    image = cv2.cvtColor(image, cv2.COLOR_RGB2BGR) #color conversion -> RGB to BGR\n",
    "    return image, results "
   ]
  },
  {
   "cell_type": "code",
   "execution_count": 11,
   "id": "f7dbe39a",
   "metadata": {},
   "outputs": [],
   "source": [
    "#Visualize landmarks, connecting the landmarks on the image (drawing only pose and had landmarks)\n",
    "def draw_landmarks(image, results):\n",
    "\n",
    "#     mp_drawing.draw_landmarks(image = image, \n",
    "#                               landmark_list = results.face_landmarks, \n",
    "#                               connections = mp_holistic.FACEMESH_CONTOURS,\n",
    "#                               landmark_drawing_spec = drawing_spec,\n",
    "#                               connection_drawing_spec = drawing_spec)\n",
    "    mp_drawing.draw_landmarks(image = image, \n",
    "                              landmark_list = results.pose_landmarks, \n",
    "                              connections = mp_holistic.POSE_CONNECTIONS,\n",
    "                              landmark_drawing_spec = drawing_spec,\n",
    "                              connection_drawing_spec = drawing_spec)\n",
    "    mp_drawing.draw_landmarks(image = image, \n",
    "                              landmark_list = results.left_hand_landmarks, \n",
    "                              connections = mp_holistic.HAND_CONNECTIONS,\n",
    "                              landmark_drawing_spec = drawing_spec,\n",
    "                              connection_drawing_spec = drawing_spec)\n",
    "    mp_drawing.draw_landmarks(image = image, \n",
    "                              landmark_list = results.right_hand_landmarks, \n",
    "                              connections = mp_holistic.HAND_CONNECTIONS,\n",
    "                              landmark_drawing_spec = drawing_spec,\n",
    "                              connection_drawing_spec = drawing_spec)"
   ]
  },
  {
   "cell_type": "code",
   "execution_count": 12,
   "id": "9cb2c2b8",
   "metadata": {},
   "outputs": [],
   "source": [
    "# Capturing hand, pose and face landmarks\n",
    "def extract_keypoints(result):\n",
    "    pose = np.array([[res.x,res.y,res.z,res.visibility] for res in result.pose_landmarks.landmark]).flatten() if result.pose_landmarks else np.zeros(33*4)\n",
    "    leftHand = np.array([[res.x,res.y,res.z] for res in result.left_hand_landmarks.landmark]).flatten() if result.left_hand_landmarks else np.zeros(21*3)\n",
    "    rightHand = np.array([[res.x,res.y,res.z] for res in result.right_hand_landmarks.landmark]).flatten() if result.right_hand_landmarks else np.zeros(21*3)\n",
    "    face = np.array([[res.x,res.y,res.z] for res in result.face_landmarks.landmark]).flatten() if result.face_landmarks else np.zeros(468*3)\n",
    "    return np.concatenate([pose, face, leftHand, rightHand])\n",
    "#     return np.concatenate([pose, leftHand, rightHand])"
   ]
  },
  {
   "cell_type": "code",
   "execution_count": 33,
   "id": "1bc3fcfe",
   "metadata": {},
   "outputs": [
    {
     "name": "stdout",
     "output_type": "stream",
     "text": [
      "D:\\FYP_HWU\\Resized_Frames\\accident\\8\\frame30.jpg\n"
     ]
    }
   ],
   "source": [
    "# IMAGE_PATH = os.path.join(FRAMES_PATH,'accident', '8', 'frame' + '30' +'.jpg')\n",
    "# print(IMAGE_PATH)"
   ]
  },
  {
   "cell_type": "code",
   "execution_count": 34,
   "id": "25501cdc",
   "metadata": {},
   "outputs": [
    {
     "name": "stdout",
     "output_type": "stream",
     "text": [
      "1662\n"
     ]
    }
   ],
   "source": [
    "# # resize = (224,224)\n",
    "# img = cv2.imread(IMAGE_PATH)\n",
    "# with mp_holistic.Holistic(min_detection_confidence = 0.5, min_tracking_confidence = 0.5) as holistic:\n",
    "#     # Making detection\n",
    "#     image, result = mediapipeHolistics(img, holistic)\n",
    "    \n",
    "#     #Darwing landmarks on frames\n",
    "#     draw_landmarks(image,result)\n",
    "\n",
    "# # #Saving the keypoints extracted\n",
    "# keypoints = extract_keypoints(result)    \n",
    "# print(len(keypoints))\n",
    "# image = Image.fromarray(image.astype('uint8')) \n",
    "# image.show()\n",
    "# # image.show()\n",
    "# cv2.destroyAllWindows()"
   ]
  },
  {
   "cell_type": "code",
   "execution_count": 37,
   "id": "d0907fea",
   "metadata": {},
   "outputs": [],
   "source": [
    "max_fc = 60\n",
    "RESIZE_PATH = r'D:\\FYP_HWU\\Resized_Frames'\n",
    "FRAMES_PATH = r'D:\\FYP_HWU\\MP_Frames'\n",
    "NP_PATH = r'D:\\FYP_HWU\\MP_npArray'\n",
    "\n",
    "finalVideoCount = totalVideoCount(RESIZE_PATH)\n",
    "\n",
    "#looping through each action\n",
    "for action in finalVideoCount.keys():\n",
    "    \n",
    "    #Looping through the count for videos for that action\n",
    "    for sequence in range(finalVideoCount[action]):\n",
    "        \n",
    "        # Creating folders to store frames and extracted landmarks\n",
    "        try:\n",
    "            os.makedirs(os.path.join(FRAMES_PATH, action, str(sequence)))\n",
    "            os.makedirs(os.path.join(NP_PATH, action, str(sequence)))\n",
    "        except:\n",
    "            pass\n",
    "        \n",
    "        with mp_holistic.Holistic(min_detection_confidence = 0.5, min_tracking_confidence = 0.5) as holistic:\n",
    "            for frame_num in range (max_fc): #max frames = 60\n",
    "                \n",
    "                # Getting the extracted frame from the folder\n",
    "                IMAGE_PATH = os.path.join(RESIZE_PATH, str(action), str(sequence) , 'frame' + str(frame_num) + '.jpg')\n",
    "\n",
    "                # Reading the image\n",
    "                image = cv2.imread(IMAGE_PATH)\n",
    "\n",
    "                # Making detection\n",
    "                image, result = mediapipeHolistics(image, holistic)\n",
    "\n",
    "                #Darwing landmarks on frames\n",
    "                draw_landmarks(image,result)\n",
    "\n",
    "                #Saving the keypoints extracted\n",
    "                keypoints = extract_keypoints(result) \n",
    "                \n",
    "                #Storing keypoints in numpy format\n",
    "                npy_path = os.path.join(NP_PATH, action, str(sequence), str(frame_num))\n",
    "                np.save(npy_path, keypoints)\n",
    "                \n",
    "#                 image = Image.fromarray(image.astype('uint8')) \n",
    "\n",
    "                #Saving the image in the folder created\n",
    "                cv2.imwrite(os.path.join(FRAMES_PATH , str(action), str(sequence), 'frame'+ str(frame_num) + '.jpg'), image)\n",
    "\n",
    "                # Displaying Image\n",
    "                cv2.destroyAllWindows()\n"
   ]
  },
  {
   "cell_type": "code",
   "execution_count": 54,
   "id": "742e931d",
   "metadata": {},
   "outputs": [],
   "source": [
    "#     cap.release()\n",
    "cv2.destroyAllWindows()"
   ]
  },
  {
   "cell_type": "markdown",
   "id": "bd21b136",
   "metadata": {},
   "source": [
    "# Creating the Dataset"
   ]
  },
  {
   "cell_type": "markdown",
   "id": "7fb1b3b8",
   "metadata": {},
   "source": [
    "### Visualizing dataset frames"
   ]
  },
  {
   "cell_type": "code",
   "execution_count": 16,
   "id": "74910e0f",
   "metadata": {},
   "outputs": [
    {
     "name": "stdout",
     "output_type": "stream",
     "text": [
      "ACTION: Man    Video: 0     Frame: 22\n"
     ]
    },
    {
     "data": {
      "image/png": "[encoded data removed]",
      "text/plain": [
       "<PIL.JpegImagePlugin.JpegImageFile image mode=RGB size=320x240>"
      ]
     },
     "execution_count": 16,
     "metadata": {},
     "output_type": "execute_result"
    }
   ],
   "source": [
    "# man (video 0, frame 22)\n",
    "img_man = image.load_img(\"{}/man/0/frame22.jpg\". format(DATA_PATH))\n",
    "print(\"ACTION: Man    Video: 0     Frame: 22\")\n",
    "img_man"
   ]
  },
  {
   "cell_type": "markdown",
   "id": "38f3d374",
   "metadata": {},
   "source": [
    "## Creating Labels and Features"
   ]
  },
  {
   "cell_type": "code",
   "execution_count": null,
   "id": "4d4a2a96",
   "metadata": {},
   "outputs": [],
   "source": [
    "from sklearn.model_selection import train_test_split"
   ]
  },
  {
   "cell_type": "code",
   "execution_count": null,
   "id": "03592f2b",
   "metadata": {},
   "outputs": [],
   "source": [
    "# Splitting data in 80:10:10 train:validation:test ratio\n",
    "def trainTestSplit(X,y):\n",
    "    x_train, x_temp, y_train, y_temp= train_test_split(X, y, test_size=0.2, random_state=42)\n",
    "    x_val, x_test, y_val, y_test = train_test_split(x_temp, y_temp, test_size = 0.5, random_state=42)\n",
    "    return x_train, y_train, x_val, y_val, x_test, y_test"
   ]
  },
  {
   "cell_type": "markdown",
   "id": "2f4dc733",
   "metadata": {},
   "source": [
    "### Preparing Data with 'Mediapipe Landmarks' stored as numpy arrays"
   ]
  },
  {
   "cell_type": "code",
   "execution_count": 7,
   "id": "641b9556",
   "metadata": {},
   "outputs": [
    {
     "name": "stdout",
     "output_type": "stream",
     "text": [
      "{'police': 10, 'follow': 9, 'call': 12}\n"
     ]
    }
   ],
   "source": [
    "total_video_count = totalVideoCount(DATA_PATH)\n",
    "temp_list = ['police', 'follow', 'call']\n",
    "subset_video_count = {}\n",
    "for temp in temp_list:\n",
    "    subset_video_count[temp] = total_video_count[temp]\n",
    "    \n",
    "print(subset_video_count)"
   ]
  },
  {
   "cell_type": "code",
   "execution_count": 8,
   "id": "f88d74c3",
   "metadata": {},
   "outputs": [],
   "source": [
    "# Setting numeric labels for non numeric action category values\n",
    "# label_map = {label:num for num, label in enumerate(videoCount.keys())} # all classes\n",
    "label_map = {label:num for num, label in enumerate(subset_video_count.keys())} #subset of classes"
   ]
  },
  {
   "cell_type": "code",
   "execution_count": 13,
   "id": "29263b59",
   "metadata": {},
   "outputs": [
    {
     "name": "stdout",
     "output_type": "stream",
     "text": [
      "{'police': 0, 'follow': 1, 'call': 2}\n"
     ]
    }
   ],
   "source": [
    "print(label_map)"
   ]
  },
  {
   "cell_type": "code",
   "execution_count": 1,
   "id": "33039bf3",
   "metadata": {},
   "outputs": [
    {
     "name": "stdout",
     "output_type": "stream",
     "text": [
      "WARNING:tensorflow:From C:\\Users\\revan\\anaconda3\\lib\\site-packages\\keras\\src\\losses.py:2986: The name tf.losses.sparse_softmax_cross_entropy is deprecated. Please use tf.compat.v1.losses.sparse_softmax_cross_entropy instead.\n",
      "\n"
     ]
    }
   ],
   "source": [
    "from sklearn.model_selection import train_test_split\n",
    "from tensorflow.keras.utils import to_categorical"
   ]
  },
  {
   "cell_type": "code",
   "execution_count": 14,
   "id": "798440c4",
   "metadata": {
    "collapsed": true
   },
   "outputs": [
    {
     "ename": "FileNotFoundError",
     "evalue": "[Errno 2] No such file or directory: 'Frames\\\\police\\\\1\\\\33.npy'",
     "output_type": "error",
     "traceback": [
      "\u001b[1;31m---------------------------------------------------------------------------\u001b[0m",
      "\u001b[1;31mFileNotFoundError\u001b[0m                         Traceback (most recent call last)",
      "Cell \u001b[1;32mIn[14], line 8\u001b[0m\n\u001b[0;32m      6\u001b[0m window \u001b[38;5;241m=\u001b[39m []\n\u001b[0;32m      7\u001b[0m \u001b[38;5;28;01mfor\u001b[39;00m frame_num \u001b[38;5;129;01min\u001b[39;00m \u001b[38;5;28mrange\u001b[39m(max_fc):\n\u001b[1;32m----> 8\u001b[0m     res \u001b[38;5;241m=\u001b[39m \u001b[43mnp\u001b[49m\u001b[38;5;241;43m.\u001b[39;49m\u001b[43mload\u001b[49m\u001b[43m(\u001b[49m\u001b[43mos\u001b[49m\u001b[38;5;241;43m.\u001b[39;49m\u001b[43mpath\u001b[49m\u001b[38;5;241;43m.\u001b[39;49m\u001b[43mjoin\u001b[49m\u001b[43m(\u001b[49m\u001b[43mDATA_PATH\u001b[49m\u001b[43m,\u001b[49m\u001b[43m \u001b[49m\u001b[43maction\u001b[49m\u001b[43m,\u001b[49m\u001b[43m \u001b[49m\u001b[38;5;28;43mstr\u001b[39;49m\u001b[43m(\u001b[49m\u001b[43msequence\u001b[49m\u001b[43m)\u001b[49m\u001b[43m,\u001b[49m\u001b[43m \u001b[49m\u001b[38;5;124;43m\"\u001b[39;49m\u001b[38;5;132;43;01m{}\u001b[39;49;00m\u001b[38;5;124;43m.npy\u001b[39;49m\u001b[38;5;124;43m\"\u001b[39;49m\u001b[38;5;241;43m.\u001b[39;49m\u001b[43mformat\u001b[49m\u001b[43m(\u001b[49m\u001b[43mframe_num\u001b[49m\u001b[43m)\u001b[49m\u001b[43m)\u001b[49m\u001b[43m)\u001b[49m\n\u001b[0;32m      9\u001b[0m     window\u001b[38;5;241m.\u001b[39mappend(res)\n\u001b[0;32m     10\u001b[0m features\u001b[38;5;241m.\u001b[39mappend(window)\n",
      "File \u001b[1;32m~\\anaconda3\\lib\\site-packages\\numpy\\lib\\npyio.py:405\u001b[0m, in \u001b[0;36mload\u001b[1;34m(file, mmap_mode, allow_pickle, fix_imports, encoding, max_header_size)\u001b[0m\n\u001b[0;32m    403\u001b[0m     own_fid \u001b[38;5;241m=\u001b[39m \u001b[38;5;28;01mFalse\u001b[39;00m\n\u001b[0;32m    404\u001b[0m \u001b[38;5;28;01melse\u001b[39;00m:\n\u001b[1;32m--> 405\u001b[0m     fid \u001b[38;5;241m=\u001b[39m stack\u001b[38;5;241m.\u001b[39menter_context(\u001b[38;5;28;43mopen\u001b[39;49m\u001b[43m(\u001b[49m\u001b[43mos_fspath\u001b[49m\u001b[43m(\u001b[49m\u001b[43mfile\u001b[49m\u001b[43m)\u001b[49m\u001b[43m,\u001b[49m\u001b[43m \u001b[49m\u001b[38;5;124;43m\"\u001b[39;49m\u001b[38;5;124;43mrb\u001b[39;49m\u001b[38;5;124;43m\"\u001b[39;49m\u001b[43m)\u001b[49m)\n\u001b[0;32m    406\u001b[0m     own_fid \u001b[38;5;241m=\u001b[39m \u001b[38;5;28;01mTrue\u001b[39;00m\n\u001b[0;32m    408\u001b[0m \u001b[38;5;66;03m# Code to distinguish from NumPy binary files and pickles.\u001b[39;00m\n",
      "\u001b[1;31mFileNotFoundError\u001b[0m: [Errno 2] No such file or directory: 'Frames\\\\police\\\\1\\\\33.npy'"
     ]
    }
   ],
   "source": [
    "#features = non target columns    labels = target columns\n",
    "\n",
    "max_fc = 60\n",
    "features, labels = [], []\n",
    "# Iterating through each action\n",
    "for action in subset_video_count.keys():\n",
    "    # Iterting through each video in the action\n",
    "    for sequence in range(subset_video_count[action]):\n",
    "        # Declaring a list to store the frames of each video\n",
    "        window = []\n",
    "        # Iterating through each landmark numpy array\n",
    "        for frame_num in range(max_fc):\n",
    "            \n",
    "            # Declaring directory of the keypoints\n",
    "            IMAGE_PATH = os.path.join(DATA_PATH, action, str(sequence), \"{}.npy\".format(frame_num))\n",
    "            \n",
    "            # Loading the numpy array\n",
    "            res = np.load(IMAGE_PATH)\n",
    "            \n",
    "            # Appending to the list\n",
    "            window.append(res)\n",
    "            \n",
    "        # Adding to the dataset\n",
    "        features.append(window)\n",
    "        labels.append(label_map[action])"
   ]
  },
  {
   "cell_type": "code",
   "execution_count": null,
   "id": "44cc4f53",
   "metadata": {},
   "outputs": [],
   "source": [
    "# np.array(features).shape\n",
    "X = np.array(features)"
   ]
  },
  {
   "cell_type": "code",
   "execution_count": null,
   "id": "62390ca3",
   "metadata": {},
   "outputs": [],
   "source": [
    "# np.array(labels).shape\n",
    "# The below code will convert the target class to this format: [1,0,0], [0,1,0], [0,0,1] \n",
    "y = to_categorical(labels).astype(int)\n",
    "y"
   ]
  },
  {
   "cell_type": "code",
   "execution_count": null,
   "id": "a6512f0c",
   "metadata": {},
   "outputs": [],
   "source": [
    "# Splitting into Train, Validation and Test\n",
    "X_train, y_train, X_val, y_val, X_test, y_test = trainTestSplit(X, y)"
   ]
  },
  {
   "cell_type": "markdown",
   "id": "163062cb",
   "metadata": {},
   "source": [
    "### Preparing Data with Extracted Frames"
   ]
  },
  {
   "cell_type": "code",
   "execution_count": 22,
   "id": "c1a52b3c",
   "metadata": {},
   "outputs": [],
   "source": [
    "IMAGE_PATH = r'C:\\Users\\revan\\Downloads\\frame101.jpg'\n",
    "DATA_PATH = r'C:\\Users\\revan\\Downloads\\BOOK.mp4'\n",
    "IM_PATH = r'C:\\Users\\revan\\Downloads\\frame101.npy'"
   ]
  },
  {
   "cell_type": "code",
   "execution_count": 23,
   "id": "b0557ab0",
   "metadata": {},
   "outputs": [
    {
     "ename": "error",
     "evalue": "OpenCV(4.8.1) D:\\a\\opencv-python\\opencv-python\\opencv\\modules\\imgcodecs\\src\\loadsave.cpp:696: error: (-2:Unspecified error) could not find a writer for the specified extension in function 'cv::imwrite_'\n",
     "output_type": "error",
     "traceback": [
      "\u001b[1;31m---------------------------------------------------------------------------\u001b[0m",
      "\u001b[1;31merror\u001b[0m                                     Traceback (most recent call last)",
      "Cell \u001b[1;32mIn[23], line 7\u001b[0m\n\u001b[0;32m      4\u001b[0m frame \u001b[38;5;241m=\u001b[39m frame[:, :, [\u001b[38;5;241m2\u001b[39m, \u001b[38;5;241m1\u001b[39m, \u001b[38;5;241m0\u001b[39m]]\n\u001b[0;32m      5\u001b[0m \u001b[38;5;66;03m# image = Image.fromarray(frame.astype('uint8')) \u001b[39;00m\n\u001b[0;32m      6\u001b[0m \u001b[38;5;66;03m# new_image := np.array(image)\u001b[39;00m\n\u001b[1;32m----> 7\u001b[0m \u001b[43mcv2\u001b[49m\u001b[38;5;241;43m.\u001b[39;49m\u001b[43mimwrite\u001b[49m\u001b[43m(\u001b[49m\u001b[43mIM_PATH\u001b[49m\u001b[43m,\u001b[49m\u001b[43mnew_image\u001b[49m\u001b[43m)\u001b[49m\n",
      "\u001b[1;31merror\u001b[0m: OpenCV(4.8.1) D:\\a\\opencv-python\\opencv-python\\opencv\\modules\\imgcodecs\\src\\loadsave.cpp:696: error: (-2:Unspecified error) could not find a writer for the specified extension in function 'cv::imwrite_'\n"
     ]
    }
   ],
   "source": [
    "# cap = cv2.VideoCapture(DATA_PATH)\n",
    "# # DATAPATH = os.path.join(DATA_PATH, action, str(sequence), \"{}.npy\".format(frame_num))\n",
    "frame = cv2.imread(IMAGE_PATH)\n",
    "frame = frame[:, :, [2, 1, 0]]\n",
    "# image = Image.fromarray(frame.astype('uint8')) \n",
    "# new_image := np.array(image)\n",
    "# cv2.imwrite(IM_PATH,new_image)\n",
    "# image.show()"
   ]
  },
  {
   "cell_type": "code",
   "execution_count": null,
   "id": "3900ef4b",
   "metadata": {},
   "outputs": [],
   "source": [
    "max_fc = 60\n",
    "videoFrames=[]\n",
    "videolabels=[]\n",
    "# Iterating through each action\n",
    "for action in subset_video_count.keys():\n",
    "    # Iterting through each video in the action\n",
    "    for sequence in range(subset_video_count[action]):\n",
    "        # Declaring a list to store the frames of each video\n",
    "        frames = []\n",
    "        # Iterating through each landmark numpy array\n",
    "        for frame_num in range(max_fc):\n",
    "            # Loading the image frame\n",
    "            frame = cv2.imread(os.path.join(DATA_PATH, action, str(sequence), \"frame{}\".format(frame_num) + \".jpg\"))\n",
    "            \n",
    "            # Converting BGR -> RGB\n",
    "            frame = frame[:, :, [2, 1, 0]]\n",
    "            \n",
    "            # Normalize the pixel values\n",
    "            frame = frame / 255.0\n",
    "            \n",
    "            # Appending to the list\n",
    "            frames.append(frame)\n",
    "            \n",
    "        # Adding to the dataset\n",
    "        videoFrames.append(frames)\n",
    "        videolabels.append(label_map[action])"
   ]
  },
  {
   "cell_type": "code",
   "execution_count": null,
   "id": "0e83168f",
   "metadata": {},
   "outputs": [],
   "source": [
    "# np.array(features).shape\n",
    "X = np.array(videoFrames)"
   ]
  },
  {
   "cell_type": "code",
   "execution_count": null,
   "id": "54813e46",
   "metadata": {},
   "outputs": [],
   "source": [
    "np.array(labels).shape\n",
    "# The below code will convert the target class to this format: [1,0,0], [0,1,0], [0,0,1] \n",
    "y = to_categorical(videolabels).astype(int)\n",
    "y"
   ]
  },
  {
   "cell_type": "code",
   "execution_count": null,
   "id": "e3062780",
   "metadata": {},
   "outputs": [],
   "source": [
    "# Splitting into Train, Validation and Test\n",
    "X_train, y_train, X_val, y_val, X_test, y_test = trainTestSplit(X, y)"
   ]
  },
  {
   "cell_type": "code",
   "execution_count": null,
   "id": "7eae675e",
   "metadata": {},
   "outputs": [],
   "source": [
    "X_train.shape"
   ]
  },
  {
   "cell_type": "code",
   "execution_count": null,
   "id": "8de003a7",
   "metadata": {},
   "outputs": [],
   "source": [
    "X_test.shape"
   ]
  },
  {
   "cell_type": "code",
   "execution_count": null,
   "id": "a5860b87",
   "metadata": {},
   "outputs": [],
   "source": []
  },
  {
   "cell_type": "code",
   "execution_count": null,
   "id": "cb1cab63",
   "metadata": {},
   "outputs": [],
   "source": []
  },
  {
   "cell_type": "markdown",
   "id": "1f8b2e1b",
   "metadata": {},
   "source": [
    "## Building the model"
   ]
  },
  {
   "cell_type": "code",
   "execution_count": 7,
   "id": "e3099f6a",
   "metadata": {},
   "outputs": [],
   "source": [
    "# tensorflow\n",
    "import tensorflow.keras as keras\n",
    "import tensorflow as tf\n",
    "\n",
    "# image processing\n",
    "from tensorflow.keras.preprocessing import image\n",
    "from tensorflow.keras.preprocessing.image import ImageDataGenerator, load_img\n",
    "\n",
    "# model / neural network\n",
    "from tensorflow.keras import layers\n",
    "from tensorflow.keras.models import Sequential, Model\n",
    "from tensorflow.keras.applications import ResNet50\n",
    "from tensorflow.keras.applications.resnet50 import preprocess_input"
   ]
  },
  {
   "cell_type": "markdown",
   "id": "74368859",
   "metadata": {},
   "source": [
    "RESNET 50"
   ]
  },
  {
   "cell_type": "code",
   "execution_count": null,
   "id": "c3c1d361",
   "metadata": {},
   "outputs": [],
   "source": [
    "# ResNet50 model\n",
    "resnet_50 = ResNet50(include_top=False, weights='imagenet', input_shape=(224,224,3))\n",
    "for layer in resnet_50.layers:\n",
    "    layer.trainable = False"
   ]
  },
  {
   "cell_type": "code",
   "execution_count": null,
   "id": "6f1a59cf",
   "metadata": {},
   "outputs": [],
   "source": [
    "# build the entire model\n",
    "x = resnet_50.output\n",
    "x = layers.GlobalAveragePooling2D()(x)\n",
    "x = layers.Dense(512, activation='relu')(x) \n",
    "x = layers.Dropout(0.5)(x)\n",
    "x = layers.Dense(256, activation='relu')(x) \n",
    "x = layers.Dropout(0.5)(x)\n",
    "x = layers.Dense(128, activation='relu')(x) \n",
    "x = layers.Dropout(0.5)(x)\n",
    "x = layers.Dense(64, activation='relu')(x) \n",
    "x = layers.Dropout(0.5)(x)\n",
    "predictions = layers.Dense(5, activation='softmax')(x)\n",
    "model = Model(inputs = resnet_50.input, outputs = predictions)"
   ]
  },
  {
   "cell_type": "markdown",
   "id": "c5d0b438",
   "metadata": {},
   "source": [
    "3D CNN"
   ]
  },
  {
   "cell_type": "code",
   "execution_count": null,
   "id": "2e77ef3b",
   "metadata": {},
   "outputs": [],
   "source": [
    "import numpy as np \n",
    "import h5py\n",
    "from tensorflow.keras.utils import to_categorical\n",
    "from tensorflow.keras import layers\n",
    "from tensorflow.keras.models import Sequential\n",
    "from tensorflow.keras.initializers import Constant\n",
    "from tensorflow.keras.optimizers import Adam\n",
    "from tensorflow.keras.callbacks import EarlyStopping"
   ]
  },
  {
   "cell_type": "code",
   "execution_count": null,
   "id": "c1b657a5",
   "metadata": {},
   "outputs": [],
   "source": [
    "model = Sequential()\n",
    "model.add(layers.Conv3D(32,(3,3,3),activation='relu',input_shape=(16,16,16,1),bias_initializer=Constant(0.01)))\n",
    "model.add(layers.Conv3D(32,(3,3,3),activation='relu',bias_initializer=Constant(0.01)))\n",
    "model.add(layers.MaxPooling3D((2,2,2)))\n",
    "model.add(layers.Conv3D(64,(3,3,3),activation='relu'))\n",
    "model.add(layers.Conv3D(64,(2,2,2),activation='relu'))\n",
    "model.add(layers.MaxPooling3D((2,2,2)))\n",
    "model.add(layers.Dropout(0.6))\n",
    "model.add(layers.Flatten())\n",
    "model.add(layers.Dense(256,'relu'))\n",
    "model.add(layers.Dropout(0.7))\n",
    "model.add(layers.Dense(128,'relu'))\n",
    "model.add(layers.Dropout(0.5))\n",
    "model.add(layers.Dense(10,'softmax'))\n",
    "model.summary()"
   ]
  },
  {
   "cell_type": "code",
   "execution_count": null,
   "id": "7c5949e7",
   "metadata": {},
   "outputs": [],
   "source": [
    "model.compile(Adam(0.001),'categorical_crossentropy',['accuracy'])\n",
    "model.fit(xtrain,ytrain,epochs=200,batch_size=32,verbose=1,validation_data=(xtest,ytest),callbacks=[EarlyStopping(patience=15)])\n",
    "Testing the 3D-CNN\n",
    "_, acc = model.evaluate(xtrain, ytrain)\n",
    "print('training accuracy:', str(round(acc*100, 2))+'%')\n",
    "_, acc = model.evaluate(xtest, ytest)\n",
    "print('testing accuracy:', str(round(acc*100, 2))+'%')"
   ]
  },
  {
   "cell_type": "markdown",
   "id": "30fe6be3",
   "metadata": {},
   "source": [
    "TRANSFORMER"
   ]
  },
  {
   "cell_type": "code",
   "execution_count": null,
   "id": "31e66322",
   "metadata": {},
   "outputs": [],
   "source": [
    "import tensorflow as tf\n",
    "from tensorflow import keras\n",
    "# Define the number of layers, heads, and dimensions of the model\n",
    "num_layers = 6\n",
    "num_heads = 8\n",
    "d_model = 512\n",
    "# Define the encoder and decoder layers\n",
    "encoder_layers = [\n",
    "    keras.layers.MultiHeadAttention(num_heads, d_model),\n",
    "    keras.layers.Dropout(0.1),\n",
    "    keras.layers.Add(),\n",
    "    keras.layers.LayerNormalization()\n",
    "]\n",
    "decoder_layers = [\n",
    "    keras.layers.MultiHeadAttention(num_heads, d_model),\n",
    "    keras.layers.Dropout(0.1),\n",
    "    keras.layers.Add(),\n",
    "    keras.layers.LayerNormalization()\n",
    "]\n",
    "# Create the encoder and decoder\n",
    "encoder = keras.layers.Encoder(encoder_layers, num_layers)\n",
    "decoder = keras.layers.Decoder(decoder_layers, num_layers)\n",
    "# Define the final model\n",
    "model = keras.models.Transformer(encoder, decoder)\n",
    "# Define the optimizer and loss function\n",
    "optimizer = keras.optimizers.Adam()\n",
    "loss_fn = keras.losses.CategoricalCrossentropy()\n",
    "# Compile the model\n",
    "model.compile(optimizer=optimizer, loss=loss_fn)\n",
    "# Train the model on your dataset\n",
    "model.fit(x_train, y_train, epochs=10, batch_size=64)"
   ]
  },
  {
   "cell_type": "code",
   "execution_count": null,
   "id": "15a7f7b3",
   "metadata": {},
   "outputs": [],
   "source": []
  },
  {
   "cell_type": "code",
   "execution_count": null,
   "id": "51f91f7b",
   "metadata": {},
   "outputs": [],
   "source": []
  },
  {
   "cell_type": "markdown",
   "id": "77e5d787",
   "metadata": {},
   "source": [
    "## Training the model"
   ]
  },
  {
   "cell_type": "code",
   "execution_count": null,
   "id": "4b97bb89",
   "metadata": {},
   "outputs": [],
   "source": [
    "#Splitting the data into train, validation and test datasets"
   ]
  },
  {
   "cell_type": "code",
   "execution_count": null,
   "id": "b565bda0",
   "metadata": {},
   "outputs": [],
   "source": [
    "# define training function\n",
    "def trainModel(model, epochs, optimizer):\n",
    "    batch_size = 32\n",
    "    model.compile(optimizer=optimizer, loss=\"sparse_categorical_crossentropy\", metrics=[\"accuracy\"])\n",
    "    return model.fit(train_generator, validation_data=valid_generator, epochs=epochs, batch_size=batch_size)"
   ]
  },
  {
   "cell_type": "code",
   "execution_count": null,
   "id": "e453b680",
   "metadata": {},
   "outputs": [],
   "source": [
    "# launch the training\n",
    "model_history = trainModel(model = model, epochs = 10, optimizer = \"Adam\")"
   ]
  },
  {
   "cell_type": "code",
   "execution_count": null,
   "id": "0767fa42",
   "metadata": {},
   "outputs": [],
   "source": []
  },
  {
   "cell_type": "code",
   "execution_count": null,
   "id": "bb823909",
   "metadata": {},
   "outputs": [],
   "source": []
  }
 ],
 "metadata": {
  "kernelspec": {
   "display_name": "Python 3 (ipykernel)",
   "language": "python",
   "name": "python3"
  },
  "language_info": {
   "codemirror_mode": {
    "name": "ipython",
    "version": 3
   },
   "file_extension": ".py",
   "mimetype": "text/x-python",
   "name": "python",
   "nbconvert_exporter": "python",
   "pygments_lexer": "ipython3",
   "version": "3.10.9"
  }
 },
 "nbformat": 4,
 "nbformat_minor": 5
}
